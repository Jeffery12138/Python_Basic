{
 "cells": [
  {
   "cell_type": "markdown",
   "metadata": {},
   "source": [
    "# 7.3.1 安装MongoDB"
   ]
  },
  {
   "cell_type": "markdown",
   "metadata": {},
   "source": [
    "# 7.3.2 启动"
   ]
  },
  {
   "cell_type": "code",
   "execution_count": 2,
   "metadata": {},
   "outputs": [],
   "source": [
    "# mongo\n",
    "\n",
    "# use mydb ## 全局变量db，使用哪个数据库，就赋值给db，如果数据库不存在，就会新建\n",
    "\n",
    "# show dbs ## 除非向这个数据库增加实质性内容，否则它是看不到的\n",
    "## admin   0.000GB\n",
    "## config  0.000GB\n",
    "## local   0.000GB\n",
    "\n",
    "# book = {\"title\": \"from beginner to master\", \"author\": \"qiwsir\", \"lang\": \"python\"}\n",
    "# db.books.insert(book)\n",
    "# db.books.find()\n",
    "## { \"_id\" : ObjectId(\"5fc227e06027ff5ab3bf02bd\"), \"title\" : \"from beginner to master\", \"author\" : \"qiwsir\", \"lang\" : \"python\" }\n",
    "## books是数据库mydb里的一个集合\n",
    "## 向数据库增加内容"
   ]
  },
  {
   "cell_type": "markdown",
   "metadata": {},
   "source": [
    "## “随用/随取/随建立”"
   ]
  },
  {
   "cell_type": "code",
   "execution_count": 3,
   "metadata": {},
   "outputs": [],
   "source": [
    "# 并没有create之类的命令，用到数据库，就通过use xxx，如果不存在，就建立；\n",
    "# 用到集合，就通过db.xxx来使用，如果没有就建立"
   ]
  },
  {
   "cell_type": "markdown",
   "metadata": {},
   "source": [
    "# 7.3.3 安装pymongo"
   ]
  },
  {
   "cell_type": "code",
   "execution_count": 4,
   "metadata": {},
   "outputs": [],
   "source": [
    "# sudo pip3 install pymongo"
   ]
  },
  {
   "cell_type": "code",
   "execution_count": 5,
   "metadata": {},
   "outputs": [],
   "source": [
    "import pymongo"
   ]
  },
  {
   "cell_type": "code",
   "execution_count": 6,
   "metadata": {},
   "outputs": [
    {
     "data": {
      "text/plain": [
       "'3.11.1'"
      ]
     },
     "execution_count": 6,
     "metadata": {},
     "output_type": "execute_result"
    }
   ],
   "source": [
    "pymongo.version"
   ]
  },
  {
   "cell_type": "markdown",
   "metadata": {},
   "source": [
    "# 7.3.4 连接"
   ]
  },
  {
   "cell_type": "code",
   "execution_count": 7,
   "metadata": {},
   "outputs": [
    {
     "ename": "AttributeError",
     "evalue": "module 'pymongo' has no attribute 'Connection'",
     "output_type": "error",
     "traceback": [
      "\u001b[0;31m---------------------------------------------------------------------------\u001b[0m",
      "\u001b[0;31mAttributeError\u001b[0m                            Traceback (most recent call last)",
      "\u001b[0;32m<ipython-input-7-054e5871cedd>\u001b[0m in \u001b[0;36m<module>\u001b[0;34m\u001b[0m\n\u001b[0;32m----> 1\u001b[0;31m \u001b[0mpymongo\u001b[0m\u001b[0;34m.\u001b[0m\u001b[0mConnection\u001b[0m\u001b[0;34m(\u001b[0m\u001b[0;34m\"localhost\"\u001b[0m\u001b[0;34m,\u001b[0m \u001b[0;36m27017\u001b[0m\u001b[0;34m)\u001b[0m\u001b[0;34m\u001b[0m\u001b[0;34m\u001b[0m\u001b[0m\n\u001b[0m",
      "\u001b[0;31mAttributeError\u001b[0m: module 'pymongo' has no attribute 'Connection'"
     ]
    }
   ],
   "source": [
    "pymongo.Connection(\"localhost\", 27017)"
   ]
  },
  {
   "cell_type": "code",
   "execution_count": 8,
   "metadata": {
    "scrolled": true
   },
   "outputs": [
    {
     "data": {
      "text/plain": [
       "['ALL',\n",
       " 'ASCENDING',\n",
       " 'CursorType',\n",
       " 'DESCENDING',\n",
       " 'DeleteMany',\n",
       " 'DeleteOne',\n",
       " 'GEO2D',\n",
       " 'GEOHAYSTACK',\n",
       " 'GEOSPHERE',\n",
       " 'HASHED',\n",
       " 'IndexModel',\n",
       " 'InsertOne',\n",
       " 'MAX_SUPPORTED_WIRE_VERSION',\n",
       " 'MIN_SUPPORTED_WIRE_VERSION',\n",
       " 'MongoClient',\n",
       " 'MongoReplicaSetClient',\n",
       " 'OFF',\n",
       " 'ReadPreference',\n",
       " 'ReplaceOne',\n",
       " 'ReturnDocument',\n",
       " 'SLOW_ONLY',\n",
       " 'TEXT',\n",
       " 'UpdateMany',\n",
       " 'UpdateOne',\n",
       " 'WriteConcern',\n",
       " '__builtins__',\n",
       " '__cached__',\n",
       " '__doc__',\n",
       " '__file__',\n",
       " '__loader__',\n",
       " '__name__',\n",
       " '__package__',\n",
       " '__path__',\n",
       " '__spec__',\n",
       " '__version__',\n",
       " '_cmessage',\n",
       " 'aggregation',\n",
       " 'auth',\n",
       " 'auth_aws',\n",
       " 'bulk',\n",
       " 'change_stream',\n",
       " 'client_options',\n",
       " 'client_session',\n",
       " 'collation',\n",
       " 'collection',\n",
       " 'command_cursor',\n",
       " 'common',\n",
       " 'compression_support',\n",
       " 'cursor',\n",
       " 'cursor_manager',\n",
       " 'database',\n",
       " 'driver_info',\n",
       " 'encryption_options',\n",
       " 'errors',\n",
       " 'get_version_string',\n",
       " 'has_c',\n",
       " 'helpers',\n",
       " 'ismaster',\n",
       " 'max_staleness_selectors',\n",
       " 'message',\n",
       " 'mongo_client',\n",
       " 'mongo_replica_set_client',\n",
       " 'monitor',\n",
       " 'monitoring',\n",
       " 'monotonic',\n",
       " 'network',\n",
       " 'operations',\n",
       " 'periodic_executor',\n",
       " 'pool',\n",
       " 'read_concern',\n",
       " 'read_preferences',\n",
       " 'response',\n",
       " 'results',\n",
       " 'saslprep',\n",
       " 'server',\n",
       " 'server_description',\n",
       " 'server_selectors',\n",
       " 'server_type',\n",
       " 'settings',\n",
       " 'socket_checker',\n",
       " 'son_manipulator',\n",
       " 'srv_resolver',\n",
       " 'ssl_context',\n",
       " 'ssl_match_hostname',\n",
       " 'ssl_support',\n",
       " 'thread_util',\n",
       " 'topology',\n",
       " 'topology_description',\n",
       " 'uri_parser',\n",
       " 'version',\n",
       " 'version_tuple',\n",
       " 'write_concern']"
      ]
     },
     "execution_count": 8,
     "metadata": {},
     "output_type": "execute_result"
    }
   ],
   "source": [
    "dir(pymongo)"
   ]
  },
  {
   "cell_type": "code",
   "execution_count": 9,
   "metadata": {},
   "outputs": [
    {
     "name": "stdout",
     "output_type": "stream",
     "text": [
      "Help on class MongoClient in module pymongo.mongo_client:\n",
      "\n",
      "class MongoClient(pymongo.common.BaseObject)\n",
      " |  MongoClient(host=None, port=None, document_class=<class 'dict'>, tz_aware=None, connect=None, type_registry=None, **kwargs)\n",
      " |  \n",
      " |  A client-side representation of a MongoDB cluster.\n",
      " |  \n",
      " |  Instances can represent either a standalone MongoDB server, a replica\n",
      " |  set, or a sharded cluster. Instances of this class are responsible for\n",
      " |  maintaining up-to-date state of the cluster, and possibly cache\n",
      " |  resources related to this, including background threads for monitoring,\n",
      " |  and connection pools.\n",
      " |  \n",
      " |  Method resolution order:\n",
      " |      MongoClient\n",
      " |      pymongo.common.BaseObject\n",
      " |      builtins.object\n",
      " |  \n",
      " |  Methods defined here:\n",
      " |  \n",
      " |  __enter__(self)\n",
      " |  \n",
      " |  __eq__(self, other)\n",
      " |      Return self==value.\n",
      " |  \n",
      " |  __exit__(self, exc_type, exc_val, exc_tb)\n",
      " |  \n",
      " |  __getattr__(self, name)\n",
      " |      Get a database by name.\n",
      " |      \n",
      " |      Raises :class:`~pymongo.errors.InvalidName` if an invalid\n",
      " |      database name is used.\n",
      " |      \n",
      " |      :Parameters:\n",
      " |        - `name`: the name of the database to get\n",
      " |  \n",
      " |  __getitem__(self, name)\n",
      " |      Get a database by name.\n",
      " |      \n",
      " |      Raises :class:`~pymongo.errors.InvalidName` if an invalid\n",
      " |      database name is used.\n",
      " |      \n",
      " |      :Parameters:\n",
      " |        - `name`: the name of the database to get\n",
      " |  \n",
      " |  __init__(self, host=None, port=None, document_class=<class 'dict'>, tz_aware=None, connect=None, type_registry=None, **kwargs)\n",
      " |      Client for a MongoDB instance, a replica set, or a set of mongoses.\n",
      " |      \n",
      " |      The client object is thread-safe and has connection-pooling built in.\n",
      " |      If an operation fails because of a network error,\n",
      " |      :class:`~pymongo.errors.ConnectionFailure` is raised and the client\n",
      " |      reconnects in the background. Application code should handle this\n",
      " |      exception (recognizing that the operation failed) and then continue to\n",
      " |      execute.\n",
      " |      \n",
      " |      The `host` parameter can be a full `mongodb URI\n",
      " |      <http://dochub.mongodb.org/core/connections>`_, in addition to\n",
      " |      a simple hostname. It can also be a list of hostnames or\n",
      " |      URIs. Any port specified in the host string(s) will override\n",
      " |      the `port` parameter. If multiple mongodb URIs containing\n",
      " |      database or auth information are passed, the last database,\n",
      " |      username, and password present will be used.  For username and\n",
      " |      passwords reserved characters like ':', '/', '+' and '@' must be\n",
      " |      percent encoded following RFC 2396::\n",
      " |      \n",
      " |          try:\n",
      " |              # Python 3.x\n",
      " |              from urllib.parse import quote_plus\n",
      " |          except ImportError:\n",
      " |              # Python 2.x\n",
      " |              from urllib import quote_plus\n",
      " |      \n",
      " |          uri = \"mongodb://%s:%s@%s\" % (\n",
      " |              quote_plus(user), quote_plus(password), host)\n",
      " |          client = MongoClient(uri)\n",
      " |      \n",
      " |      Unix domain sockets are also supported. The socket path must be percent\n",
      " |      encoded in the URI::\n",
      " |      \n",
      " |          uri = \"mongodb://%s:%s@%s\" % (\n",
      " |              quote_plus(user), quote_plus(password), quote_plus(socket_path))\n",
      " |          client = MongoClient(uri)\n",
      " |      \n",
      " |      But not when passed as a simple hostname::\n",
      " |      \n",
      " |          client = MongoClient('/tmp/mongodb-27017.sock')\n",
      " |      \n",
      " |      Starting with version 3.6, PyMongo supports mongodb+srv:// URIs. The\n",
      " |      URI must include one, and only one, hostname. The hostname will be\n",
      " |      resolved to one or more DNS `SRV records\n",
      " |      <https://en.wikipedia.org/wiki/SRV_record>`_ which will be used\n",
      " |      as the seed list for connecting to the MongoDB deployment. When using\n",
      " |      SRV URIs, the `authSource` and `replicaSet` configuration options can\n",
      " |      be specified using `TXT records\n",
      " |      <https://en.wikipedia.org/wiki/TXT_record>`_. See the\n",
      " |      `Initial DNS Seedlist Discovery spec\n",
      " |      <https://github.com/mongodb/specifications/blob/master/source/\n",
      " |      initial-dns-seedlist-discovery/initial-dns-seedlist-discovery.rst>`_\n",
      " |      for more details. Note that the use of SRV URIs implicitly enables\n",
      " |      TLS support. Pass tls=false in the URI to override.\n",
      " |      \n",
      " |      .. note:: MongoClient creation will block waiting for answers from\n",
      " |        DNS when mongodb+srv:// URIs are used.\n",
      " |      \n",
      " |      .. note:: Starting with version 3.0 the :class:`MongoClient`\n",
      " |        constructor no longer blocks while connecting to the server or\n",
      " |        servers, and it no longer raises\n",
      " |        :class:`~pymongo.errors.ConnectionFailure` if they are\n",
      " |        unavailable, nor :class:`~pymongo.errors.ConfigurationError`\n",
      " |        if the user's credentials are wrong. Instead, the constructor\n",
      " |        returns immediately and launches the connection process on\n",
      " |        background threads. You can check if the server is available\n",
      " |        like this::\n",
      " |      \n",
      " |          from pymongo.errors import ConnectionFailure\n",
      " |          client = MongoClient()\n",
      " |          try:\n",
      " |              # The ismaster command is cheap and does not require auth.\n",
      " |              client.admin.command('ismaster')\n",
      " |          except ConnectionFailure:\n",
      " |              print(\"Server not available\")\n",
      " |      \n",
      " |      .. warning:: When using PyMongo in a multiprocessing context, please\n",
      " |        read :ref:`multiprocessing` first.\n",
      " |      \n",
      " |      .. note:: Many of the following options can be passed using a MongoDB\n",
      " |        URI or keyword parameters. If the same option is passed in a URI and\n",
      " |        as a keyword parameter the keyword parameter takes precedence.\n",
      " |      \n",
      " |      :Parameters:\n",
      " |        - `host` (optional): hostname or IP address or Unix domain socket\n",
      " |          path of a single mongod or mongos instance to connect to, or a\n",
      " |          mongodb URI, or a list of hostnames / mongodb URIs. If `host` is\n",
      " |          an IPv6 literal it must be enclosed in '[' and ']' characters\n",
      " |          following the RFC2732 URL syntax (e.g. '[::1]' for localhost).\n",
      " |          Multihomed and round robin DNS addresses are **not** supported.\n",
      " |        - `port` (optional): port number on which to connect\n",
      " |        - `document_class` (optional): default class to use for\n",
      " |          documents returned from queries on this client\n",
      " |        - `type_registry` (optional): instance of\n",
      " |          :class:`~bson.codec_options.TypeRegistry` to enable encoding\n",
      " |          and decoding of custom types.\n",
      " |        - `tz_aware` (optional): if ``True``,\n",
      " |          :class:`~datetime.datetime` instances returned as values\n",
      " |          in a document by this :class:`MongoClient` will be timezone\n",
      " |          aware (otherwise they will be naive)\n",
      " |        - `connect` (optional): if ``True`` (the default), immediately\n",
      " |          begin connecting to MongoDB in the background. Otherwise connect\n",
      " |          on the first operation.\n",
      " |        - `directConnection` (optional): if ``True``, forces this client to\n",
      " |           connect directly to the specified MongoDB host as a standalone.\n",
      " |           If ``false``, the client connects to the entire replica set of\n",
      " |           which the given MongoDB host(s) is a part. If this is ``True``\n",
      " |           and a mongodb+srv:// URI or a URI containing multiple seeds is\n",
      " |           provided, an exception will be raised.\n",
      " |      \n",
      " |        | **Other optional parameters can be passed as keyword arguments:**\n",
      " |      \n",
      " |        - `maxPoolSize` (optional): The maximum allowable number of\n",
      " |          concurrent connections to each connected server. Requests to a\n",
      " |          server will block if there are `maxPoolSize` outstanding\n",
      " |          connections to the requested server. Defaults to 100. Cannot be 0.\n",
      " |        - `minPoolSize` (optional): The minimum required number of concurrent\n",
      " |          connections that the pool will maintain to each connected server.\n",
      " |          Default is 0.\n",
      " |        - `maxIdleTimeMS` (optional): The maximum number of milliseconds that\n",
      " |          a connection can remain idle in the pool before being removed and\n",
      " |          replaced. Defaults to `None` (no limit).\n",
      " |        - `socketTimeoutMS`: (integer or None) Controls how long (in\n",
      " |          milliseconds) the driver will wait for a response after sending an\n",
      " |          ordinary (non-monitoring) database operation before concluding that\n",
      " |          a network error has occurred. ``0`` or ``None`` means no timeout.\n",
      " |          Defaults to ``None`` (no timeout).\n",
      " |        - `connectTimeoutMS`: (integer or None) Controls how long (in\n",
      " |          milliseconds) the driver will wait during server monitoring when\n",
      " |          connecting a new socket to a server before concluding the server\n",
      " |          is unavailable. ``0`` or ``None`` means no timeout.\n",
      " |          Defaults to ``20000`` (20 seconds).\n",
      " |        - `server_selector`: (callable or None) Optional, user-provided\n",
      " |          function that augments server selection rules. The function should\n",
      " |          accept as an argument a list of\n",
      " |          :class:`~pymongo.server_description.ServerDescription` objects and\n",
      " |          return a list of server descriptions that should be considered\n",
      " |          suitable for the desired operation.\n",
      " |        - `serverSelectionTimeoutMS`: (integer) Controls how long (in\n",
      " |          milliseconds) the driver will wait to find an available,\n",
      " |          appropriate server to carry out a database operation; while it is\n",
      " |          waiting, multiple server monitoring operations may be carried out,\n",
      " |          each controlled by `connectTimeoutMS`. Defaults to ``30000`` (30\n",
      " |          seconds).\n",
      " |        - `waitQueueTimeoutMS`: (integer or None) How long (in milliseconds)\n",
      " |          a thread will wait for a socket from the pool if the pool has no\n",
      " |          free sockets. Defaults to ``None`` (no timeout).\n",
      " |        - `waitQueueMultiple`: (integer or None) Multiplied by maxPoolSize\n",
      " |          to give the number of threads allowed to wait for a socket at one\n",
      " |          time. Defaults to ``None`` (no limit).\n",
      " |        - `heartbeatFrequencyMS`: (optional) The number of milliseconds\n",
      " |          between periodic server checks, or None to accept the default\n",
      " |          frequency of 10 seconds.\n",
      " |        - `appname`: (string or None) The name of the application that\n",
      " |          created this MongoClient instance. MongoDB 3.4 and newer will\n",
      " |          print this value in the server log upon establishing each\n",
      " |          connection. It is also recorded in the slow query log and\n",
      " |          profile collections.\n",
      " |        - `driver`: (pair or None) A driver implemented on top of PyMongo can\n",
      " |          pass a :class:`~pymongo.driver_info.DriverInfo` to add its name,\n",
      " |          version, and platform to the message printed in the server log when\n",
      " |          establishing a connection.\n",
      " |        - `event_listeners`: a list or tuple of event listeners. See\n",
      " |          :mod:`~pymongo.monitoring` for details.\n",
      " |        - `retryWrites`: (boolean) Whether supported write operations\n",
      " |          executed within this MongoClient will be retried once after a\n",
      " |          network error on MongoDB 3.6+. Defaults to ``True``.\n",
      " |          The supported write operations are:\n",
      " |      \n",
      " |            - :meth:`~pymongo.collection.Collection.bulk_write`, as long as\n",
      " |              :class:`~pymongo.operations.UpdateMany` or\n",
      " |              :class:`~pymongo.operations.DeleteMany` are not included.\n",
      " |            - :meth:`~pymongo.collection.Collection.delete_one`\n",
      " |            - :meth:`~pymongo.collection.Collection.insert_one`\n",
      " |            - :meth:`~pymongo.collection.Collection.insert_many`\n",
      " |            - :meth:`~pymongo.collection.Collection.replace_one`\n",
      " |            - :meth:`~pymongo.collection.Collection.update_one`\n",
      " |            - :meth:`~pymongo.collection.Collection.find_one_and_delete`\n",
      " |            - :meth:`~pymongo.collection.Collection.find_one_and_replace`\n",
      " |            - :meth:`~pymongo.collection.Collection.find_one_and_update`\n",
      " |      \n",
      " |          Unsupported write operations include, but are not limited to,\n",
      " |          :meth:`~pymongo.collection.Collection.aggregate` using the ``$out``\n",
      " |          pipeline operator and any operation with an unacknowledged write\n",
      " |          concern (e.g. {w: 0})). See\n",
      " |          https://github.com/mongodb/specifications/blob/master/source/retryable-writes/retryable-writes.rst\n",
      " |        - `retryReads`: (boolean) Whether supported read operations\n",
      " |          executed within this MongoClient will be retried once after a\n",
      " |          network error on MongoDB 3.6+. Defaults to ``True``.\n",
      " |          The supported read operations are:\n",
      " |          :meth:`~pymongo.collection.Collection.find`,\n",
      " |          :meth:`~pymongo.collection.Collection.find_one`,\n",
      " |          :meth:`~pymongo.collection.Collection.aggregate` without ``$out``,\n",
      " |          :meth:`~pymongo.collection.Collection.distinct`,\n",
      " |          :meth:`~pymongo.collection.Collection.count`,\n",
      " |          :meth:`~pymongo.collection.Collection.estimated_document_count`,\n",
      " |          :meth:`~pymongo.collection.Collection.count_documents`,\n",
      " |          :meth:`pymongo.collection.Collection.watch`,\n",
      " |          :meth:`~pymongo.collection.Collection.list_indexes`,\n",
      " |          :meth:`pymongo.database.Database.watch`,\n",
      " |          :meth:`~pymongo.database.Database.list_collections`,\n",
      " |          :meth:`pymongo.mongo_client.MongoClient.watch`,\n",
      " |          and :meth:`~pymongo.mongo_client.MongoClient.list_databases`.\n",
      " |      \n",
      " |          Unsupported read operations include, but are not limited to:\n",
      " |          :meth:`~pymongo.collection.Collection.map_reduce`,\n",
      " |          :meth:`~pymongo.collection.Collection.inline_map_reduce`,\n",
      " |          :meth:`~pymongo.database.Database.command`,\n",
      " |          and any getMore operation on a cursor.\n",
      " |      \n",
      " |          Enabling retryable reads makes applications more resilient to\n",
      " |          transient errors such as network failures, database upgrades, and\n",
      " |          replica set failovers. For an exact definition of which errors\n",
      " |          trigger a retry, see the `retryable reads specification\n",
      " |          <https://github.com/mongodb/specifications/blob/master/source/retryable-reads/retryable-reads.rst>`_.\n",
      " |      \n",
      " |        - `socketKeepAlive`: (boolean) **DEPRECATED** Whether to send\n",
      " |          periodic keep-alive packets on connected sockets. Defaults to\n",
      " |          ``True``. Disabling it is not recommended, see\n",
      " |          https://docs.mongodb.com/manual/faq/diagnostics/#does-tcp-keepalive-time-affect-mongodb-deployments\",\n",
      " |        - `compressors`: Comma separated list of compressors for wire\n",
      " |          protocol compression. The list is used to negotiate a compressor\n",
      " |          with the server. Currently supported options are \"snappy\", \"zlib\"\n",
      " |          and \"zstd\". Support for snappy requires the\n",
      " |          `python-snappy <https://pypi.org/project/python-snappy/>`_ package.\n",
      " |          zlib support requires the Python standard library zlib module. zstd\n",
      " |          requires the `zstandard <https://pypi.org/project/zstandard/>`_\n",
      " |          package. By default no compression is used. Compression support\n",
      " |          must also be enabled on the server. MongoDB 3.4+ supports snappy\n",
      " |          compression. MongoDB 3.6 adds support for zlib. MongoDB 4.2 adds\n",
      " |          support for zstd.\n",
      " |        - `zlibCompressionLevel`: (int) The zlib compression level to use\n",
      " |          when zlib is used as the wire protocol compressor. Supported values\n",
      " |          are -1 through 9. -1 tells the zlib library to use its default\n",
      " |          compression level (usually 6). 0 means no compression. 1 is best\n",
      " |          speed. 9 is best compression. Defaults to -1.\n",
      " |        - `uuidRepresentation`: The BSON representation to use when encoding\n",
      " |          from and decoding to instances of :class:`~uuid.UUID`. Valid\n",
      " |          values are `pythonLegacy` (the default), `javaLegacy`,\n",
      " |          `csharpLegacy`, `standard` and `unspecified`. New applications\n",
      " |          should consider setting this to `standard` for cross language\n",
      " |          compatibility. See :ref:`handling-uuid-data-example` for details.\n",
      " |      \n",
      " |        | **Write Concern options:**\n",
      " |        | (Only set if passed. No default values.)\n",
      " |      \n",
      " |        - `w`: (integer or string) If this is a replica set, write operations\n",
      " |          will block until they have been replicated to the specified number\n",
      " |          or tagged set of servers. `w=<int>` always includes the replica set\n",
      " |          primary (e.g. w=3 means write to the primary and wait until\n",
      " |          replicated to **two** secondaries). Passing w=0 **disables write\n",
      " |          acknowledgement** and all other write concern options.\n",
      " |        - `wTimeoutMS`: (integer) Used in conjunction with `w`. Specify a value\n",
      " |          in milliseconds to control how long to wait for write propagation\n",
      " |          to complete. If replication does not complete in the given\n",
      " |          timeframe, a timeout exception is raised. Passing wTimeoutMS=0\n",
      " |          will cause **write operations to wait indefinitely**.\n",
      " |        - `journal`: If ``True`` block until write operations have been\n",
      " |          committed to the journal. Cannot be used in combination with\n",
      " |          `fsync`. Prior to MongoDB 2.6 this option was ignored if the server\n",
      " |          was running without journaling. Starting with MongoDB 2.6 write\n",
      " |          operations will fail with an exception if this option is used when\n",
      " |          the server is running without journaling.\n",
      " |        - `fsync`: If ``True`` and the server is running without journaling,\n",
      " |          blocks until the server has synced all data files to disk. If the\n",
      " |          server is running with journaling, this acts the same as the `j`\n",
      " |          option, blocking until write operations have been committed to the\n",
      " |          journal. Cannot be used in combination with `j`.\n",
      " |      \n",
      " |        | **Replica set keyword arguments for connecting with a replica set\n",
      " |          - either directly or via a mongos:**\n",
      " |      \n",
      " |        - `replicaSet`: (string or None) The name of the replica set to\n",
      " |          connect to. The driver will verify that all servers it connects to\n",
      " |          match this name. Implies that the hosts specified are a seed list\n",
      " |          and the driver should attempt to find all members of the set.\n",
      " |          Defaults to ``None``.\n",
      " |      \n",
      " |        | **Read Preference:**\n",
      " |      \n",
      " |        - `readPreference`: The replica set read preference for this client.\n",
      " |          One of ``primary``, ``primaryPreferred``, ``secondary``,\n",
      " |          ``secondaryPreferred``, or ``nearest``. Defaults to ``primary``.\n",
      " |        - `readPreferenceTags`: Specifies a tag set as a comma-separated list\n",
      " |          of colon-separated key-value pairs. For example ``dc:ny,rack:1``.\n",
      " |          Defaults to ``None``.\n",
      " |        - `maxStalenessSeconds`: (integer) The maximum estimated\n",
      " |          length of time a replica set secondary can fall behind the primary\n",
      " |          in replication before it will no longer be selected for operations.\n",
      " |          Defaults to ``-1``, meaning no maximum. If maxStalenessSeconds\n",
      " |          is set, it must be a positive integer greater than or equal to\n",
      " |          90 seconds.\n",
      " |      \n",
      " |        .. seealso:: :doc:`/examples/server_selection`\n",
      " |      \n",
      " |        | **Authentication:**\n",
      " |      \n",
      " |        - `username`: A string.\n",
      " |        - `password`: A string.\n",
      " |      \n",
      " |          Although username and password must be percent-escaped in a MongoDB\n",
      " |          URI, they must not be percent-escaped when passed as parameters. In\n",
      " |          this example, both the space and slash special characters are passed\n",
      " |          as-is::\n",
      " |      \n",
      " |            MongoClient(username=\"user name\", password=\"pass/word\")\n",
      " |      \n",
      " |        - `authSource`: The database to authenticate on. Defaults to the\n",
      " |          database specified in the URI, if provided, or to \"admin\".\n",
      " |        - `authMechanism`: See :data:`~pymongo.auth.MECHANISMS` for options.\n",
      " |          If no mechanism is specified, PyMongo automatically uses MONGODB-CR\n",
      " |          when connected to a pre-3.0 version of MongoDB, SCRAM-SHA-1 when\n",
      " |          connected to MongoDB 3.0 through 3.6, and negotiates the mechanism\n",
      " |          to use (SCRAM-SHA-1 or SCRAM-SHA-256) when connected to MongoDB\n",
      " |          4.0+.\n",
      " |        - `authMechanismProperties`: Used to specify authentication mechanism\n",
      " |          specific options. To specify the service name for GSSAPI\n",
      " |          authentication pass authMechanismProperties='SERVICE_NAME:<service\n",
      " |          name>'.\n",
      " |          To specify the session token for MONGODB-AWS authentication pass\n",
      " |          ``authMechanismProperties='AWS_SESSION_TOKEN:<session token>'``.\n",
      " |      \n",
      " |        .. seealso:: :doc:`/examples/authentication`\n",
      " |      \n",
      " |        | **TLS/SSL configuration:**\n",
      " |      \n",
      " |        - `tls`: (boolean) If ``True``, create the connection to the server\n",
      " |          using transport layer security. Defaults to ``False``.\n",
      " |        - `tlsInsecure`: (boolean) Specify whether TLS constraints should be\n",
      " |          relaxed as much as possible. Setting ``tlsInsecure=True`` implies\n",
      " |          ``tlsAllowInvalidCertificates=True`` and\n",
      " |          ``tlsAllowInvalidHostnames=True``. Defaults to ``False``. Think\n",
      " |          very carefully before setting this to ``True`` as it dramatically\n",
      " |          reduces the security of TLS.\n",
      " |        - `tlsAllowInvalidCertificates`: (boolean) If ``True``, continues\n",
      " |          the TLS handshake regardless of the outcome of the certificate\n",
      " |          verification process. If this is ``False``, and a value is not\n",
      " |          provided for ``tlsCAFile``, PyMongo will attempt to load system\n",
      " |          provided CA certificates. If the python version in use does not\n",
      " |          support loading system CA certificates then the ``tlsCAFile``\n",
      " |          parameter must point to a file of CA certificates.\n",
      " |          ``tlsAllowInvalidCertificates=False`` implies ``tls=True``.\n",
      " |          Defaults to ``False``. Think very carefully before setting this\n",
      " |          to ``True`` as that could make your application vulnerable to\n",
      " |          man-in-the-middle attacks.\n",
      " |        - `tlsAllowInvalidHostnames`: (boolean) If ``True``, disables TLS\n",
      " |          hostname verification. ``tlsAllowInvalidHostnames=False`` implies\n",
      " |          ``tls=True``. Defaults to ``False``. Think very carefully before\n",
      " |          setting this to ``True`` as that could make your application\n",
      " |          vulnerable to man-in-the-middle attacks.\n",
      " |        - `tlsCAFile`: A file containing a single or a bundle of\n",
      " |          \"certification authority\" certificates, which are used to validate\n",
      " |          certificates passed from the other end of the connection.\n",
      " |          Implies ``tls=True``. Defaults to ``None``.\n",
      " |        - `tlsCertificateKeyFile`: A file containing the client certificate\n",
      " |          and private key. If you want to pass the certificate and private\n",
      " |          key as separate files, use the ``ssl_certfile`` and ``ssl_keyfile``\n",
      " |          options instead. Implies ``tls=True``. Defaults to ``None``.\n",
      " |        - `tlsCRLFile`: A file containing a PEM or DER formatted\n",
      " |          certificate revocation list. Only supported by python 2.7.9+\n",
      " |          (pypy 2.5.1+). Implies ``tls=True``. Defaults to ``None``.\n",
      " |        - `tlsCertificateKeyFilePassword`: The password or passphrase for\n",
      " |          decrypting the private key in ``tlsCertificateKeyFile`` or\n",
      " |          ``ssl_keyfile``. Only necessary if the private key is encrypted.\n",
      " |          Only supported by python 2.7.9+ (pypy 2.5.1+) and 3.3+. Defaults\n",
      " |          to ``None``.\n",
      " |        - `tlsDisableOCSPEndpointCheck`: (boolean) If ``True``, disables\n",
      " |          certificate revocation status checking via the OCSP responder\n",
      " |          specified on the server certificate. Defaults to ``False``.\n",
      " |        - `ssl`: (boolean) Alias for ``tls``.\n",
      " |        - `ssl_certfile`: The certificate file used to identify the local\n",
      " |          connection against mongod. Implies ``tls=True``. Defaults to\n",
      " |          ``None``.\n",
      " |        - `ssl_keyfile`: The private keyfile used to identify the local\n",
      " |          connection against mongod. Can be omitted if the keyfile is\n",
      " |          included with the ``tlsCertificateKeyFile``. Implies ``tls=True``.\n",
      " |          Defaults to ``None``.\n",
      " |      \n",
      " |        | **Read Concern options:**\n",
      " |        | (If not set explicitly, this will use the server default)\n",
      " |      \n",
      " |        - `readConcernLevel`: (string) The read concern level specifies the\n",
      " |          level of isolation for read operations.  For example, a read\n",
      " |          operation using a read concern level of ``majority`` will only\n",
      " |          return data that has been written to a majority of nodes. If the\n",
      " |          level is left unspecified, the server default will be used.\n",
      " |      \n",
      " |        | **Client side encryption options:**\n",
      " |        | (If not set explicitly, client side encryption will not be enabled.)\n",
      " |      \n",
      " |        - `auto_encryption_opts`: A\n",
      " |          :class:`~pymongo.encryption_options.AutoEncryptionOpts` which\n",
      " |          configures this client to automatically encrypt collection commands\n",
      " |          and automatically decrypt results. See\n",
      " |          :ref:`automatic-client-side-encryption` for an example.\n",
      " |      \n",
      " |      .. mongodoc:: connections\n",
      " |      \n",
      " |      .. versionchanged:: 3.11\n",
      " |         Added the following keyword arguments and URI options:\n",
      " |      \n",
      " |           - ``tlsDisableOCSPEndpointCheck``\n",
      " |           - ``directConnection``\n",
      " |      \n",
      " |      .. versionchanged:: 3.9\n",
      " |         Added the ``retryReads`` keyword argument and URI option.\n",
      " |         Added the ``tlsInsecure`` keyword argument and URI option.\n",
      " |         The following keyword arguments and URI options were deprecated:\n",
      " |      \n",
      " |           - ``wTimeout`` was deprecated in favor of ``wTimeoutMS``.\n",
      " |           - ``j`` was deprecated in favor of ``journal``.\n",
      " |           - ``ssl_cert_reqs`` was deprecated in favor of\n",
      " |             ``tlsAllowInvalidCertificates``.\n",
      " |           - ``ssl_match_hostname`` was deprecated in favor of\n",
      " |             ``tlsAllowInvalidHostnames``.\n",
      " |           - ``ssl_ca_certs`` was deprecated in favor of ``tlsCAFile``.\n",
      " |           - ``ssl_certfile`` was deprecated in favor of\n",
      " |             ``tlsCertificateKeyFile``.\n",
      " |           - ``ssl_crlfile`` was deprecated in favor of ``tlsCRLFile``.\n",
      " |           - ``ssl_pem_passphrase`` was deprecated in favor of\n",
      " |             ``tlsCertificateKeyFilePassword``.\n",
      " |      \n",
      " |      .. versionchanged:: 3.9\n",
      " |         ``retryWrites`` now defaults to ``True``.\n",
      " |      \n",
      " |      .. versionchanged:: 3.8\n",
      " |         Added the ``server_selector`` keyword argument.\n",
      " |         Added the ``type_registry`` keyword argument.\n",
      " |      \n",
      " |      .. versionchanged:: 3.7\n",
      " |         Added the ``driver`` keyword argument.\n",
      " |      \n",
      " |      .. versionchanged:: 3.6\n",
      " |         Added support for mongodb+srv:// URIs.\n",
      " |         Added the ``retryWrites`` keyword argument and URI option.\n",
      " |      \n",
      " |      .. versionchanged:: 3.5\n",
      " |         Add ``username`` and ``password`` options. Document the\n",
      " |         ``authSource``, ``authMechanism``, and ``authMechanismProperties``\n",
      " |         options.\n",
      " |         Deprecated the ``socketKeepAlive`` keyword argument and URI option.\n",
      " |         ``socketKeepAlive`` now defaults to ``True``.\n",
      " |      \n",
      " |      .. versionchanged:: 3.0\n",
      " |         :class:`~pymongo.mongo_client.MongoClient` is now the one and only\n",
      " |         client class for a standalone server, mongos, or replica set.\n",
      " |         It includes the functionality that had been split into\n",
      " |         :class:`~pymongo.mongo_client.MongoReplicaSetClient`: it can connect\n",
      " |         to a replica set, discover all its members, and monitor the set for\n",
      " |         stepdowns, elections, and reconfigs.\n",
      " |      \n",
      " |         The :class:`~pymongo.mongo_client.MongoClient` constructor no\n",
      " |         longer blocks while connecting to the server or servers, and it no\n",
      " |         longer raises :class:`~pymongo.errors.ConnectionFailure` if they\n",
      " |         are unavailable, nor :class:`~pymongo.errors.ConfigurationError`\n",
      " |         if the user's credentials are wrong. Instead, the constructor\n",
      " |         returns immediately and launches the connection process on\n",
      " |         background threads.\n",
      " |      \n",
      " |         Therefore the ``alive`` method is removed since it no longer\n",
      " |         provides meaningful information; even if the client is disconnected,\n",
      " |         it may discover a server in time to fulfill the next operation.\n",
      " |      \n",
      " |         In PyMongo 2.x, :class:`~pymongo.MongoClient` accepted a list of\n",
      " |         standalone MongoDB servers and used the first it could connect to::\n",
      " |      \n",
      " |             MongoClient(['host1.com:27017', 'host2.com:27017'])\n",
      " |      \n",
      " |         A list of multiple standalones is no longer supported; if multiple\n",
      " |         servers are listed they must be members of the same replica set, or\n",
      " |         mongoses in the same sharded cluster.\n",
      " |      \n",
      " |         The behavior for a list of mongoses is changed from \"high\n",
      " |         availability\" to \"load balancing\". Before, the client connected to\n",
      " |         the lowest-latency mongos in the list, and used it until a network\n",
      " |         error prompted it to re-evaluate all mongoses' latencies and\n",
      " |         reconnect to one of them. In PyMongo 3, the client monitors its\n",
      " |         network latency to all the mongoses continuously, and distributes\n",
      " |         operations evenly among those with the lowest latency. See\n",
      " |         :ref:`mongos-load-balancing` for more information.\n",
      " |      \n",
      " |         The ``connect`` option is added.\n",
      " |      \n",
      " |         The ``start_request``, ``in_request``, and ``end_request`` methods\n",
      " |         are removed, as well as the ``auto_start_request`` option.\n",
      " |      \n",
      " |         The ``copy_database`` method is removed, see the\n",
      " |         :doc:`copy_database examples </examples/copydb>` for alternatives.\n",
      " |      \n",
      " |         The :meth:`MongoClient.disconnect` method is removed; it was a\n",
      " |         synonym for :meth:`~pymongo.MongoClient.close`.\n",
      " |      \n",
      " |         :class:`~pymongo.mongo_client.MongoClient` no longer returns an\n",
      " |         instance of :class:`~pymongo.database.Database` for attribute names\n",
      " |         with leading underscores. You must use dict-style lookups instead::\n",
      " |      \n",
      " |             client['__my_database__']\n",
      " |      \n",
      " |         Not::\n",
      " |      \n",
      " |             client.__my_database__\n",
      " |  \n",
      " |  __iter__(self)\n",
      " |  \n",
      " |  __ne__(self, other)\n",
      " |      Return self!=value.\n",
      " |  \n",
      " |  __next__(self)\n",
      " |  \n",
      " |  __repr__(self)\n",
      " |      Return repr(self).\n",
      " |  \n",
      " |  close(self)\n",
      " |      Cleanup client resources and disconnect from MongoDB.\n",
      " |      \n",
      " |      On MongoDB >= 3.6, end all server sessions created by this client by\n",
      " |      sending one or more endSessions commands.\n",
      " |      \n",
      " |      Close all sockets in the connection pools and stop the monitor threads.\n",
      " |      If this instance is used again it will be automatically re-opened and\n",
      " |      the threads restarted unless auto encryption is enabled. A client\n",
      " |      enabled with auto encryption cannot be used again after being closed;\n",
      " |      any attempt will raise :exc:`~.errors.InvalidOperation`.\n",
      " |      \n",
      " |      .. versionchanged:: 3.6\n",
      " |         End all server sessions created by this client.\n",
      " |  \n",
      " |  close_cursor(self, cursor_id, address=None)\n",
      " |      DEPRECATED - Send a kill cursors message soon with the given id.\n",
      " |      \n",
      " |      Raises :class:`TypeError` if `cursor_id` is not an instance of\n",
      " |      ``(int, long)``. What closing the cursor actually means\n",
      " |      depends on this client's cursor manager.\n",
      " |      \n",
      " |      This method may be called from a :class:`~pymongo.cursor.Cursor`\n",
      " |      destructor during garbage collection, so it isn't safe to take a\n",
      " |      lock or do network I/O. Instead, we schedule the cursor to be closed\n",
      " |      soon on a background thread.\n",
      " |      \n",
      " |      :Parameters:\n",
      " |        - `cursor_id`: id of cursor to close\n",
      " |        - `address` (optional): (host, port) pair of the cursor's server.\n",
      " |          If it is not provided, the client attempts to close the cursor on\n",
      " |          the primary or standalone, or a mongos server.\n",
      " |      \n",
      " |      .. versionchanged:: 3.7\n",
      " |         Deprecated.\n",
      " |      \n",
      " |      .. versionchanged:: 3.0\n",
      " |         Added ``address`` parameter.\n",
      " |  \n",
      " |  database_names(self, session=None)\n",
      " |      **DEPRECATED**: Get a list of the names of all databases on the\n",
      " |      connected server.\n",
      " |      \n",
      " |      :Parameters:\n",
      " |        - `session` (optional): a\n",
      " |          :class:`~pymongo.client_session.ClientSession`.\n",
      " |      \n",
      " |      .. versionchanged:: 3.7\n",
      " |         Deprecated. Use :meth:`list_database_names` instead.\n",
      " |      \n",
      " |      .. versionchanged:: 3.6\n",
      " |         Added ``session`` parameter.\n",
      " |  \n",
      " |  drop_database(self, name_or_database, session=None)\n",
      " |      Drop a database.\n",
      " |      \n",
      " |      Raises :class:`TypeError` if `name_or_database` is not an instance of\n",
      " |      :class:`basestring` (:class:`str` in python 3) or\n",
      " |      :class:`~pymongo.database.Database`.\n",
      " |      \n",
      " |      :Parameters:\n",
      " |        - `name_or_database`: the name of a database to drop, or a\n",
      " |          :class:`~pymongo.database.Database` instance representing the\n",
      " |          database to drop\n",
      " |        - `session` (optional): a\n",
      " |          :class:`~pymongo.client_session.ClientSession`.\n",
      " |      \n",
      " |      .. versionchanged:: 3.6\n",
      " |         Added ``session`` parameter.\n",
      " |      \n",
      " |      .. note:: The :attr:`~pymongo.mongo_client.MongoClient.write_concern` of\n",
      " |         this client is automatically applied to this operation when using\n",
      " |         MongoDB >= 3.4.\n",
      " |      \n",
      " |      .. versionchanged:: 3.4\n",
      " |         Apply this client's write concern automatically to this operation\n",
      " |         when connected to MongoDB >= 3.4.\n",
      " |  \n",
      " |  fsync(self, **kwargs)\n",
      " |      **DEPRECATED**: Flush all pending writes to datafiles.\n",
      " |      \n",
      " |      Optional parameters can be passed as keyword arguments:\n",
      " |        - `lock`: If True lock the server to disallow writes.\n",
      " |        - `async`: If True don't block while synchronizing.\n",
      " |        - `session` (optional): a\n",
      " |          :class:`~pymongo.client_session.ClientSession`.\n",
      " |      \n",
      " |      .. note:: Starting with Python 3.7 `async` is a reserved keyword.\n",
      " |        The async option to the fsync command can be passed using a\n",
      " |        dictionary instead::\n",
      " |      \n",
      " |          options = {'async': True}\n",
      " |          client.fsync(**options)\n",
      " |      \n",
      " |      Deprecated. Run the `fsync command`_ directly with\n",
      " |      :meth:`~pymongo.database.Database.command` instead. For example::\n",
      " |      \n",
      " |          client.admin.command('fsync', lock=True)\n",
      " |      \n",
      " |      .. versionchanged:: 3.11\n",
      " |         Deprecated.\n",
      " |      \n",
      " |      .. versionchanged:: 3.6\n",
      " |         Added ``session`` parameter.\n",
      " |      \n",
      " |      .. warning:: `async` and `lock` can not be used together.\n",
      " |      \n",
      " |      .. warning:: MongoDB does not support the `async` option\n",
      " |                   on Windows and will raise an exception on that\n",
      " |                   platform.\n",
      " |      \n",
      " |      .. _fsync command: https://docs.mongodb.com/manual/reference/command/fsync/\n",
      " |  \n",
      " |  get_database(self, name=None, codec_options=None, read_preference=None, write_concern=None, read_concern=None)\n",
      " |      Get a :class:`~pymongo.database.Database` with the given name and\n",
      " |      options.\n",
      " |      \n",
      " |      Useful for creating a :class:`~pymongo.database.Database` with\n",
      " |      different codec options, read preference, and/or write concern from\n",
      " |      this :class:`MongoClient`.\n",
      " |      \n",
      " |        >>> client.read_preference\n",
      " |        Primary()\n",
      " |        >>> db1 = client.test\n",
      " |        >>> db1.read_preference\n",
      " |        Primary()\n",
      " |        >>> from pymongo import ReadPreference\n",
      " |        >>> db2 = client.get_database(\n",
      " |        ...     'test', read_preference=ReadPreference.SECONDARY)\n",
      " |        >>> db2.read_preference\n",
      " |        Secondary(tag_sets=None)\n",
      " |      \n",
      " |      :Parameters:\n",
      " |        - `name` (optional): The name of the database - a string. If ``None``\n",
      " |          (the default) the database named in the MongoDB connection URI is\n",
      " |          returned.\n",
      " |        - `codec_options` (optional): An instance of\n",
      " |          :class:`~bson.codec_options.CodecOptions`. If ``None`` (the\n",
      " |          default) the :attr:`codec_options` of this :class:`MongoClient` is\n",
      " |          used.\n",
      " |        - `read_preference` (optional): The read preference to use. If\n",
      " |          ``None`` (the default) the :attr:`read_preference` of this\n",
      " |          :class:`MongoClient` is used. See :mod:`~pymongo.read_preferences`\n",
      " |          for options.\n",
      " |        - `write_concern` (optional): An instance of\n",
      " |          :class:`~pymongo.write_concern.WriteConcern`. If ``None`` (the\n",
      " |          default) the :attr:`write_concern` of this :class:`MongoClient` is\n",
      " |          used.\n",
      " |        - `read_concern` (optional): An instance of\n",
      " |          :class:`~pymongo.read_concern.ReadConcern`. If ``None`` (the\n",
      " |          default) the :attr:`read_concern` of this :class:`MongoClient` is\n",
      " |          used.\n",
      " |      \n",
      " |      .. versionchanged:: 3.5\n",
      " |         The `name` parameter is now optional, defaulting to the database\n",
      " |         named in the MongoDB connection URI.\n",
      " |  \n",
      " |  get_default_database(self, default=None, codec_options=None, read_preference=None, write_concern=None, read_concern=None)\n",
      " |      Get the database named in the MongoDB connection URI.\n",
      " |      \n",
      " |      >>> uri = 'mongodb://host/my_database'\n",
      " |      >>> client = MongoClient(uri)\n",
      " |      >>> db = client.get_default_database()\n",
      " |      >>> assert db.name == 'my_database'\n",
      " |      >>> db = client.get_database()\n",
      " |      >>> assert db.name == 'my_database'\n",
      " |      \n",
      " |      Useful in scripts where you want to choose which database to use\n",
      " |      based only on the URI in a configuration file.\n",
      " |      \n",
      " |      :Parameters:\n",
      " |        - `default` (optional): the database name to use if no database name\n",
      " |          was provided in the URI.\n",
      " |        - `codec_options` (optional): An instance of\n",
      " |          :class:`~bson.codec_options.CodecOptions`. If ``None`` (the\n",
      " |          default) the :attr:`codec_options` of this :class:`MongoClient` is\n",
      " |          used.\n",
      " |        - `read_preference` (optional): The read preference to use. If\n",
      " |          ``None`` (the default) the :attr:`read_preference` of this\n",
      " |          :class:`MongoClient` is used. See :mod:`~pymongo.read_preferences`\n",
      " |          for options.\n",
      " |        - `write_concern` (optional): An instance of\n",
      " |          :class:`~pymongo.write_concern.WriteConcern`. If ``None`` (the\n",
      " |          default) the :attr:`write_concern` of this :class:`MongoClient` is\n",
      " |          used.\n",
      " |        - `read_concern` (optional): An instance of\n",
      " |          :class:`~pymongo.read_concern.ReadConcern`. If ``None`` (the\n",
      " |          default) the :attr:`read_concern` of this :class:`MongoClient` is\n",
      " |          used.\n",
      " |      \n",
      " |      .. versionchanged:: 3.8\n",
      " |         Undeprecated. Added the ``default``, ``codec_options``,\n",
      " |         ``read_preference``, ``write_concern`` and ``read_concern``\n",
      " |         parameters.\n",
      " |      \n",
      " |      .. versionchanged:: 3.5\n",
      " |         Deprecated, use :meth:`get_database` instead.\n",
      " |  \n",
      " |  kill_cursors(self, cursor_ids, address=None)\n",
      " |      DEPRECATED - Send a kill cursors message soon with the given ids.\n",
      " |      \n",
      " |      Raises :class:`TypeError` if `cursor_ids` is not an instance of\n",
      " |      ``list``.\n",
      " |      \n",
      " |      :Parameters:\n",
      " |        - `cursor_ids`: list of cursor ids to kill\n",
      " |        - `address` (optional): (host, port) pair of the cursor's server.\n",
      " |          If it is not provided, the client attempts to close the cursor on\n",
      " |          the primary or standalone, or a mongos server.\n",
      " |      \n",
      " |      .. versionchanged:: 3.3\n",
      " |         Deprecated.\n",
      " |      \n",
      " |      .. versionchanged:: 3.0\n",
      " |         Now accepts an `address` argument. Schedules the cursors to be\n",
      " |         closed on a background thread instead of sending the message\n",
      " |         immediately.\n",
      " |  \n",
      " |  list_database_names(self, session=None)\n",
      " |      Get a list of the names of all databases on the connected server.\n",
      " |      \n",
      " |      :Parameters:\n",
      " |        - `session` (optional): a\n",
      " |          :class:`~pymongo.client_session.ClientSession`.\n",
      " |      \n",
      " |      .. versionadded:: 3.6\n",
      " |  \n",
      " |  list_databases(self, session=None, **kwargs)\n",
      " |      Get a cursor over the databases of the connected server.\n",
      " |      \n",
      " |      :Parameters:\n",
      " |        - `session` (optional): a\n",
      " |          :class:`~pymongo.client_session.ClientSession`.\n",
      " |        - `**kwargs` (optional): Optional parameters of the\n",
      " |          `listDatabases command\n",
      " |          <https://docs.mongodb.com/manual/reference/command/listDatabases/>`_\n",
      " |          can be passed as keyword arguments to this method. The supported\n",
      " |          options differ by server version.\n",
      " |      \n",
      " |      :Returns:\n",
      " |        An instance of :class:`~pymongo.command_cursor.CommandCursor`.\n",
      " |      \n",
      " |      .. versionadded:: 3.6\n",
      " |  \n",
      " |  next = __next__(self)\n",
      " |  \n",
      " |  server_info(self, session=None)\n",
      " |      Get information about the MongoDB server we're connected to.\n",
      " |      \n",
      " |      :Parameters:\n",
      " |        - `session` (optional): a\n",
      " |          :class:`~pymongo.client_session.ClientSession`.\n",
      " |      \n",
      " |      .. versionchanged:: 3.6\n",
      " |         Added ``session`` parameter.\n",
      " |  \n",
      " |  set_cursor_manager(self, manager_class)\n",
      " |      DEPRECATED - Set this client's cursor manager.\n",
      " |      \n",
      " |      Raises :class:`TypeError` if `manager_class` is not a subclass of\n",
      " |      :class:`~pymongo.cursor_manager.CursorManager`. A cursor manager\n",
      " |      handles closing cursors. Different managers can implement different\n",
      " |      policies in terms of when to actually kill a cursor that has\n",
      " |      been closed.\n",
      " |      \n",
      " |      :Parameters:\n",
      " |        - `manager_class`: cursor manager to use\n",
      " |      \n",
      " |      .. versionchanged:: 3.3\n",
      " |         Deprecated, for real this time.\n",
      " |      \n",
      " |      .. versionchanged:: 3.0\n",
      " |         Undeprecated.\n",
      " |  \n",
      " |  start_session(self, causal_consistency=True, default_transaction_options=None)\n",
      " |      Start a logical session.\n",
      " |      \n",
      " |      This method takes the same parameters as\n",
      " |      :class:`~pymongo.client_session.SessionOptions`. See the\n",
      " |      :mod:`~pymongo.client_session` module for details and examples.\n",
      " |      \n",
      " |      Requires MongoDB 3.6. It is an error to call :meth:`start_session`\n",
      " |      if this client has been authenticated to multiple databases using the\n",
      " |      deprecated method :meth:`~pymongo.database.Database.authenticate`.\n",
      " |      \n",
      " |      A :class:`~pymongo.client_session.ClientSession` may only be used with\n",
      " |      the MongoClient that started it. :class:`ClientSession` instances are\n",
      " |      **not thread-safe or fork-safe**. They can only be used by one thread\n",
      " |      or process at a time. A single :class:`ClientSession` cannot be used\n",
      " |      to run multiple operations concurrently.\n",
      " |      \n",
      " |      :Returns:\n",
      " |        An instance of :class:`~pymongo.client_session.ClientSession`.\n",
      " |      \n",
      " |      .. versionadded:: 3.6\n",
      " |  \n",
      " |  unlock(self, session=None)\n",
      " |      **DEPRECATED**: Unlock a previously locked server.\n",
      " |      \n",
      " |      :Parameters:\n",
      " |        - `session` (optional): a\n",
      " |          :class:`~pymongo.client_session.ClientSession`.\n",
      " |      \n",
      " |      Deprecated. Users of MongoDB version 3.2 or newer can run the\n",
      " |      `fsyncUnlock command`_ directly with\n",
      " |      :meth:`~pymongo.database.Database.command`::\n",
      " |      \n",
      " |           client.admin.command('fsyncUnlock')\n",
      " |      \n",
      " |      Users of MongoDB version 2.6 and 3.0 can query the \"unlock\" virtual\n",
      " |      collection::\n",
      " |      \n",
      " |          client.admin[\"$cmd.sys.unlock\"].find_one()\n",
      " |      \n",
      " |      .. versionchanged:: 3.11\n",
      " |         Deprecated.\n",
      " |      \n",
      " |      .. versionchanged:: 3.6\n",
      " |         Added ``session`` parameter.\n",
      " |      \n",
      " |      .. _fsyncUnlock command: https://docs.mongodb.com/manual/reference/command/fsyncUnlock/\n",
      " |  \n",
      " |  watch(self, pipeline=None, full_document=None, resume_after=None, max_await_time_ms=None, batch_size=None, collation=None, start_at_operation_time=None, session=None, start_after=None)\n",
      " |      Watch changes on this cluster.\n",
      " |      \n",
      " |      Performs an aggregation with an implicit initial ``$changeStream``\n",
      " |      stage and returns a\n",
      " |      :class:`~pymongo.change_stream.ClusterChangeStream` cursor which\n",
      " |      iterates over changes on all databases on this cluster.\n",
      " |      \n",
      " |      Introduced in MongoDB 4.0.\n",
      " |      \n",
      " |      .. code-block:: python\n",
      " |      \n",
      " |         with client.watch() as stream:\n",
      " |             for change in stream:\n",
      " |                 print(change)\n",
      " |      \n",
      " |      The :class:`~pymongo.change_stream.ClusterChangeStream` iterable\n",
      " |      blocks until the next change document is returned or an error is\n",
      " |      raised. If the\n",
      " |      :meth:`~pymongo.change_stream.ClusterChangeStream.next` method\n",
      " |      encounters a network error when retrieving a batch from the server,\n",
      " |      it will automatically attempt to recreate the cursor such that no\n",
      " |      change events are missed. Any error encountered during the resume\n",
      " |      attempt indicates there may be an outage and will be raised.\n",
      " |      \n",
      " |      .. code-block:: python\n",
      " |      \n",
      " |          try:\n",
      " |              with client.watch(\n",
      " |                      [{'$match': {'operationType': 'insert'}}]) as stream:\n",
      " |                  for insert_change in stream:\n",
      " |                      print(insert_change)\n",
      " |          except pymongo.errors.PyMongoError:\n",
      " |              # The ChangeStream encountered an unrecoverable error or the\n",
      " |              # resume attempt failed to recreate the cursor.\n",
      " |              logging.error('...')\n",
      " |      \n",
      " |      For a precise description of the resume process see the\n",
      " |      `change streams specification`_.\n",
      " |      \n",
      " |      :Parameters:\n",
      " |        - `pipeline` (optional): A list of aggregation pipeline stages to\n",
      " |          append to an initial ``$changeStream`` stage. Not all\n",
      " |          pipeline stages are valid after a ``$changeStream`` stage, see the\n",
      " |          MongoDB documentation on change streams for the supported stages.\n",
      " |        - `full_document` (optional): The fullDocument to pass as an option\n",
      " |          to the ``$changeStream`` stage. Allowed values: 'updateLookup'.\n",
      " |          When set to 'updateLookup', the change notification for partial\n",
      " |          updates will include both a delta describing the changes to the\n",
      " |          document, as well as a copy of the entire document that was\n",
      " |          changed from some time after the change occurred.\n",
      " |        - `resume_after` (optional): A resume token. If provided, the\n",
      " |          change stream will start returning changes that occur directly\n",
      " |          after the operation specified in the resume token. A resume token\n",
      " |          is the _id value of a change document.\n",
      " |        - `max_await_time_ms` (optional): The maximum time in milliseconds\n",
      " |          for the server to wait for changes before responding to a getMore\n",
      " |          operation.\n",
      " |        - `batch_size` (optional): The maximum number of documents to return\n",
      " |          per batch.\n",
      " |        - `collation` (optional): The :class:`~pymongo.collation.Collation`\n",
      " |          to use for the aggregation.\n",
      " |        - `start_at_operation_time` (optional): If provided, the resulting\n",
      " |          change stream will only return changes that occurred at or after\n",
      " |          the specified :class:`~bson.timestamp.Timestamp`. Requires\n",
      " |          MongoDB >= 4.0.\n",
      " |        - `session` (optional): a\n",
      " |          :class:`~pymongo.client_session.ClientSession`.\n",
      " |        - `start_after` (optional): The same as `resume_after` except that\n",
      " |          `start_after` can resume notifications after an invalidate event.\n",
      " |          This option and `resume_after` are mutually exclusive.\n",
      " |      \n",
      " |      :Returns:\n",
      " |        A :class:`~pymongo.change_stream.ClusterChangeStream` cursor.\n",
      " |      \n",
      " |      .. versionchanged:: 3.9\n",
      " |         Added the ``start_after`` parameter.\n",
      " |      \n",
      " |      .. versionadded:: 3.7\n",
      " |      \n",
      " |      .. mongodoc:: changeStreams\n",
      " |      \n",
      " |      .. _change streams specification:\n",
      " |          https://github.com/mongodb/specifications/blob/master/source/change-streams/change-streams.rst\n",
      " |  \n",
      " |  ----------------------------------------------------------------------\n",
      " |  Readonly properties defined here:\n",
      " |  \n",
      " |  address\n",
      " |      (host, port) of the current standalone, primary, or mongos, or None.\n",
      " |      \n",
      " |      Accessing :attr:`address` raises :exc:`~.errors.InvalidOperation` if\n",
      " |      the client is load-balancing among mongoses, since there is no single\n",
      " |      address. Use :attr:`nodes` instead.\n",
      " |      \n",
      " |      If the client is not connected, this will block until a connection is\n",
      " |      established or raise ServerSelectionTimeoutError if no server is\n",
      " |      available.\n",
      " |      \n",
      " |      .. versionadded:: 3.0\n",
      " |  \n",
      " |  arbiters\n",
      " |      Arbiters in the replica set.\n",
      " |      \n",
      " |      A sequence of (host, port) pairs. Empty if this client is not\n",
      " |      connected to a replica set, there are no arbiters, or this client was\n",
      " |      created without the `replicaSet` option.\n",
      " |  \n",
      " |  event_listeners\n",
      " |      The event listeners registered for this client.\n",
      " |      \n",
      " |      See :mod:`~pymongo.monitoring` for details.\n",
      " |  \n",
      " |  is_locked\n",
      " |      **DEPRECATED**: Is this server locked? While locked, all write\n",
      " |      operations are blocked, although read operations may still be allowed.\n",
      " |      Use :meth:`unlock` to unlock.\n",
      " |      \n",
      " |      Deprecated. Users of MongoDB version 3.2 or newer can run the\n",
      " |      `currentOp command`_ directly with\n",
      " |      :meth:`~pymongo.database.Database.command`::\n",
      " |      \n",
      " |          is_locked = client.admin.command('currentOp').get('fsyncLock')\n",
      " |      \n",
      " |      Users of MongoDB version 2.6 and 3.0 can query the \"inprog\" virtual\n",
      " |      collection::\n",
      " |      \n",
      " |          is_locked = client.admin[\"$cmd.sys.inprog\"].find_one().get('fsyncLock')\n",
      " |      \n",
      " |      .. versionchanged:: 3.11\n",
      " |         Deprecated.\n",
      " |      \n",
      " |      .. _currentOp command: https://docs.mongodb.com/manual/reference/command/currentOp/\n",
      " |  \n",
      " |  is_mongos\n",
      " |      If this client is connected to mongos. If the client is not\n",
      " |      connected, this will block until a connection is established or raise\n",
      " |      ServerSelectionTimeoutError if no server is available..\n",
      " |  \n",
      " |  is_primary\n",
      " |      If this client is connected to a server that can accept writes.\n",
      " |      \n",
      " |      True if the current server is a standalone, mongos, or the primary of\n",
      " |      a replica set. If the client is not connected, this will block until a\n",
      " |      connection is established or raise ServerSelectionTimeoutError if no\n",
      " |      server is available.\n",
      " |  \n",
      " |  local_threshold_ms\n",
      " |      The local threshold for this instance.\n",
      " |  \n",
      " |  max_bson_size\n",
      " |      The largest BSON object the connected server accepts in bytes.\n",
      " |      \n",
      " |      If the client is not connected, this will block until a connection is\n",
      " |      established or raise ServerSelectionTimeoutError if no server is\n",
      " |      available.\n",
      " |  \n",
      " |  max_idle_time_ms\n",
      " |      The maximum number of milliseconds that a connection can remain\n",
      " |      idle in the pool before being removed and replaced. Defaults to\n",
      " |      `None` (no limit).\n",
      " |  \n",
      " |  max_message_size\n",
      " |      The largest message the connected server accepts in bytes.\n",
      " |      \n",
      " |      If the client is not connected, this will block until a connection is\n",
      " |      established or raise ServerSelectionTimeoutError if no server is\n",
      " |      available.\n",
      " |  \n",
      " |  max_pool_size\n",
      " |      The maximum allowable number of concurrent connections to each\n",
      " |      connected server. Requests to a server will block if there are\n",
      " |      `maxPoolSize` outstanding connections to the requested server.\n",
      " |      Defaults to 100. Cannot be 0.\n",
      " |      \n",
      " |      When a server's pool has reached `max_pool_size`, operations for that\n",
      " |      server block waiting for a socket to be returned to the pool. If\n",
      " |      ``waitQueueTimeoutMS`` is set, a blocked operation will raise\n",
      " |      :exc:`~pymongo.errors.ConnectionFailure` after a timeout.\n",
      " |      By default ``waitQueueTimeoutMS`` is not set.\n",
      " |  \n",
      " |  max_write_batch_size\n",
      " |      The maxWriteBatchSize reported by the server.\n",
      " |      \n",
      " |      If the client is not connected, this will block until a connection is\n",
      " |      established or raise ServerSelectionTimeoutError if no server is\n",
      " |      available.\n",
      " |      \n",
      " |      Returns a default value when connected to server versions prior to\n",
      " |      MongoDB 2.6.\n",
      " |  \n",
      " |  min_pool_size\n",
      " |      The minimum required number of concurrent connections that the pool\n",
      " |      will maintain to each connected server. Default is 0.\n",
      " |  \n",
      " |  nodes\n",
      " |      Set of all currently connected servers.\n",
      " |      \n",
      " |      .. warning:: When connected to a replica set the value of :attr:`nodes`\n",
      " |        can change over time as :class:`MongoClient`'s view of the replica\n",
      " |        set changes. :attr:`nodes` can also be an empty set when\n",
      " |        :class:`MongoClient` is first instantiated and hasn't yet connected\n",
      " |        to any servers, or a network partition causes it to lose connection\n",
      " |        to all servers.\n",
      " |  \n",
      " |  primary\n",
      " |      The (host, port) of the current primary of the replica set.\n",
      " |      \n",
      " |      Returns ``None`` if this client is not connected to a replica set,\n",
      " |      there is no primary, or this client was created without the\n",
      " |      `replicaSet` option.\n",
      " |      \n",
      " |      .. versionadded:: 3.0\n",
      " |         MongoClient gained this property in version 3.0 when\n",
      " |         MongoReplicaSetClient's functionality was merged in.\n",
      " |  \n",
      " |  retry_reads\n",
      " |      If this instance should retry supported write operations.\n",
      " |  \n",
      " |  retry_writes\n",
      " |      If this instance should retry supported write operations.\n",
      " |  \n",
      " |  secondaries\n",
      " |      The secondary members known to this client.\n",
      " |      \n",
      " |      A sequence of (host, port) pairs. Empty if this client is not\n",
      " |      connected to a replica set, there are no visible secondaries, or this\n",
      " |      client was created without the `replicaSet` option.\n",
      " |      \n",
      " |      .. versionadded:: 3.0\n",
      " |         MongoClient gained this property in version 3.0 when\n",
      " |         MongoReplicaSetClient's functionality was merged in.\n",
      " |  \n",
      " |  server_selection_timeout\n",
      " |      The server selection timeout for this instance in seconds.\n",
      " |  \n",
      " |  ----------------------------------------------------------------------\n",
      " |  Data and other attributes defined here:\n",
      " |  \n",
      " |  HOST = 'localhost'\n",
      " |  \n",
      " |  PORT = 27017\n",
      " |  \n",
      " |  __hash__ = None\n",
      " |  \n",
      " |  ----------------------------------------------------------------------\n",
      " |  Readonly properties inherited from pymongo.common.BaseObject:\n",
      " |  \n",
      " |  codec_options\n",
      " |      Read only access to the :class:`~bson.codec_options.CodecOptions`\n",
      " |      of this instance.\n",
      " |  \n",
      " |  read_concern\n",
      " |      Read only access to the :class:`~pymongo.read_concern.ReadConcern`\n",
      " |      of this instance.\n",
      " |      \n",
      " |      .. versionadded:: 3.2\n",
      " |  \n",
      " |  read_preference\n",
      " |      Read only access to the read preference of this instance.\n",
      " |      \n",
      " |      .. versionchanged:: 3.0\n",
      " |        The :attr:`read_preference` attribute is now read only.\n",
      " |  \n",
      " |  write_concern\n",
      " |      Read only access to the :class:`~pymongo.write_concern.WriteConcern`\n",
      " |      of this instance.\n",
      " |      \n",
      " |      .. versionchanged:: 3.0\n",
      " |        The :attr:`write_concern` attribute is now read only.\n",
      " |  \n",
      " |  ----------------------------------------------------------------------\n",
      " |  Data descriptors inherited from pymongo.common.BaseObject:\n",
      " |  \n",
      " |  __dict__\n",
      " |      dictionary for instance variables (if defined)\n",
      " |  \n",
      " |  __weakref__\n",
      " |      list of weak references to the object (if defined)\n",
      "\n"
     ]
    }
   ],
   "source": [
    "help(pymongo.MongoClient)"
   ]
  },
  {
   "cell_type": "code",
   "execution_count": 10,
   "metadata": {},
   "outputs": [],
   "source": [
    "client = pymongo.MongoClient(\"localhost\", 27017)"
   ]
  },
  {
   "cell_type": "code",
   "execution_count": 11,
   "metadata": {},
   "outputs": [],
   "source": [
    "mdb = client.mydb # 或者mdb = client['mydb'] 效果相同"
   ]
  },
  {
   "cell_type": "code",
   "execution_count": 12,
   "metadata": {},
   "outputs": [],
   "source": [
    "mdb = client['mydb']"
   ]
  },
  {
   "cell_type": "code",
   "execution_count": 13,
   "metadata": {},
   "outputs": [
    {
     "name": "stderr",
     "output_type": "stream",
     "text": [
      "<ipython-input-13-939622be93b0>:1: DeprecationWarning: collection_names is deprecated. Use list_collection_names instead.\n",
      "  mdb.collection_names()\n"
     ]
    },
    {
     "data": {
      "text/plain": [
       "['books']"
      ]
     },
     "execution_count": 13,
     "metadata": {},
     "output_type": "execute_result"
    }
   ],
   "source": [
    "mdb.collection_names()"
   ]
  },
  {
   "cell_type": "code",
   "execution_count": 14,
   "metadata": {},
   "outputs": [
    {
     "data": {
      "text/plain": [
       "['books']"
      ]
     },
     "execution_count": 14,
     "metadata": {},
     "output_type": "execute_result"
    }
   ],
   "source": [
    "mdb.list_collection_names()"
   ]
  },
  {
   "cell_type": "code",
   "execution_count": 15,
   "metadata": {},
   "outputs": [],
   "source": [
    "books = mdb['books'] # 或者 books = mdb.books"
   ]
  },
  {
   "cell_type": "code",
   "execution_count": 16,
   "metadata": {},
   "outputs": [],
   "source": [
    "books = mdb.books"
   ]
  },
  {
   "cell_type": "markdown",
   "metadata": {},
   "source": [
    "# 7.3.5 编辑"
   ]
  },
  {
   "cell_type": "code",
   "execution_count": 17,
   "metadata": {},
   "outputs": [
    {
     "data": {
      "text/plain": [
       "pymongo.collection.Collection"
      ]
     },
     "execution_count": 17,
     "metadata": {},
     "output_type": "execute_result"
    }
   ],
   "source": [
    "type(books)"
   ]
  },
  {
   "cell_type": "code",
   "execution_count": 18,
   "metadata": {
    "scrolled": false
   },
   "outputs": [
    {
     "data": {
      "text/plain": [
       "['_BaseObject__codec_options',\n",
       " '_BaseObject__read_concern',\n",
       " '_BaseObject__read_preference',\n",
       " '_BaseObject__write_concern',\n",
       " '_Collection__create',\n",
       " '_Collection__create_indexes',\n",
       " '_Collection__database',\n",
       " '_Collection__find_and_modify',\n",
       " '_Collection__full_name',\n",
       " '_Collection__name',\n",
       " '_Collection__write_response_codec_options',\n",
       " '__call__',\n",
       " '__class__',\n",
       " '__delattr__',\n",
       " '__dict__',\n",
       " '__dir__',\n",
       " '__doc__',\n",
       " '__eq__',\n",
       " '__format__',\n",
       " '__ge__',\n",
       " '__getattr__',\n",
       " '__getattribute__',\n",
       " '__getitem__',\n",
       " '__gt__',\n",
       " '__hash__',\n",
       " '__init__',\n",
       " '__init_subclass__',\n",
       " '__iter__',\n",
       " '__le__',\n",
       " '__lt__',\n",
       " '__module__',\n",
       " '__ne__',\n",
       " '__new__',\n",
       " '__next__',\n",
       " '__reduce__',\n",
       " '__reduce_ex__',\n",
       " '__repr__',\n",
       " '__setattr__',\n",
       " '__sizeof__',\n",
       " '__str__',\n",
       " '__subclasshook__',\n",
       " '__weakref__',\n",
       " '_aggregate',\n",
       " '_aggregate_one_result',\n",
       " '_command',\n",
       " '_count',\n",
       " '_delete',\n",
       " '_delete_retryable',\n",
       " '_insert',\n",
       " '_insert_one',\n",
       " '_legacy_write',\n",
       " '_map_reduce',\n",
       " '_read_preference_for',\n",
       " '_socket_for_reads',\n",
       " '_socket_for_writes',\n",
       " '_update',\n",
       " '_update_retryable',\n",
       " '_write_concern_for',\n",
       " '_write_concern_for_cmd',\n",
       " 'aggregate',\n",
       " 'aggregate_raw_batches',\n",
       " 'bulk_write',\n",
       " 'codec_options',\n",
       " 'count',\n",
       " 'count_documents',\n",
       " 'create_index',\n",
       " 'create_indexes',\n",
       " 'database',\n",
       " 'delete_many',\n",
       " 'delete_one',\n",
       " 'distinct',\n",
       " 'drop',\n",
       " 'drop_index',\n",
       " 'drop_indexes',\n",
       " 'ensure_index',\n",
       " 'estimated_document_count',\n",
       " 'find',\n",
       " 'find_and_modify',\n",
       " 'find_one',\n",
       " 'find_one_and_delete',\n",
       " 'find_one_and_replace',\n",
       " 'find_one_and_update',\n",
       " 'find_raw_batches',\n",
       " 'full_name',\n",
       " 'group',\n",
       " 'index_information',\n",
       " 'initialize_ordered_bulk_op',\n",
       " 'initialize_unordered_bulk_op',\n",
       " 'inline_map_reduce',\n",
       " 'insert',\n",
       " 'insert_many',\n",
       " 'insert_one',\n",
       " 'list_indexes',\n",
       " 'map_reduce',\n",
       " 'name',\n",
       " 'next',\n",
       " 'options',\n",
       " 'parallel_scan',\n",
       " 'read_concern',\n",
       " 'read_preference',\n",
       " 'reindex',\n",
       " 'remove',\n",
       " 'rename',\n",
       " 'replace_one',\n",
       " 'save',\n",
       " 'update',\n",
       " 'update_many',\n",
       " 'update_one',\n",
       " 'watch',\n",
       " 'with_options',\n",
       " 'write_concern']"
      ]
     },
     "execution_count": 18,
     "metadata": {},
     "output_type": "execute_result"
    }
   ],
   "source": [
    "dir(books)"
   ]
  },
  {
   "cell_type": "code",
   "execution_count": 19,
   "metadata": {},
   "outputs": [
    {
     "data": {
      "text/plain": [
       "{'_id': ObjectId('5fc227e06027ff5ab3bf02bd'),\n",
       " 'title': 'from beginner to master',\n",
       " 'author': 'qiwsir',\n",
       " 'lang': 'python'}"
      ]
     },
     "execution_count": 19,
     "metadata": {},
     "output_type": "execute_result"
    }
   ],
   "source": [
    "books.find_one() # MongoDB shell中的命令 db.books.findOne()"
   ]
  },
  {
   "cell_type": "markdown",
   "metadata": {},
   "source": [
    "## 1. 新增和查询"
   ]
  },
  {
   "cell_type": "code",
   "execution_count": 20,
   "metadata": {},
   "outputs": [],
   "source": [
    "b2 = {\"title\": \"physics\", \"author\": \"Newton\", \"lang\": \"english\"}"
   ]
  },
  {
   "cell_type": "code",
   "execution_count": 21,
   "metadata": {},
   "outputs": [
    {
     "name": "stderr",
     "output_type": "stream",
     "text": [
      "<ipython-input-21-654258405463>:1: DeprecationWarning: insert is deprecated. Use insert_one or insert_many instead.\n",
      "  books.insert(b2)\n"
     ]
    },
    {
     "data": {
      "text/plain": [
       "ObjectId('5fc22d352c80f96ab79981f7')"
      ]
     },
     "execution_count": 21,
     "metadata": {},
     "output_type": "execute_result"
    }
   ],
   "source": [
    "books.insert(b2)"
   ]
  },
  {
   "cell_type": "code",
   "execution_count": 26,
   "metadata": {
    "scrolled": true
   },
   "outputs": [
    {
     "ename": "DuplicateKeyError",
     "evalue": "E11000 duplicate key error collection: mydb.books index: _id_ dup key: { _id: ObjectId('5fc22d352c80f96ab79981f7') }, full error: {'index': 0, 'code': 11000, 'keyPattern': {'_id': 1}, 'keyValue': {'_id': ObjectId('5fc22d352c80f96ab79981f7')}, 'errmsg': \"E11000 duplicate key error collection: mydb.books index: _id_ dup key: { _id: ObjectId('5fc22d352c80f96ab79981f7') }\"}",
     "output_type": "error",
     "traceback": [
      "\u001b[0;31m---------------------------------------------------------------------------\u001b[0m",
      "\u001b[0;31mDuplicateKeyError\u001b[0m                         Traceback (most recent call last)",
      "\u001b[0;32m<ipython-input-26-0c4057f457cb>\u001b[0m in \u001b[0;36m<module>\u001b[0;34m\u001b[0m\n\u001b[0;32m----> 1\u001b[0;31m \u001b[0mbooks\u001b[0m\u001b[0;34m.\u001b[0m\u001b[0minsert_one\u001b[0m\u001b[0;34m(\u001b[0m\u001b[0mb2\u001b[0m\u001b[0;34m)\u001b[0m\u001b[0;34m\u001b[0m\u001b[0;34m\u001b[0m\u001b[0m\n\u001b[0m",
      "\u001b[0;32m/usr/local/lib/python3.8/dist-packages/pymongo/collection.py\u001b[0m in \u001b[0;36minsert_one\u001b[0;34m(self, document, bypass_document_validation, session)\u001b[0m\n\u001b[1;32m    696\u001b[0m         \u001b[0mwrite_concern\u001b[0m \u001b[0;34m=\u001b[0m \u001b[0mself\u001b[0m\u001b[0;34m.\u001b[0m\u001b[0m_write_concern_for\u001b[0m\u001b[0;34m(\u001b[0m\u001b[0msession\u001b[0m\u001b[0;34m)\u001b[0m\u001b[0;34m\u001b[0m\u001b[0;34m\u001b[0m\u001b[0m\n\u001b[1;32m    697\u001b[0m         return InsertOneResult(\n\u001b[0;32m--> 698\u001b[0;31m             self._insert(document,\n\u001b[0m\u001b[1;32m    699\u001b[0m                          \u001b[0mwrite_concern\u001b[0m\u001b[0;34m=\u001b[0m\u001b[0mwrite_concern\u001b[0m\u001b[0;34m,\u001b[0m\u001b[0;34m\u001b[0m\u001b[0;34m\u001b[0m\u001b[0m\n\u001b[1;32m    700\u001b[0m                          \u001b[0mbypass_doc_val\u001b[0m\u001b[0;34m=\u001b[0m\u001b[0mbypass_document_validation\u001b[0m\u001b[0;34m,\u001b[0m\u001b[0;34m\u001b[0m\u001b[0;34m\u001b[0m\u001b[0m\n",
      "\u001b[0;32m/usr/local/lib/python3.8/dist-packages/pymongo/collection.py\u001b[0m in \u001b[0;36m_insert\u001b[0;34m(self, docs, ordered, check_keys, manipulate, write_concern, op_id, bypass_doc_val, session)\u001b[0m\n\u001b[1;32m    611\u001b[0m         \u001b[0;34m\"\"\"Internal insert helper.\"\"\"\u001b[0m\u001b[0;34m\u001b[0m\u001b[0;34m\u001b[0m\u001b[0m\n\u001b[1;32m    612\u001b[0m         \u001b[0;32mif\u001b[0m \u001b[0misinstance\u001b[0m\u001b[0;34m(\u001b[0m\u001b[0mdocs\u001b[0m\u001b[0;34m,\u001b[0m \u001b[0mabc\u001b[0m\u001b[0;34m.\u001b[0m\u001b[0mMapping\u001b[0m\u001b[0;34m)\u001b[0m\u001b[0;34m:\u001b[0m\u001b[0;34m\u001b[0m\u001b[0;34m\u001b[0m\u001b[0m\n\u001b[0;32m--> 613\u001b[0;31m             return self._insert_one(\n\u001b[0m\u001b[1;32m    614\u001b[0m                 \u001b[0mdocs\u001b[0m\u001b[0;34m,\u001b[0m \u001b[0mordered\u001b[0m\u001b[0;34m,\u001b[0m \u001b[0mcheck_keys\u001b[0m\u001b[0;34m,\u001b[0m \u001b[0mmanipulate\u001b[0m\u001b[0;34m,\u001b[0m \u001b[0mwrite_concern\u001b[0m\u001b[0;34m,\u001b[0m \u001b[0mop_id\u001b[0m\u001b[0;34m,\u001b[0m\u001b[0;34m\u001b[0m\u001b[0;34m\u001b[0m\u001b[0m\n\u001b[1;32m    615\u001b[0m                 bypass_doc_val, session)\n",
      "\u001b[0;32m/usr/local/lib/python3.8/dist-packages/pymongo/collection.py\u001b[0m in \u001b[0;36m_insert_one\u001b[0;34m(self, doc, ordered, check_keys, manipulate, write_concern, op_id, bypass_doc_val, session)\u001b[0m\n\u001b[1;32m    600\u001b[0m             \u001b[0m_check_write_command_response\u001b[0m\u001b[0;34m(\u001b[0m\u001b[0mresult\u001b[0m\u001b[0;34m)\u001b[0m\u001b[0;34m\u001b[0m\u001b[0;34m\u001b[0m\u001b[0m\n\u001b[1;32m    601\u001b[0m \u001b[0;34m\u001b[0m\u001b[0m\n\u001b[0;32m--> 602\u001b[0;31m         self.__database.client._retryable_write(\n\u001b[0m\u001b[1;32m    603\u001b[0m             acknowledged, _insert_command, session)\n\u001b[1;32m    604\u001b[0m \u001b[0;34m\u001b[0m\u001b[0m\n",
      "\u001b[0;32m/usr/local/lib/python3.8/dist-packages/pymongo/mongo_client.py\u001b[0m in \u001b[0;36m_retryable_write\u001b[0;34m(self, retryable, func, session)\u001b[0m\n\u001b[1;32m   1496\u001b[0m         \u001b[0;34m\"\"\"Internal retryable write helper.\"\"\"\u001b[0m\u001b[0;34m\u001b[0m\u001b[0;34m\u001b[0m\u001b[0m\n\u001b[1;32m   1497\u001b[0m         \u001b[0;32mwith\u001b[0m \u001b[0mself\u001b[0m\u001b[0;34m.\u001b[0m\u001b[0m_tmp_session\u001b[0m\u001b[0;34m(\u001b[0m\u001b[0msession\u001b[0m\u001b[0;34m)\u001b[0m \u001b[0;32mas\u001b[0m \u001b[0ms\u001b[0m\u001b[0;34m:\u001b[0m\u001b[0;34m\u001b[0m\u001b[0;34m\u001b[0m\u001b[0m\n\u001b[0;32m-> 1498\u001b[0;31m             \u001b[0;32mreturn\u001b[0m \u001b[0mself\u001b[0m\u001b[0;34m.\u001b[0m\u001b[0m_retry_with_session\u001b[0m\u001b[0;34m(\u001b[0m\u001b[0mretryable\u001b[0m\u001b[0;34m,\u001b[0m \u001b[0mfunc\u001b[0m\u001b[0;34m,\u001b[0m \u001b[0ms\u001b[0m\u001b[0;34m,\u001b[0m \u001b[0;32mNone\u001b[0m\u001b[0;34m)\u001b[0m\u001b[0;34m\u001b[0m\u001b[0;34m\u001b[0m\u001b[0m\n\u001b[0m\u001b[1;32m   1499\u001b[0m \u001b[0;34m\u001b[0m\u001b[0m\n\u001b[1;32m   1500\u001b[0m     \u001b[0;32mdef\u001b[0m \u001b[0m_handle_getlasterror\u001b[0m\u001b[0;34m(\u001b[0m\u001b[0mself\u001b[0m\u001b[0;34m,\u001b[0m \u001b[0maddress\u001b[0m\u001b[0;34m,\u001b[0m \u001b[0merror_msg\u001b[0m\u001b[0;34m)\u001b[0m\u001b[0;34m:\u001b[0m\u001b[0;34m\u001b[0m\u001b[0;34m\u001b[0m\u001b[0m\n",
      "\u001b[0;32m/usr/local/lib/python3.8/dist-packages/pymongo/mongo_client.py\u001b[0m in \u001b[0;36m_retry_with_session\u001b[0;34m(self, retryable, func, session, bulk)\u001b[0m\n\u001b[1;32m   1382\u001b[0m         retryable = (retryable and self.retry_writes\n\u001b[1;32m   1383\u001b[0m                      and session and not session.in_transaction)\n\u001b[0;32m-> 1384\u001b[0;31m         \u001b[0;32mreturn\u001b[0m \u001b[0mself\u001b[0m\u001b[0;34m.\u001b[0m\u001b[0m_retry_internal\u001b[0m\u001b[0;34m(\u001b[0m\u001b[0mretryable\u001b[0m\u001b[0;34m,\u001b[0m \u001b[0mfunc\u001b[0m\u001b[0;34m,\u001b[0m \u001b[0msession\u001b[0m\u001b[0;34m,\u001b[0m \u001b[0mbulk\u001b[0m\u001b[0;34m)\u001b[0m\u001b[0;34m\u001b[0m\u001b[0;34m\u001b[0m\u001b[0m\n\u001b[0m\u001b[1;32m   1385\u001b[0m \u001b[0;34m\u001b[0m\u001b[0m\n\u001b[1;32m   1386\u001b[0m     \u001b[0;32mdef\u001b[0m \u001b[0m_retry_internal\u001b[0m\u001b[0;34m(\u001b[0m\u001b[0mself\u001b[0m\u001b[0;34m,\u001b[0m \u001b[0mretryable\u001b[0m\u001b[0;34m,\u001b[0m \u001b[0mfunc\u001b[0m\u001b[0;34m,\u001b[0m \u001b[0msession\u001b[0m\u001b[0;34m,\u001b[0m \u001b[0mbulk\u001b[0m\u001b[0;34m)\u001b[0m\u001b[0;34m:\u001b[0m\u001b[0;34m\u001b[0m\u001b[0;34m\u001b[0m\u001b[0m\n",
      "\u001b[0;32m/usr/local/lib/python3.8/dist-packages/pymongo/mongo_client.py\u001b[0m in \u001b[0;36m_retry_internal\u001b[0;34m(self, retryable, func, session, bulk)\u001b[0m\n\u001b[1;32m   1414\u001b[0m                             \u001b[0;32mraise\u001b[0m \u001b[0mlast_error\u001b[0m\u001b[0;34m\u001b[0m\u001b[0;34m\u001b[0m\u001b[0m\n\u001b[1;32m   1415\u001b[0m                         \u001b[0mretryable\u001b[0m \u001b[0;34m=\u001b[0m \u001b[0;32mFalse\u001b[0m\u001b[0;34m\u001b[0m\u001b[0;34m\u001b[0m\u001b[0m\n\u001b[0;32m-> 1416\u001b[0;31m                     \u001b[0;32mreturn\u001b[0m \u001b[0mfunc\u001b[0m\u001b[0;34m(\u001b[0m\u001b[0msession\u001b[0m\u001b[0;34m,\u001b[0m \u001b[0msock_info\u001b[0m\u001b[0;34m,\u001b[0m \u001b[0mretryable\u001b[0m\u001b[0;34m)\u001b[0m\u001b[0;34m\u001b[0m\u001b[0;34m\u001b[0m\u001b[0m\n\u001b[0m\u001b[1;32m   1417\u001b[0m             \u001b[0;32mexcept\u001b[0m \u001b[0mServerSelectionTimeoutError\u001b[0m\u001b[0;34m:\u001b[0m\u001b[0;34m\u001b[0m\u001b[0;34m\u001b[0m\u001b[0m\n\u001b[1;32m   1418\u001b[0m                 \u001b[0;32mif\u001b[0m \u001b[0mis_retrying\u001b[0m\u001b[0;34m(\u001b[0m\u001b[0;34m)\u001b[0m\u001b[0;34m:\u001b[0m\u001b[0;34m\u001b[0m\u001b[0;34m\u001b[0m\u001b[0m\n",
      "\u001b[0;32m/usr/local/lib/python3.8/dist-packages/pymongo/collection.py\u001b[0m in \u001b[0;36m_insert_command\u001b[0;34m(session, sock_info, retryable_write)\u001b[0m\n\u001b[1;32m    598\u001b[0m                 retryable_write=retryable_write)\n\u001b[1;32m    599\u001b[0m \u001b[0;34m\u001b[0m\u001b[0m\n\u001b[0;32m--> 600\u001b[0;31m             \u001b[0m_check_write_command_response\u001b[0m\u001b[0;34m(\u001b[0m\u001b[0mresult\u001b[0m\u001b[0;34m)\u001b[0m\u001b[0;34m\u001b[0m\u001b[0;34m\u001b[0m\u001b[0m\n\u001b[0m\u001b[1;32m    601\u001b[0m \u001b[0;34m\u001b[0m\u001b[0m\n\u001b[1;32m    602\u001b[0m         self.__database.client._retryable_write(\n",
      "\u001b[0;32m/usr/local/lib/python3.8/dist-packages/pymongo/helpers.py\u001b[0m in \u001b[0;36m_check_write_command_response\u001b[0;34m(result)\u001b[0m\n\u001b[1;32m    220\u001b[0m     \u001b[0mwrite_errors\u001b[0m \u001b[0;34m=\u001b[0m \u001b[0mresult\u001b[0m\u001b[0;34m.\u001b[0m\u001b[0mget\u001b[0m\u001b[0;34m(\u001b[0m\u001b[0;34m\"writeErrors\"\u001b[0m\u001b[0;34m)\u001b[0m\u001b[0;34m\u001b[0m\u001b[0;34m\u001b[0m\u001b[0m\n\u001b[1;32m    221\u001b[0m     \u001b[0;32mif\u001b[0m \u001b[0mwrite_errors\u001b[0m\u001b[0;34m:\u001b[0m\u001b[0;34m\u001b[0m\u001b[0;34m\u001b[0m\u001b[0m\n\u001b[0;32m--> 222\u001b[0;31m         \u001b[0m_raise_last_write_error\u001b[0m\u001b[0;34m(\u001b[0m\u001b[0mwrite_errors\u001b[0m\u001b[0;34m)\u001b[0m\u001b[0;34m\u001b[0m\u001b[0;34m\u001b[0m\u001b[0m\n\u001b[0m\u001b[1;32m    223\u001b[0m \u001b[0;34m\u001b[0m\u001b[0m\n\u001b[1;32m    224\u001b[0m     \u001b[0merror\u001b[0m \u001b[0;34m=\u001b[0m \u001b[0mresult\u001b[0m\u001b[0;34m.\u001b[0m\u001b[0mget\u001b[0m\u001b[0;34m(\u001b[0m\u001b[0;34m\"writeConcernError\"\u001b[0m\u001b[0;34m)\u001b[0m\u001b[0;34m\u001b[0m\u001b[0;34m\u001b[0m\u001b[0m\n",
      "\u001b[0;32m/usr/local/lib/python3.8/dist-packages/pymongo/helpers.py\u001b[0m in \u001b[0;36m_raise_last_write_error\u001b[0;34m(write_errors)\u001b[0m\n\u001b[1;32m    201\u001b[0m     \u001b[0merror\u001b[0m \u001b[0;34m=\u001b[0m \u001b[0mwrite_errors\u001b[0m\u001b[0;34m[\u001b[0m\u001b[0;34m-\u001b[0m\u001b[0;36m1\u001b[0m\u001b[0;34m]\u001b[0m\u001b[0;34m\u001b[0m\u001b[0;34m\u001b[0m\u001b[0m\n\u001b[1;32m    202\u001b[0m     \u001b[0;32mif\u001b[0m \u001b[0merror\u001b[0m\u001b[0;34m.\u001b[0m\u001b[0mget\u001b[0m\u001b[0;34m(\u001b[0m\u001b[0;34m\"code\"\u001b[0m\u001b[0;34m)\u001b[0m \u001b[0;34m==\u001b[0m \u001b[0;36m11000\u001b[0m\u001b[0;34m:\u001b[0m\u001b[0;34m\u001b[0m\u001b[0;34m\u001b[0m\u001b[0m\n\u001b[0;32m--> 203\u001b[0;31m         \u001b[0;32mraise\u001b[0m \u001b[0mDuplicateKeyError\u001b[0m\u001b[0;34m(\u001b[0m\u001b[0merror\u001b[0m\u001b[0;34m.\u001b[0m\u001b[0mget\u001b[0m\u001b[0;34m(\u001b[0m\u001b[0;34m\"errmsg\"\u001b[0m\u001b[0;34m)\u001b[0m\u001b[0;34m,\u001b[0m \u001b[0;36m11000\u001b[0m\u001b[0;34m,\u001b[0m \u001b[0merror\u001b[0m\u001b[0;34m)\u001b[0m\u001b[0;34m\u001b[0m\u001b[0;34m\u001b[0m\u001b[0m\n\u001b[0m\u001b[1;32m    204\u001b[0m     \u001b[0;32mraise\u001b[0m \u001b[0mWriteError\u001b[0m\u001b[0;34m(\u001b[0m\u001b[0merror\u001b[0m\u001b[0;34m.\u001b[0m\u001b[0mget\u001b[0m\u001b[0;34m(\u001b[0m\u001b[0;34m\"errmsg\"\u001b[0m\u001b[0;34m)\u001b[0m\u001b[0;34m,\u001b[0m \u001b[0merror\u001b[0m\u001b[0;34m.\u001b[0m\u001b[0mget\u001b[0m\u001b[0;34m(\u001b[0m\u001b[0;34m\"code\"\u001b[0m\u001b[0;34m)\u001b[0m\u001b[0;34m,\u001b[0m \u001b[0merror\u001b[0m\u001b[0;34m)\u001b[0m\u001b[0;34m\u001b[0m\u001b[0;34m\u001b[0m\u001b[0m\n\u001b[1;32m    205\u001b[0m \u001b[0;34m\u001b[0m\u001b[0m\n",
      "\u001b[0;31mDuplicateKeyError\u001b[0m: E11000 duplicate key error collection: mydb.books index: _id_ dup key: { _id: ObjectId('5fc22d352c80f96ab79981f7') }, full error: {'index': 0, 'code': 11000, 'keyPattern': {'_id': 1}, 'keyValue': {'_id': ObjectId('5fc22d352c80f96ab79981f7')}, 'errmsg': \"E11000 duplicate key error collection: mydb.books index: _id_ dup key: { _id: ObjectId('5fc22d352c80f96ab79981f7') }\"}"
     ]
    }
   ],
   "source": [
    "books.insert_one(b2)"
   ]
  },
  {
   "cell_type": "code",
   "execution_count": 24,
   "metadata": {
    "scrolled": true
   },
   "outputs": [
    {
     "name": "stdout",
     "output_type": "stream",
     "text": [
      "Help on method insert_one in module pymongo.collection:\n",
      "\n",
      "insert_one(document, bypass_document_validation=False, session=None) method of pymongo.collection.Collection instance\n",
      "    Insert a single document.\n",
      "    \n",
      "      >>> db.test.count_documents({'x': 1})\n",
      "      0\n",
      "      >>> result = db.test.insert_one({'x': 1})\n",
      "      >>> result.inserted_id\n",
      "      ObjectId('54f112defba522406c9cc208')\n",
      "      >>> db.test.find_one({'x': 1})\n",
      "      {u'x': 1, u'_id': ObjectId('54f112defba522406c9cc208')}\n",
      "    \n",
      "    :Parameters:\n",
      "      - `document`: The document to insert. Must be a mutable mapping\n",
      "        type. If the document does not have an _id field one will be\n",
      "        added automatically.\n",
      "      - `bypass_document_validation`: (optional) If ``True``, allows the\n",
      "        write to opt-out of document level validation. Default is\n",
      "        ``False``.\n",
      "      - `session` (optional): a\n",
      "        :class:`~pymongo.client_session.ClientSession`.\n",
      "    \n",
      "    :Returns:\n",
      "      - An instance of :class:`~pymongo.results.InsertOneResult`.\n",
      "    \n",
      "    .. seealso:: :ref:`writes-and-ids`\n",
      "    \n",
      "    .. note:: `bypass_document_validation` requires server version\n",
      "      **>= 3.2**\n",
      "    \n",
      "    .. versionchanged:: 3.6\n",
      "       Added ``session`` parameter.\n",
      "    \n",
      "    .. versionchanged:: 3.2\n",
      "      Added bypass_document_validation support\n",
      "    \n",
      "    .. versionadded:: 3.0\n",
      "\n"
     ]
    }
   ],
   "source": [
    "help(books.insert_one)"
   ]
  },
  {
   "cell_type": "code",
   "execution_count": 25,
   "metadata": {
    "scrolled": true
   },
   "outputs": [
    {
     "name": "stdout",
     "output_type": "stream",
     "text": [
      "Help on method insert_many in module pymongo.collection:\n",
      "\n",
      "insert_many(documents, ordered=True, bypass_document_validation=False, session=None) method of pymongo.collection.Collection instance\n",
      "    Insert an iterable of documents.\n",
      "    \n",
      "      >>> db.test.count_documents({})\n",
      "      0\n",
      "      >>> result = db.test.insert_many([{'x': i} for i in range(2)])\n",
      "      >>> result.inserted_ids\n",
      "      [ObjectId('54f113fffba522406c9cc20e'), ObjectId('54f113fffba522406c9cc20f')]\n",
      "      >>> db.test.count_documents({})\n",
      "      2\n",
      "    \n",
      "    :Parameters:\n",
      "      - `documents`: A iterable of documents to insert.\n",
      "      - `ordered` (optional): If ``True`` (the default) documents will be\n",
      "        inserted on the server serially, in the order provided. If an error\n",
      "        occurs all remaining inserts are aborted. If ``False``, documents\n",
      "        will be inserted on the server in arbitrary order, possibly in\n",
      "        parallel, and all document inserts will be attempted.\n",
      "      - `bypass_document_validation`: (optional) If ``True``, allows the\n",
      "        write to opt-out of document level validation. Default is\n",
      "        ``False``.\n",
      "      - `session` (optional): a\n",
      "        :class:`~pymongo.client_session.ClientSession`.\n",
      "    \n",
      "    :Returns:\n",
      "      An instance of :class:`~pymongo.results.InsertManyResult`.\n",
      "    \n",
      "    .. seealso:: :ref:`writes-and-ids`\n",
      "    \n",
      "    .. note:: `bypass_document_validation` requires server version\n",
      "      **>= 3.2**\n",
      "    \n",
      "    .. versionchanged:: 3.6\n",
      "       Added ``session`` parameter.\n",
      "    \n",
      "    .. versionchanged:: 3.2\n",
      "      Added bypass_document_validation support\n",
      "    \n",
      "    .. versionadded:: 3.0\n",
      "\n"
     ]
    }
   ],
   "source": [
    "help(books.insert_many)"
   ]
  },
  {
   "cell_type": "code",
   "execution_count": 27,
   "metadata": {},
   "outputs": [],
   "source": [
    "b3 = [{\"title\": \"physics\"}, {\"author\": \"Newton\"}, {\"lang\": \"english\"}]"
   ]
  },
  {
   "cell_type": "code",
   "execution_count": 28,
   "metadata": {},
   "outputs": [
    {
     "data": {
      "text/plain": [
       "<pymongo.results.InsertManyResult at 0x7f00bfdef440>"
      ]
     },
     "execution_count": 28,
     "metadata": {},
     "output_type": "execute_result"
    }
   ],
   "source": [
    "books.insert_many(b3)"
   ]
  },
  {
   "cell_type": "code",
   "execution_count": 29,
   "metadata": {},
   "outputs": [
    {
     "name": "stderr",
     "output_type": "stream",
     "text": [
      "<ipython-input-29-089f26da3cb1>:1: DeprecationWarning: count is deprecated. Use Collection.count_documents instead.\n",
      "  books.find().count()\n"
     ]
    },
    {
     "data": {
      "text/plain": [
       "5"
      ]
     },
     "execution_count": 29,
     "metadata": {},
     "output_type": "execute_result"
    }
   ],
   "source": [
    "books.find().count()"
   ]
  },
  {
   "cell_type": "code",
   "execution_count": 43,
   "metadata": {
    "scrolled": false
   },
   "outputs": [
    {
     "ename": "TypeError",
     "evalue": "count_documents() missing 1 required positional argument: 'filter'",
     "output_type": "error",
     "traceback": [
      "\u001b[0;31m---------------------------------------------------------------------------\u001b[0m",
      "\u001b[0;31mTypeError\u001b[0m                                 Traceback (most recent call last)",
      "\u001b[0;32m<ipython-input-43-d7b4e3fa648d>\u001b[0m in \u001b[0;36m<module>\u001b[0;34m\u001b[0m\n\u001b[0;32m----> 1\u001b[0;31m \u001b[0mbooks\u001b[0m\u001b[0;34m.\u001b[0m\u001b[0mcount_documents\u001b[0m\u001b[0;34m(\u001b[0m\u001b[0;34m)\u001b[0m\u001b[0;34m\u001b[0m\u001b[0;34m\u001b[0m\u001b[0m\n\u001b[0m",
      "\u001b[0;31mTypeError\u001b[0m: count_documents() missing 1 required positional argument: 'filter'"
     ]
    }
   ],
   "source": [
    "books.count_documents()"
   ]
  },
  {
   "cell_type": "code",
   "execution_count": 37,
   "metadata": {},
   "outputs": [
    {
     "name": "stdout",
     "output_type": "stream",
     "text": [
      "Help on method count_documents in module pymongo.collection:\n",
      "\n",
      "count_documents(filter, session=None, **kwargs) method of pymongo.collection.Collection instance\n",
      "    Count the number of documents in this collection.\n",
      "    \n",
      "    .. note:: For a fast count of the total documents in a collection see\n",
      "       :meth:`estimated_document_count`.\n",
      "    \n",
      "    The :meth:`count_documents` method is supported in a transaction.\n",
      "    \n",
      "    All optional parameters should be passed as keyword arguments\n",
      "    to this method. Valid options include:\n",
      "    \n",
      "      - `skip` (int): The number of matching documents to skip before\n",
      "        returning results.\n",
      "      - `limit` (int): The maximum number of documents to count. Must be\n",
      "        a positive integer. If not provided, no limit is imposed.\n",
      "      - `maxTimeMS` (int): The maximum amount of time to allow this\n",
      "        operation to run, in milliseconds.\n",
      "      - `collation` (optional): An instance of\n",
      "        :class:`~pymongo.collation.Collation`. This option is only supported\n",
      "        on MongoDB 3.4 and above.\n",
      "      - `hint` (string or list of tuples): The index to use. Specify either\n",
      "        the index name as a string or the index specification as a list of\n",
      "        tuples (e.g. [('a', pymongo.ASCENDING), ('b', pymongo.ASCENDING)]).\n",
      "        This option is only supported on MongoDB 3.6 and above.\n",
      "    \n",
      "    The :meth:`count_documents` method obeys the :attr:`read_preference` of\n",
      "    this :class:`Collection`.\n",
      "    \n",
      "    .. note:: When migrating from :meth:`count` to :meth:`count_documents`\n",
      "       the following query operators must be replaced:\n",
      "    \n",
      "       +-------------+-------------------------------------+\n",
      "       | Operator    | Replacement                         |\n",
      "       +=============+=====================================+\n",
      "       | $where      | `$expr`_                            |\n",
      "       +-------------+-------------------------------------+\n",
      "       | $near       | `$geoWithin`_ with `$center`_       |\n",
      "       +-------------+-------------------------------------+\n",
      "       | $nearSphere | `$geoWithin`_ with `$centerSphere`_ |\n",
      "       +-------------+-------------------------------------+\n",
      "    \n",
      "       $expr requires MongoDB 3.6+\n",
      "    \n",
      "    :Parameters:\n",
      "      - `filter` (required): A query document that selects which documents\n",
      "        to count in the collection. Can be an empty document to count all\n",
      "        documents.\n",
      "      - `session` (optional): a\n",
      "        :class:`~pymongo.client_session.ClientSession`.\n",
      "      - `**kwargs` (optional): See list of options above.\n",
      "    \n",
      "    .. versionadded:: 3.7\n",
      "    \n",
      "    .. _$expr: https://docs.mongodb.com/manual/reference/operator/query/expr/\n",
      "    .. _$geoWithin: https://docs.mongodb.com/manual/reference/operator/query/geoWithin/\n",
      "    .. _$center: https://docs.mongodb.com/manual/reference/operator/query/center/#op._S_center\n",
      "    .. _$centerSphere: https://docs.mongodb.com/manual/reference/operator/query/centerSphere/#op._S_centerSphere\n",
      "\n"
     ]
    }
   ],
   "source": [
    "help(books.count_documents)"
   ]
  },
  {
   "cell_type": "code",
   "execution_count": 44,
   "metadata": {},
   "outputs": [
    {
     "data": {
      "text/plain": [
       "{'_id': ObjectId('5fc227e06027ff5ab3bf02bd'),\n",
       " 'title': 'from beginner to master',\n",
       " 'author': 'qiwsir',\n",
       " 'lang': 'python'}"
      ]
     },
     "execution_count": 44,
     "metadata": {},
     "output_type": "execute_result"
    }
   ],
   "source": [
    "books.find_one()"
   ]
  },
  {
   "cell_type": "code",
   "execution_count": 45,
   "metadata": {},
   "outputs": [
    {
     "name": "stdout",
     "output_type": "stream",
     "text": [
      "{'_id': ObjectId('5fc227e06027ff5ab3bf02bd'), 'title': 'from beginner to master', 'author': 'qiwsir', 'lang': 'python'}\n",
      "{'_id': ObjectId('5fc22d352c80f96ab79981f7'), 'title': 'physics', 'author': 'Newton', 'lang': 'english'}\n",
      "{'_id': ObjectId('5fc22e952c80f96ab79981f8'), 'title': 'physics'}\n",
      "{'_id': ObjectId('5fc22e952c80f96ab79981f9'), 'author': 'Newton'}\n",
      "{'_id': ObjectId('5fc22e952c80f96ab79981fa'), 'lang': 'english'}\n"
     ]
    }
   ],
   "source": [
    "for i in books.find():\n",
    "    print(i)"
   ]
  },
  {
   "cell_type": "code",
   "execution_count": 46,
   "metadata": {},
   "outputs": [
    {
     "data": {
      "text/plain": [
       "<pymongo.results.InsertOneResult at 0x7f00d49e0840>"
      ]
     },
     "execution_count": 46,
     "metadata": {},
     "output_type": "execute_result"
    }
   ],
   "source": [
    "books.insert_one({'name': \"Hertz\"})"
   ]
  },
  {
   "cell_type": "code",
   "execution_count": 47,
   "metadata": {},
   "outputs": [
    {
     "name": "stdout",
     "output_type": "stream",
     "text": [
      "{'_id': ObjectId('5fc227e06027ff5ab3bf02bd'), 'title': 'from beginner to master', 'author': 'qiwsir', 'lang': 'python'}\n",
      "{'_id': ObjectId('5fc22d352c80f96ab79981f7'), 'title': 'physics', 'author': 'Newton', 'lang': 'english'}\n",
      "{'_id': ObjectId('5fc22e952c80f96ab79981f8'), 'title': 'physics'}\n",
      "{'_id': ObjectId('5fc22e952c80f96ab79981f9'), 'author': 'Newton'}\n",
      "{'_id': ObjectId('5fc22e952c80f96ab79981fa'), 'lang': 'english'}\n",
      "{'_id': ObjectId('5fc231a22c80f96ab79981fb'), 'name': 'Hertz'}\n"
     ]
    }
   ],
   "source": [
    "for i in books.find():\n",
    "    print(i)"
   ]
  },
  {
   "cell_type": "code",
   "execution_count": 48,
   "metadata": {},
   "outputs": [],
   "source": [
    "n1 = {'title': \"java\", \"name\": \"Bush\"}"
   ]
  },
  {
   "cell_type": "code",
   "execution_count": 49,
   "metadata": {},
   "outputs": [],
   "source": [
    "n2 = {'title': \"fortran\", \"name\": \"John Warner Backus\"}"
   ]
  },
  {
   "cell_type": "code",
   "execution_count": 50,
   "metadata": {},
   "outputs": [],
   "source": [
    "n3 = {'title': \"lisp\", 'name': \"John McCarthy\"}"
   ]
  },
  {
   "cell_type": "code",
   "execution_count": 51,
   "metadata": {},
   "outputs": [],
   "source": [
    "n = [n1, n2, n3]"
   ]
  },
  {
   "cell_type": "code",
   "execution_count": 52,
   "metadata": {},
   "outputs": [
    {
     "data": {
      "text/plain": [
       "[{'title': 'java', 'name': 'Bush'},\n",
       " {'title': 'fortran', 'name': 'John Warner Backus'},\n",
       " {'title': 'lisp', 'name': 'John McCarthy'}]"
      ]
     },
     "execution_count": 52,
     "metadata": {},
     "output_type": "execute_result"
    }
   ],
   "source": [
    "n"
   ]
  },
  {
   "cell_type": "code",
   "execution_count": 53,
   "metadata": {},
   "outputs": [
    {
     "name": "stderr",
     "output_type": "stream",
     "text": [
      "<ipython-input-53-060f14c5c70b>:1: DeprecationWarning: insert is deprecated. Use insert_one or insert_many instead.\n",
      "  books.insert(n)\n"
     ]
    },
    {
     "data": {
      "text/plain": [
       "[ObjectId('5fc232402c80f96ab79981fc'),\n",
       " ObjectId('5fc232402c80f96ab79981fd'),\n",
       " ObjectId('5fc232402c80f96ab79981fe')]"
      ]
     },
     "execution_count": 53,
     "metadata": {},
     "output_type": "execute_result"
    }
   ],
   "source": [
    "books.insert(n)"
   ]
  },
  {
   "cell_type": "code",
   "execution_count": 54,
   "metadata": {
    "scrolled": true
   },
   "outputs": [
    {
     "ename": "BulkWriteError",
     "evalue": "{'writeErrors': [{'index': 0, 'code': 11000, 'keyPattern': {'_id': 1}, 'keyValue': {'_id': ObjectId('5fc232402c80f96ab79981fc')}, 'errmsg': \"E11000 duplicate key error collection: mydb.books index: _id_ dup key: { _id: ObjectId('5fc232402c80f96ab79981fc') }\", 'op': {'title': 'java', 'name': 'Bush', '_id': ObjectId('5fc232402c80f96ab79981fc')}}], 'writeConcernErrors': [], 'nInserted': 0, 'nUpserted': 0, 'nMatched': 0, 'nModified': 0, 'nRemoved': 0, 'upserted': []}",
     "output_type": "error",
     "traceback": [
      "\u001b[0;31m---------------------------------------------------------------------------\u001b[0m",
      "\u001b[0;31mBulkWriteError\u001b[0m                            Traceback (most recent call last)",
      "\u001b[0;32m<ipython-input-54-1684a53e2c73>\u001b[0m in \u001b[0;36m<module>\u001b[0;34m\u001b[0m\n\u001b[0;32m----> 1\u001b[0;31m \u001b[0mbooks\u001b[0m\u001b[0;34m.\u001b[0m\u001b[0minsert_many\u001b[0m\u001b[0;34m(\u001b[0m\u001b[0mn\u001b[0m\u001b[0;34m)\u001b[0m\u001b[0;34m\u001b[0m\u001b[0;34m\u001b[0m\u001b[0m\n\u001b[0m",
      "\u001b[0;32m/usr/local/lib/python3.8/dist-packages/pymongo/collection.py\u001b[0m in \u001b[0;36minsert_many\u001b[0;34m(self, documents, ordered, bypass_document_validation, session)\u001b[0m\n\u001b[1;32m    759\u001b[0m         \u001b[0mblk\u001b[0m \u001b[0;34m=\u001b[0m \u001b[0m_Bulk\u001b[0m\u001b[0;34m(\u001b[0m\u001b[0mself\u001b[0m\u001b[0;34m,\u001b[0m \u001b[0mordered\u001b[0m\u001b[0;34m,\u001b[0m \u001b[0mbypass_document_validation\u001b[0m\u001b[0;34m)\u001b[0m\u001b[0;34m\u001b[0m\u001b[0;34m\u001b[0m\u001b[0m\n\u001b[1;32m    760\u001b[0m         \u001b[0mblk\u001b[0m\u001b[0;34m.\u001b[0m\u001b[0mops\u001b[0m \u001b[0;34m=\u001b[0m \u001b[0;34m[\u001b[0m\u001b[0mdoc\u001b[0m \u001b[0;32mfor\u001b[0m \u001b[0mdoc\u001b[0m \u001b[0;32min\u001b[0m \u001b[0mgen\u001b[0m\u001b[0;34m(\u001b[0m\u001b[0;34m)\u001b[0m\u001b[0;34m]\u001b[0m\u001b[0;34m\u001b[0m\u001b[0;34m\u001b[0m\u001b[0m\n\u001b[0;32m--> 761\u001b[0;31m         \u001b[0mblk\u001b[0m\u001b[0;34m.\u001b[0m\u001b[0mexecute\u001b[0m\u001b[0;34m(\u001b[0m\u001b[0mwrite_concern\u001b[0m\u001b[0;34m,\u001b[0m \u001b[0msession\u001b[0m\u001b[0;34m=\u001b[0m\u001b[0msession\u001b[0m\u001b[0;34m)\u001b[0m\u001b[0;34m\u001b[0m\u001b[0;34m\u001b[0m\u001b[0m\n\u001b[0m\u001b[1;32m    762\u001b[0m         \u001b[0;32mreturn\u001b[0m \u001b[0mInsertManyResult\u001b[0m\u001b[0;34m(\u001b[0m\u001b[0minserted_ids\u001b[0m\u001b[0;34m,\u001b[0m \u001b[0mwrite_concern\u001b[0m\u001b[0;34m.\u001b[0m\u001b[0macknowledged\u001b[0m\u001b[0;34m)\u001b[0m\u001b[0;34m\u001b[0m\u001b[0;34m\u001b[0m\u001b[0m\n\u001b[1;32m    763\u001b[0m \u001b[0;34m\u001b[0m\u001b[0m\n",
      "\u001b[0;32m/usr/local/lib/python3.8/dist-packages/pymongo/bulk.py\u001b[0m in \u001b[0;36mexecute\u001b[0;34m(self, write_concern, session)\u001b[0m\n\u001b[1;32m    526\u001b[0m                 \u001b[0mself\u001b[0m\u001b[0;34m.\u001b[0m\u001b[0mexecute_no_results\u001b[0m\u001b[0;34m(\u001b[0m\u001b[0msock_info\u001b[0m\u001b[0;34m,\u001b[0m \u001b[0mgenerator\u001b[0m\u001b[0;34m)\u001b[0m\u001b[0;34m\u001b[0m\u001b[0;34m\u001b[0m\u001b[0m\n\u001b[1;32m    527\u001b[0m         \u001b[0;32melse\u001b[0m\u001b[0;34m:\u001b[0m\u001b[0;34m\u001b[0m\u001b[0;34m\u001b[0m\u001b[0m\n\u001b[0;32m--> 528\u001b[0;31m             \u001b[0;32mreturn\u001b[0m \u001b[0mself\u001b[0m\u001b[0;34m.\u001b[0m\u001b[0mexecute_command\u001b[0m\u001b[0;34m(\u001b[0m\u001b[0mgenerator\u001b[0m\u001b[0;34m,\u001b[0m \u001b[0mwrite_concern\u001b[0m\u001b[0;34m,\u001b[0m \u001b[0msession\u001b[0m\u001b[0;34m)\u001b[0m\u001b[0;34m\u001b[0m\u001b[0;34m\u001b[0m\u001b[0m\n\u001b[0m\u001b[1;32m    529\u001b[0m \u001b[0;34m\u001b[0m\u001b[0m\n\u001b[1;32m    530\u001b[0m \u001b[0;34m\u001b[0m\u001b[0m\n",
      "\u001b[0;32m/usr/local/lib/python3.8/dist-packages/pymongo/bulk.py\u001b[0m in \u001b[0;36mexecute_command\u001b[0;34m(self, generator, write_concern, session)\u001b[0m\n\u001b[1;32m    361\u001b[0m \u001b[0;34m\u001b[0m\u001b[0m\n\u001b[1;32m    362\u001b[0m         \u001b[0;32mif\u001b[0m \u001b[0mfull_result\u001b[0m\u001b[0;34m[\u001b[0m\u001b[0;34m\"writeErrors\"\u001b[0m\u001b[0;34m]\u001b[0m \u001b[0;32mor\u001b[0m \u001b[0mfull_result\u001b[0m\u001b[0;34m[\u001b[0m\u001b[0;34m\"writeConcernErrors\"\u001b[0m\u001b[0;34m]\u001b[0m\u001b[0;34m:\u001b[0m\u001b[0;34m\u001b[0m\u001b[0;34m\u001b[0m\u001b[0m\n\u001b[0;32m--> 363\u001b[0;31m             \u001b[0m_raise_bulk_write_error\u001b[0m\u001b[0;34m(\u001b[0m\u001b[0mfull_result\u001b[0m\u001b[0;34m)\u001b[0m\u001b[0;34m\u001b[0m\u001b[0;34m\u001b[0m\u001b[0m\n\u001b[0m\u001b[1;32m    364\u001b[0m         \u001b[0;32mreturn\u001b[0m \u001b[0mfull_result\u001b[0m\u001b[0;34m\u001b[0m\u001b[0;34m\u001b[0m\u001b[0m\n\u001b[1;32m    365\u001b[0m \u001b[0;34m\u001b[0m\u001b[0m\n",
      "\u001b[0;32m/usr/local/lib/python3.8/dist-packages/pymongo/bulk.py\u001b[0m in \u001b[0;36m_raise_bulk_write_error\u001b[0;34m(full_result)\u001b[0m\n\u001b[1;32m    138\u001b[0m         full_result[\"writeErrors\"].sort(\n\u001b[1;32m    139\u001b[0m             key=lambda error: error[\"index\"])\n\u001b[0;32m--> 140\u001b[0;31m     \u001b[0;32mraise\u001b[0m \u001b[0mBulkWriteError\u001b[0m\u001b[0;34m(\u001b[0m\u001b[0mfull_result\u001b[0m\u001b[0;34m)\u001b[0m\u001b[0;34m\u001b[0m\u001b[0;34m\u001b[0m\u001b[0m\n\u001b[0m\u001b[1;32m    141\u001b[0m \u001b[0;34m\u001b[0m\u001b[0m\n\u001b[1;32m    142\u001b[0m \u001b[0;34m\u001b[0m\u001b[0m\n",
      "\u001b[0;31mBulkWriteError\u001b[0m: {'writeErrors': [{'index': 0, 'code': 11000, 'keyPattern': {'_id': 1}, 'keyValue': {'_id': ObjectId('5fc232402c80f96ab79981fc')}, 'errmsg': \"E11000 duplicate key error collection: mydb.books index: _id_ dup key: { _id: ObjectId('5fc232402c80f96ab79981fc') }\", 'op': {'title': 'java', 'name': 'Bush', '_id': ObjectId('5fc232402c80f96ab79981fc')}}], 'writeConcernErrors': [], 'nInserted': 0, 'nUpserted': 0, 'nMatched': 0, 'nModified': 0, 'nRemoved': 0, 'upserted': []}"
     ]
    }
   ],
   "source": [
    "books.insert_many(n)"
   ]
  },
  {
   "cell_type": "code",
   "execution_count": 55,
   "metadata": {},
   "outputs": [
    {
     "name": "stderr",
     "output_type": "stream",
     "text": [
      "<ipython-input-55-089f26da3cb1>:1: DeprecationWarning: count is deprecated. Use Collection.count_documents instead.\n",
      "  books.find().count()\n"
     ]
    },
    {
     "data": {
      "text/plain": [
       "9"
      ]
     },
     "execution_count": 55,
     "metadata": {},
     "output_type": "execute_result"
    }
   ],
   "source": [
    "books.find().count()"
   ]
  },
  {
   "cell_type": "code",
   "execution_count": 57,
   "metadata": {},
   "outputs": [
    {
     "data": {
      "text/plain": [
       "1"
      ]
     },
     "execution_count": 57,
     "metadata": {},
     "output_type": "execute_result"
    }
   ],
   "source": [
    "books.count_documents({'author': \"qiwsir\"})"
   ]
  },
  {
   "cell_type": "code",
   "execution_count": 58,
   "metadata": {},
   "outputs": [
    {
     "data": {
      "text/plain": [
       "{'_id': ObjectId('5fc232402c80f96ab79981fc'), 'title': 'java', 'name': 'Bush'}"
      ]
     },
     "execution_count": 58,
     "metadata": {},
     "output_type": "execute_result"
    }
   ],
   "source": [
    "books.find_one({\"name\": \"Bush\"})"
   ]
  },
  {
   "cell_type": "code",
   "execution_count": 59,
   "metadata": {},
   "outputs": [
    {
     "name": "stdout",
     "output_type": "stream",
     "text": [
      "{'_id': ObjectId('5fc22e952c80f96ab79981f9'), 'author': 'Newton'}\n",
      "{'_id': ObjectId('5fc22e952c80f96ab79981fa'), 'lang': 'english'}\n",
      "{'_id': ObjectId('5fc231a22c80f96ab79981fb'), 'name': 'Hertz'}\n",
      "{'_id': ObjectId('5fc232402c80f96ab79981fd'), 'title': 'fortran', 'name': 'John Warner Backus'}\n",
      "{'_id': ObjectId('5fc227e06027ff5ab3bf02bd'), 'title': 'from beginner to master', 'author': 'qiwsir', 'lang': 'python'}\n",
      "{'_id': ObjectId('5fc232402c80f96ab79981fc'), 'title': 'java', 'name': 'Bush'}\n",
      "{'_id': ObjectId('5fc232402c80f96ab79981fe'), 'title': 'lisp', 'name': 'John McCarthy'}\n",
      "{'_id': ObjectId('5fc22d352c80f96ab79981f7'), 'title': 'physics', 'author': 'Newton', 'lang': 'english'}\n",
      "{'_id': ObjectId('5fc22e952c80f96ab79981f8'), 'title': 'physics'}\n"
     ]
    }
   ],
   "source": [
    "for i in books.find().sort(\"title\", pymongo.ASCENDING): # 按照'title'的值升序\n",
    "    print(i)"
   ]
  },
  {
   "cell_type": "code",
   "execution_count": 60,
   "metadata": {},
   "outputs": [
    {
     "name": "stdout",
     "output_type": "stream",
     "text": [
      "{'_id': ObjectId('5fc22d352c80f96ab79981f7'), 'title': 'physics', 'author': 'Newton', 'lang': 'english'}\n",
      "{'_id': ObjectId('5fc22e952c80f96ab79981f8'), 'title': 'physics'}\n",
      "{'_id': ObjectId('5fc232402c80f96ab79981fe'), 'title': 'lisp', 'name': 'John McCarthy'}\n",
      "{'_id': ObjectId('5fc232402c80f96ab79981fc'), 'title': 'java', 'name': 'Bush'}\n",
      "{'_id': ObjectId('5fc227e06027ff5ab3bf02bd'), 'title': 'from beginner to master', 'author': 'qiwsir', 'lang': 'python'}\n",
      "{'_id': ObjectId('5fc232402c80f96ab79981fd'), 'title': 'fortran', 'name': 'John Warner Backus'}\n",
      "{'_id': ObjectId('5fc22e952c80f96ab79981f9'), 'author': 'Newton'}\n",
      "{'_id': ObjectId('5fc22e952c80f96ab79981fa'), 'lang': 'english'}\n",
      "{'_id': ObjectId('5fc231a22c80f96ab79981fb'), 'name': 'Hertz'}\n"
     ]
    }
   ],
   "source": [
    "for i in books.find().sort(\"title\", pymongo.DESCENDING): # 按照'title'的值降序\n",
    "    print(i)"
   ]
  },
  {
   "cell_type": "code",
   "execution_count": 61,
   "metadata": {},
   "outputs": [
    {
     "data": {
      "text/plain": [
       "<pymongo.cursor.Cursor at 0x7f00bd51b700>"
      ]
     },
     "execution_count": 61,
     "metadata": {},
     "output_type": "execute_result"
    }
   ],
   "source": [
    "books.find().sort([('name', pymongo.ASCENDING), ('name', pymongo.DESCENDING)])"
   ]
  },
  {
   "cell_type": "code",
   "execution_count": 63,
   "metadata": {},
   "outputs": [
    {
     "name": "stdout",
     "output_type": "stream",
     "text": [
      "{'_id': ObjectId('5fc232402c80f96ab79981fd'), 'title': 'fortran', 'name': 'John Warner Backus'}\n",
      "{'_id': ObjectId('5fc232402c80f96ab79981fe'), 'title': 'lisp', 'name': 'John McCarthy'}\n",
      "{'_id': ObjectId('5fc231a22c80f96ab79981fb'), 'name': 'Hertz'}\n",
      "{'_id': ObjectId('5fc232402c80f96ab79981fc'), 'title': 'java', 'name': 'Bush'}\n",
      "{'_id': ObjectId('5fc227e06027ff5ab3bf02bd'), 'title': 'from beginner to master', 'author': 'qiwsir', 'lang': 'python'}\n",
      "{'_id': ObjectId('5fc22d352c80f96ab79981f7'), 'title': 'physics', 'author': 'Newton', 'lang': 'english'}\n",
      "{'_id': ObjectId('5fc22e952c80f96ab79981f8'), 'title': 'physics'}\n",
      "{'_id': ObjectId('5fc22e952c80f96ab79981f9'), 'author': 'Newton'}\n",
      "{'_id': ObjectId('5fc22e952c80f96ab79981fa'), 'lang': 'english'}\n"
     ]
    }
   ],
   "source": [
    "for i in books.find().sort([('name', pymongo.ASCENDING), ('name', pymongo.DESCENDING)]): # 指定多个排序键\n",
    "    print(i)"
   ]
  },
  {
   "cell_type": "markdown",
   "metadata": {},
   "source": [
    "## 2. 更新"
   ]
  },
  {
   "cell_type": "code",
   "execution_count": 64,
   "metadata": {},
   "outputs": [
    {
     "name": "stderr",
     "output_type": "stream",
     "text": [
      "<ipython-input-64-11abfbd8a87e>:1: DeprecationWarning: update is deprecated. Use replace_one, update_one or update_many instead.\n",
      "  books.update({'name': 'Hertz'}, {\"$set\": {'title': \"new physics\", \"authou\": \"Hertz\"}})\n"
     ]
    },
    {
     "data": {
      "text/plain": [
       "{'n': 1, 'nModified': 1, 'ok': 1.0, 'updatedExisting': True}"
      ]
     },
     "execution_count": 64,
     "metadata": {},
     "output_type": "execute_result"
    }
   ],
   "source": [
    "books.update({'name': 'Hertz'}, {\"$set\": {'title': \"new physics\", \"authou\": \"Hertz\"}})"
   ]
  },
  {
   "cell_type": "code",
   "execution_count": 65,
   "metadata": {},
   "outputs": [
    {
     "data": {
      "text/plain": [
       "{'_id': ObjectId('5fc231a22c80f96ab79981fb'),\n",
       " 'name': 'Hertz',\n",
       " 'authou': 'Hertz',\n",
       " 'title': 'new physics'}"
      ]
     },
     "execution_count": 65,
     "metadata": {},
     "output_type": "execute_result"
    }
   ],
   "source": [
    "books.find_one({'name': \"Hertz\"})"
   ]
  },
  {
   "cell_type": "markdown",
   "metadata": {},
   "source": [
    "|修改器|描述|\n",
    "|:------------:|:-------------------:|\n",
    "                |\\$set|用来指定一个键的值。如果不存在则创建它|\n",
    "                |\\$unset|完全删除某个键|\n",
    "                |\\$inc|增加已有键的值，不存在则创建（只能用于整数/长整数/双精度浮点数）|\n",
    "                |\\$push|数组修改器只能操作值为数组，存在key在值末尾增加一个元素，不存在则创建一个数组|"
   ]
  },
  {
   "cell_type": "markdown",
   "metadata": {},
   "source": [
    "## 3. 删除"
   ]
  },
  {
   "cell_type": "code",
   "execution_count": 67,
   "metadata": {},
   "outputs": [
    {
     "name": "stderr",
     "output_type": "stream",
     "text": [
      "<ipython-input-67-5deab01c28e8>:1: DeprecationWarning: remove is deprecated. Use delete_one or delete_many instead.\n",
      "  books.remove({'name': \"Bush\"})\n"
     ]
    },
    {
     "data": {
      "text/plain": [
       "{'n': 1, 'ok': 1.0}"
      ]
     },
     "execution_count": 67,
     "metadata": {},
     "output_type": "execute_result"
    }
   ],
   "source": [
    "books.remove({'name': \"Bush\"})"
   ]
  },
  {
   "cell_type": "code",
   "execution_count": 68,
   "metadata": {},
   "outputs": [
    {
     "data": {
      "text/plain": [
       "<pymongo.results.DeleteResult at 0x7f00bd51de40>"
      ]
     },
     "execution_count": 68,
     "metadata": {},
     "output_type": "execute_result"
    }
   ],
   "source": [
    "books.delete_one({'name': \"Bush\"})"
   ]
  },
  {
   "cell_type": "code",
   "execution_count": 69,
   "metadata": {},
   "outputs": [],
   "source": [
    "books.find_one({'name': 'Bush'})"
   ]
  },
  {
   "cell_type": "markdown",
   "metadata": {},
   "source": [
    "## 4. 索引"
   ]
  },
  {
   "cell_type": "code",
   "execution_count": 70,
   "metadata": {},
   "outputs": [
    {
     "data": {
      "text/plain": [
       "'title_-1'"
      ]
     },
     "execution_count": 70,
     "metadata": {},
     "output_type": "execute_result"
    }
   ],
   "source": [
    "books.create_index([('title', pymongo.DESCENDING),])"
   ]
  },
  {
   "cell_type": "code",
   "execution_count": null,
   "metadata": {},
   "outputs": [],
   "source": []
  }
 ],
 "metadata": {
  "kernelspec": {
   "display_name": "Python 3",
   "language": "python",
   "name": "python3"
  },
  "language_info": {
   "codemirror_mode": {
    "name": "ipython",
    "version": 3
   },
   "file_extension": ".py",
   "mimetype": "text/x-python",
   "name": "python",
   "nbconvert_exporter": "python",
   "pygments_lexer": "ipython3",
   "version": "3.8.5"
  }
 },
 "nbformat": 4,
 "nbformat_minor": 4
}
