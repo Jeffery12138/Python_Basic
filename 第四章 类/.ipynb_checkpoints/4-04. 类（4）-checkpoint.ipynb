{
 "cells": [
  {
   "cell_type": "markdown",
   "metadata": {},
   "source": [
    "# 方法"
   ]
  },
  {
   "cell_type": "markdown",
   "metadata": {},
   "source": [
    "## 绑定方法和非绑定方法"
   ]
  },
  {
   "cell_type": "code",
   "execution_count": 1,
   "metadata": {},
   "outputs": [],
   "source": [
    "class Foo:\n",
    "    def bar(self):\n",
    "        print(\"This is a normal method of class.\")"
   ]
  },
  {
   "cell_type": "code",
   "execution_count": 2,
   "metadata": {},
   "outputs": [],
   "source": [
    "f = Foo()"
   ]
  },
  {
   "cell_type": "code",
   "execution_count": 3,
   "metadata": {},
   "outputs": [
    {
     "name": "stdout",
     "output_type": "stream",
     "text": [
      "This is a normal method of class.\n"
     ]
    }
   ],
   "source": [
    "f.bar()"
   ]
  },
  {
   "cell_type": "code",
   "execution_count": 4,
   "metadata": {},
   "outputs": [
    {
     "name": "stdout",
     "output_type": "stream",
     "text": [
      "This is a normal method of class.\n"
     ]
    }
   ],
   "source": [
    "Foo.bar(f)"
   ]
  },
  {
   "cell_type": "code",
   "execution_count": 5,
   "metadata": {},
   "outputs": [
    {
     "ename": "TypeError",
     "evalue": "bar() missing 1 required positional argument: 'self'",
     "output_type": "error",
     "traceback": [
      "\u001b[0;31m---------------------------------------------------------------------------\u001b[0m",
      "\u001b[0;31mTypeError\u001b[0m                                 Traceback (most recent call last)",
      "\u001b[0;32m<ipython-input-5-220bf08d7b55>\u001b[0m in \u001b[0;36m<module>\u001b[0;34m\u001b[0m\n\u001b[0;32m----> 1\u001b[0;31m \u001b[0mFoo\u001b[0m\u001b[0;34m.\u001b[0m\u001b[0mbar\u001b[0m\u001b[0;34m(\u001b[0m\u001b[0;34m)\u001b[0m\u001b[0;34m\u001b[0m\u001b[0;34m\u001b[0m\u001b[0m\n\u001b[0m",
      "\u001b[0;31mTypeError\u001b[0m: bar() missing 1 required positional argument: 'self'"
     ]
    }
   ],
   "source": [
    "Foo.bar()"
   ]
  },
  {
   "cell_type": "code",
   "execution_count": 6,
   "metadata": {},
   "outputs": [
    {
     "data": {
      "text/plain": [
       "<function __main__.Foo.bar(self)>"
      ]
     },
     "execution_count": 6,
     "metadata": {},
     "output_type": "execute_result"
    }
   ],
   "source": [
    "Foo.bar"
   ]
  },
  {
   "cell_type": "code",
   "execution_count": 7,
   "metadata": {},
   "outputs": [
    {
     "data": {
      "text/plain": [
       "<bound method Foo.bar of <__main__.Foo object at 0x7fa6a463b970>>"
      ]
     },
     "execution_count": 7,
     "metadata": {},
     "output_type": "execute_result"
    }
   ],
   "source": [
    "f.bar"
   ]
  },
  {
   "cell_type": "code",
   "execution_count": 8,
   "metadata": {},
   "outputs": [
    {
     "data": {
      "text/plain": [
       "<function __main__.Foo.bar(self)>"
      ]
     },
     "execution_count": 8,
     "metadata": {},
     "output_type": "execute_result"
    }
   ],
   "source": [
    "Foo.__dict__['bar']"
   ]
  },
  {
   "cell_type": "code",
   "execution_count": 9,
   "metadata": {},
   "outputs": [
    {
     "data": {
      "text/plain": [
       "<function __main__.Foo.bar(self)>"
      ]
     },
     "execution_count": 9,
     "metadata": {},
     "output_type": "execute_result"
    }
   ],
   "source": [
    "Foo.__dict__['bar'].__get__(None, Foo)"
   ]
  },
  {
   "cell_type": "code",
   "execution_count": 10,
   "metadata": {},
   "outputs": [
    {
     "data": {
      "text/plain": [
       "<bound method Foo.bar of <__main__.Foo object at 0x7fa6a463b970>>"
      ]
     },
     "execution_count": 10,
     "metadata": {},
     "output_type": "execute_result"
    }
   ],
   "source": [
    "Foo.__dict__['bar'].__get__(f, Foo)"
   ]
  },
  {
   "cell_type": "markdown",
   "metadata": {},
   "source": [
    "# 静态方法和类方法"
   ]
  },
  {
   "cell_type": "code",
   "execution_count": 11,
   "metadata": {},
   "outputs": [
    {
     "name": "stdout",
     "output_type": "stream",
     "text": [
      "f1: 1\n",
      "f2: 2\n",
      "2\n"
     ]
    }
   ],
   "source": [
    "#！/usr/bin/env python\n",
    "# coding=utf-8\n",
    "\n",
    "class Foo:\n",
    "    one = 0\n",
    "    \n",
    "    def __init__(self):\n",
    "        Foo.one = Foo.one + 1\n",
    "        \n",
    "def get_class_attr(cls):\n",
    "    return cls.one\n",
    "\n",
    "if __name__ == '__main__':\n",
    "    f1 = Foo()\n",
    "    print(\"f1:\", Foo.one)\n",
    "    f2 = Foo()\n",
    "    print(\"f2:\", Foo.one)\n",
    "    \n",
    "    print(get_class_attr(Foo))"
   ]
  },
  {
   "cell_type": "code",
   "execution_count": 12,
   "metadata": {},
   "outputs": [
    {
     "name": "stdout",
     "output_type": "stream",
     "text": [
      "f1: 1\n",
      "f2: 2\n",
      "2\n",
      "f1.one 2\n",
      "2\n",
      "**********\n",
      "8\n",
      "9\n",
      "9\n"
     ]
    }
   ],
   "source": [
    "#! /usr/bin/env python\n",
    "# coding=utf-8\n",
    "\n",
    "class Foo:\n",
    "    one = 0\n",
    "    \n",
    "    def __init__(self):\n",
    "        Foo.one = Foo.one + 1\n",
    "        \n",
    "    @classmethod\n",
    "    def get_class_attr(cls):\n",
    "        return cls.one\n",
    "    \n",
    "if __name__ == '__main__':\n",
    "    f1 = Foo()\n",
    "    print(\"f1:\", Foo.one)\n",
    "    f2 = Foo()\n",
    "    print(\"f2:\", Foo.one)\n",
    "\n",
    "    print(f1.get_class_attr())\n",
    "    print(\"f1.one\", f1.one)\n",
    "    print(Foo.get_class_attr())\n",
    "    \n",
    "    print(\"*\"*10)\n",
    "    f1.one = 8\n",
    "    Foo.one = 9\n",
    "    print(f1.one)\n",
    "    print(f1.get_class_attr())\n",
    "    print(Foo.get_class_attr())"
   ]
  },
  {
   "cell_type": "code",
   "execution_count": 13,
   "metadata": {},
   "outputs": [
    {
     "name": "stdout",
     "output_type": "stream",
     "text": [
      "canglaoshi\n"
     ]
    }
   ],
   "source": [
    "#! /usr/bin/env python\n",
    "# coding=utf-8\n",
    "\n",
    "T = 1\n",
    "\n",
    "def check_t():\n",
    "    T = 3\n",
    "    return T\n",
    "\n",
    "class Foo:\n",
    "    def __init__(self, name):\n",
    "        self.name = name\n",
    "    \n",
    "    def get_name(self):\n",
    "        if check_t():\n",
    "            return self.name\n",
    "        else:\n",
    "            return \"no person\"\n",
    "        \n",
    "if __name__ == '__main__':\n",
    "    f = Foo(\"canglaoshi\")\n",
    "    name = f.get_name()\n",
    "    print(name)\n",
    "        "
   ]
  },
  {
   "cell_type": "code",
   "execution_count": 14,
   "metadata": {},
   "outputs": [
    {
     "name": "stdout",
     "output_type": "stream",
     "text": [
      "canglaoshi\n"
     ]
    }
   ],
   "source": [
    "#! /usr/bin/env python\n",
    "# coding=utf-8\n",
    "\n",
    "T = 1\n",
    "\n",
    "class Foo:\n",
    "    def __init__(self, name):\n",
    "        self.name = name\n",
    "        \n",
    "    @staticmethod\n",
    "    def check_t():\n",
    "        T = 1\n",
    "        return T\n",
    "    \n",
    "    def get_name(self):\n",
    "        if self.check_t():\n",
    "            return self.name\n",
    "        else:\n",
    "            return \"no person\"\n",
    "        \n",
    "if __name__ == '__main__':\n",
    "    f = Foo(\"canglaoshi\")\n",
    "    name = f.get_name()\n",
    "    print(name)"
   ]
  },
  {
   "cell_type": "code",
   "execution_count": null,
   "metadata": {},
   "outputs": [],
   "source": []
  }
 ],
 "metadata": {
  "kernelspec": {
   "display_name": "Python 3",
   "language": "python",
   "name": "python3"
  },
  "language_info": {
   "codemirror_mode": {
    "name": "ipython",
    "version": 3
   },
   "file_extension": ".py",
   "mimetype": "text/x-python",
   "name": "python",
   "nbconvert_exporter": "python",
   "pygments_lexer": "ipython3",
   "version": "3.8.5"
  }
 },
 "nbformat": 4,
 "nbformat_minor": 4
}
