{
 "cells": [
  {
   "cell_type": "markdown",
   "metadata": {},
   "source": [
    "# 类和对象类型"
   ]
  },
  {
   "cell_type": "code",
   "execution_count": 1,
   "metadata": {},
   "outputs": [],
   "source": [
    "class C1:\n",
    "    pass"
   ]
  },
  {
   "cell_type": "code",
   "execution_count": 2,
   "metadata": {},
   "outputs": [],
   "source": [
    "class C2:\n",
    "    pass"
   ]
  },
  {
   "cell_type": "code",
   "execution_count": 3,
   "metadata": {},
   "outputs": [],
   "source": [
    "a = C1()"
   ]
  },
  {
   "cell_type": "code",
   "execution_count": 4,
   "metadata": {},
   "outputs": [],
   "source": [
    "b = C2()"
   ]
  },
  {
   "cell_type": "code",
   "execution_count": 5,
   "metadata": {},
   "outputs": [
    {
     "data": {
      "text/plain": [
       "__main__.C1"
      ]
     },
     "execution_count": 5,
     "metadata": {},
     "output_type": "execute_result"
    }
   ],
   "source": [
    "type(a)"
   ]
  },
  {
   "cell_type": "code",
   "execution_count": 6,
   "metadata": {},
   "outputs": [
    {
     "data": {
      "text/plain": [
       "__main__.C2"
      ]
     },
     "execution_count": 6,
     "metadata": {},
     "output_type": "execute_result"
    }
   ],
   "source": [
    "type(b)"
   ]
  },
  {
   "cell_type": "code",
   "execution_count": 7,
   "metadata": {},
   "outputs": [
    {
     "data": {
      "text/plain": [
       "type"
      ]
     },
     "execution_count": 7,
     "metadata": {},
     "output_type": "execute_result"
    }
   ],
   "source": [
    "type(C1)"
   ]
  },
  {
   "cell_type": "code",
   "execution_count": 8,
   "metadata": {},
   "outputs": [
    {
     "data": {
      "text/plain": [
       "type"
      ]
     },
     "execution_count": 8,
     "metadata": {},
     "output_type": "execute_result"
    }
   ],
   "source": [
    "type(C2)"
   ]
  },
  {
   "cell_type": "code",
   "execution_count": 9,
   "metadata": {},
   "outputs": [
    {
     "name": "stdout",
     "output_type": "stream",
     "text": [
      "Help on built-in function isinstance in module builtins:\n",
      "\n",
      "isinstance(obj, class_or_tuple, /)\n",
      "    Return whether an object is an instance of a class or of a subclass thereof.\n",
      "    \n",
      "    A tuple, as in ``isinstance(x, (A, B, ...))``, may be given as the target to\n",
      "    check against. This is equivalent to ``isinstance(x, A) or isinstance(x, B)\n",
      "    or ...`` etc.\n",
      "\n"
     ]
    }
   ],
   "source": [
    "help(isinstance)"
   ]
  },
  {
   "cell_type": "code",
   "execution_count": 10,
   "metadata": {},
   "outputs": [
    {
     "data": {
      "text/plain": [
       "True"
      ]
     },
     "execution_count": 10,
     "metadata": {},
     "output_type": "execute_result"
    }
   ],
   "source": [
    "isinstance(a, C1)"
   ]
  },
  {
   "cell_type": "code",
   "execution_count": 11,
   "metadata": {},
   "outputs": [
    {
     "data": {
      "text/plain": [
       "True"
      ]
     },
     "execution_count": 11,
     "metadata": {},
     "output_type": "execute_result"
    }
   ],
   "source": [
    "isinstance(b, C2)"
   ]
  },
  {
   "cell_type": "code",
   "execution_count": 13,
   "metadata": {},
   "outputs": [
    {
     "data": {
      "text/plain": [
       "False"
      ]
     },
     "execution_count": 13,
     "metadata": {},
     "output_type": "execute_result"
    }
   ],
   "source": [
    "isinstance(a, C2)"
   ]
  },
  {
   "cell_type": "code",
   "execution_count": 14,
   "metadata": {},
   "outputs": [],
   "source": [
    "m = 1"
   ]
  },
  {
   "cell_type": "code",
   "execution_count": 15,
   "metadata": {},
   "outputs": [
    {
     "data": {
      "text/plain": [
       "True"
      ]
     },
     "execution_count": 15,
     "metadata": {},
     "output_type": "execute_result"
    }
   ],
   "source": [
    "isinstance(m, int)"
   ]
  },
  {
   "cell_type": "code",
   "execution_count": 16,
   "metadata": {},
   "outputs": [
    {
     "data": {
      "text/plain": [
       "False"
      ]
     },
     "execution_count": 16,
     "metadata": {},
     "output_type": "execute_result"
    }
   ],
   "source": [
    "isinstance(m, float)"
   ]
  },
  {
   "cell_type": "markdown",
   "metadata": {},
   "source": [
    "# 定制类"
   ]
  },
  {
   "cell_type": "code",
   "execution_count": 18,
   "metadata": {},
   "outputs": [
    {
     "name": "stdout",
     "output_type": "stream",
     "text": [
      "2.19\n",
      "<class '__main__.RoundFloat'>\n"
     ]
    }
   ],
   "source": [
    "#！/usr/bin/env python\n",
    "# coding=utf-8\n",
    "\n",
    "class RoundFloat:\n",
    "    def __init__(self, val):\n",
    "        assert isinstance(val, float), \"value must be a float\"\n",
    "        self.value = round(val, 2)\n",
    "        \n",
    "    def __str__(self):\n",
    "        return \"{:.2f}\".format(self.value)\n",
    "    \n",
    "    __repr__ = __str__\n",
    "    \n",
    "if __name__ == '__main__':\n",
    "    r = RoundFloat(2.185)\n",
    "    print(r)\n",
    "    print(type(r))"
   ]
  },
  {
   "cell_type": "code",
   "execution_count": 19,
   "metadata": {},
   "outputs": [
    {
     "name": "stdout",
     "output_type": "stream",
     "text": [
      "2/3\n"
     ]
    }
   ],
   "source": [
    "#! /usr/bin/env python\n",
    "# coding=utf-8\n",
    "\n",
    "class Fraction:\n",
    "    def __init__(self, number, denom=1):\n",
    "        self.number = number\n",
    "        self.denom = denom\n",
    "        \n",
    "    def __str__(self):\n",
    "        return str(self.number) + '/' + str(self.denom)\n",
    "    \n",
    "    __repr__ = __str__\n",
    "    \n",
    "if __name__ == '__main__':\n",
    "    f = Fraction(2, 3)\n",
    "    print(f)"
   ]
  },
  {
   "cell_type": "code",
   "execution_count": 20,
   "metadata": {},
   "outputs": [
    {
     "name": "stdout",
     "output_type": "stream",
     "text": [
      "4\n",
      "40.0\n"
     ]
    }
   ],
   "source": [
    "#! /usr/bin/env python\n",
    "# coding=utf-8\n",
    "\n",
    "def gcd(a, b):\n",
    "    if not a > b:\n",
    "        a, b = b, a\n",
    "    while b != 0:\n",
    "        remainder = a % b\n",
    "        a, b = b, remainder\n",
    "    return a\n",
    "\n",
    "def lcm(a, b):\n",
    "    return (a * b) / gcd(a, b)\n",
    "\n",
    "if __name__ == '__main__':\n",
    "    print(gcd(8, 20))\n",
    "    print(lcm(8, 20))"
   ]
  },
  {
   "cell_type": "code",
   "execution_count": 21,
   "metadata": {},
   "outputs": [
    {
     "name": "stdout",
     "output_type": "stream",
     "text": [
      "1/3  +  1/2  =  5.0/6.0\n"
     ]
    }
   ],
   "source": [
    "#! /usr/bin/env python\n",
    "# coding=utf-8\n",
    "\n",
    "def gcd(a, b):\n",
    "    if not a > b:\n",
    "        a, b = b, a\n",
    "    while b != 0:\n",
    "        remainder = a % b\n",
    "        a, b = b, remainder\n",
    "    return a\n",
    "\n",
    "def lcm(a, b):\n",
    "    return (a * b) / gcd(a, b)\n",
    "\n",
    "class Fraction:\n",
    "    def __init__(self, number, denom=1):\n",
    "        self.number = number\n",
    "        self.denom = denom\n",
    "        \n",
    "    def __str__(self):\n",
    "        return str(self.number) + '/' + str(self.denom)\n",
    "    \n",
    "    def __add__(self, other):\n",
    "        lcm_num = lcm(self.denom, other.denom)\n",
    "        number_sum = (lcm_num / self.denom * self.number) + (lcm_num  / other.denom * other.number)\n",
    "        return Fraction(number_sum, lcm_num)\n",
    "    \n",
    "if __name__ == '__main__':\n",
    "    m = Fraction(1, 3)\n",
    "    n = Fraction(1, 2)\n",
    "    s = m + n\n",
    "    print(m, \" + \", n, \" = \", s)"
   ]
  },
  {
   "cell_type": "code",
   "execution_count": 28,
   "metadata": {},
   "outputs": [
    {
     "name": "stdout",
     "output_type": "stream",
     "text": [
      "1/8  +  9/7  =  79/56\n"
     ]
    }
   ],
   "source": [
    "#! /usr/bin/env python\n",
    "# coding=utf-8\n",
    "\n",
    "def gcd(a, b):\n",
    "    if not a > b:\n",
    "        a, b = b, a\n",
    "    while b != 0:\n",
    "        remainder = a % b\n",
    "        a, b = b, remainder\n",
    "    return a\n",
    "\n",
    "def lcm(a, b):\n",
    "    return (a * b) / gcd(a, b)\n",
    "\n",
    "class Fraction:\n",
    "    def __init__(self, number, denom=1):\n",
    "        self.number = number\n",
    "        self.denom = denom\n",
    "        \n",
    "    def __str__(self):\n",
    "        return str(self.number) + '/' + str(self.denom)\n",
    "    \n",
    "    def __add__(self, other):\n",
    "        lcm_num = int(lcm(self.denom, other.denom))\n",
    "        number_sum = int((lcm_num / self.denom * self.number) + (lcm_num  / other.denom * other.number))\n",
    "        gcd_num = gcd(lcm_num, number_sum)\n",
    "        if gcd_num != 1:\n",
    "            lcm_num = int(lcm_num / gcd_num)\n",
    "            number_sum = int(number_sum / gcd_num)\n",
    "            \n",
    "        return Fraction(number_sum, lcm_num)\n",
    "    \n",
    "if __name__ == '__main__':\n",
    "    m = Fraction(1, 8)\n",
    "    n = Fraction(9, 7)\n",
    "    s = m + n\n",
    "    print(m, \" + \", n, \" = \", s)"
   ]
  },
  {
   "cell_type": "code",
   "execution_count": 29,
   "metadata": {},
   "outputs": [],
   "source": [
    "from fractions import Fraction"
   ]
  },
  {
   "cell_type": "code",
   "execution_count": 30,
   "metadata": {},
   "outputs": [],
   "source": [
    "m, n = Fraction(1, 3), Fraction(1, 2)"
   ]
  },
  {
   "cell_type": "code",
   "execution_count": 31,
   "metadata": {},
   "outputs": [
    {
     "data": {
      "text/plain": [
       "Fraction(5, 6)"
      ]
     },
     "execution_count": 31,
     "metadata": {},
     "output_type": "execute_result"
    }
   ],
   "source": [
    "m + n"
   ]
  },
  {
   "cell_type": "code",
   "execution_count": 32,
   "metadata": {},
   "outputs": [
    {
     "name": "stdout",
     "output_type": "stream",
     "text": [
      "5/6\n"
     ]
    }
   ],
   "source": [
    "print(m + n)"
   ]
  },
  {
   "cell_type": "code",
   "execution_count": 33,
   "metadata": {},
   "outputs": [],
   "source": [
    "a, b = Fraction(1, 3), Fraction(1, 6)"
   ]
  },
  {
   "cell_type": "code",
   "execution_count": 34,
   "metadata": {},
   "outputs": [
    {
     "name": "stdout",
     "output_type": "stream",
     "text": [
      "1/2\n"
     ]
    }
   ],
   "source": [
    "print(a + b)"
   ]
  },
  {
   "cell_type": "code",
   "execution_count": null,
   "metadata": {},
   "outputs": [],
   "source": []
  }
 ],
 "metadata": {
  "kernelspec": {
   "display_name": "Python 3",
   "language": "python",
   "name": "python3"
  },
  "language_info": {
   "codemirror_mode": {
    "name": "ipython",
    "version": 3
   },
   "file_extension": ".py",
   "mimetype": "text/x-python",
   "name": "python",
   "nbconvert_exporter": "python",
   "pygments_lexer": "ipython3",
   "version": "3.8.5"
  }
 },
 "nbformat": 4,
 "nbformat_minor": 4
}
