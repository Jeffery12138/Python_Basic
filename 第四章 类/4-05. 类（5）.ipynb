{
 "cells": [
  {
   "cell_type": "markdown",
   "metadata": {},
   "source": [
    "# 继承"
   ]
  },
  {
   "cell_type": "markdown",
   "metadata": {},
   "source": [
    "## 概念"
   ]
  },
  {
   "cell_type": "markdown",
   "metadata": {},
   "source": [
    "## 单继承"
   ]
  },
  {
   "cell_type": "code",
   "execution_count": 1,
   "metadata": {},
   "outputs": [],
   "source": [
    "class P:\n",
    "    pass"
   ]
  },
  {
   "cell_type": "code",
   "execution_count": 2,
   "metadata": {},
   "outputs": [],
   "source": [
    "class C(P):\n",
    "    pass"
   ]
  },
  {
   "cell_type": "code",
   "execution_count": 3,
   "metadata": {},
   "outputs": [
    {
     "data": {
      "text/plain": [
       "__main__.P"
      ]
     },
     "execution_count": 3,
     "metadata": {},
     "output_type": "execute_result"
    }
   ],
   "source": [
    "C.__base__"
   ]
  },
  {
   "cell_type": "code",
   "execution_count": 4,
   "metadata": {},
   "outputs": [],
   "source": [
    "class P:\n",
    "    def __init__(self):\n",
    "        print(\"I am a rich man.\")"
   ]
  },
  {
   "cell_type": "code",
   "execution_count": 5,
   "metadata": {},
   "outputs": [],
   "source": [
    "class C(P):\n",
    "    pass"
   ]
  },
  {
   "cell_type": "code",
   "execution_count": 6,
   "metadata": {},
   "outputs": [
    {
     "name": "stdout",
     "output_type": "stream",
     "text": [
      "I am a rich man.\n"
     ]
    }
   ],
   "source": [
    "c = C()"
   ]
  },
  {
   "cell_type": "code",
   "execution_count": 8,
   "metadata": {},
   "outputs": [
    {
     "name": "stdout",
     "output_type": "stream",
     "text": [
      "canglaoshi\n",
      "{'height': 160}\n",
      "{'breast': 90}\n"
     ]
    }
   ],
   "source": [
    "#! /usr/bin/env python\n",
    "# coding=utf-8\n",
    "\n",
    "class Person:\n",
    "    def __init__(self, name):\n",
    "        self.name = name\n",
    "        \n",
    "    def height(self, m):\n",
    "        h = dict(([\"height\", m],))\n",
    "        return h\n",
    "    \n",
    "    def breast(self, n):\n",
    "        b = dict(([\"breast\", n],))\n",
    "        return b\n",
    "    \n",
    "class Girl(Person):\n",
    "    def get_name(self):\n",
    "        return self.name\n",
    "    \n",
    "if __name__ == '__main__':\n",
    "    cang = Girl(\"canglaoshi\")\n",
    "    print(cang.get_name())\n",
    "    print(cang.height(160))\n",
    "    print(cang.breast(90))\n",
    "        "
   ]
  },
  {
   "cell_type": "code",
   "execution_count": 10,
   "metadata": {},
   "outputs": [
    {
     "ename": "TypeError",
     "evalue": "__init__() takes 1 positional argument but 2 were given",
     "output_type": "error",
     "traceback": [
      "\u001b[0;31m---------------------------------------------------------------------------\u001b[0m",
      "\u001b[0;31mTypeError\u001b[0m                                 Traceback (most recent call last)",
      "\u001b[0;32m<ipython-input-10-c1dbeda3ef9a>\u001b[0m in \u001b[0;36m<module>\u001b[0;34m\u001b[0m\n\u001b[1;32m      7\u001b[0m \u001b[0;34m\u001b[0m\u001b[0m\n\u001b[1;32m      8\u001b[0m \u001b[0;32mif\u001b[0m \u001b[0m__name__\u001b[0m \u001b[0;34m==\u001b[0m \u001b[0;34m'__main__'\u001b[0m\u001b[0;34m:\u001b[0m\u001b[0;34m\u001b[0m\u001b[0;34m\u001b[0m\u001b[0m\n\u001b[0;32m----> 9\u001b[0;31m     \u001b[0mcang\u001b[0m \u001b[0;34m=\u001b[0m \u001b[0mGirl\u001b[0m\u001b[0;34m(\u001b[0m\u001b[0;34m\"canglaoshi\"\u001b[0m\u001b[0;34m)\u001b[0m\u001b[0;34m\u001b[0m\u001b[0;34m\u001b[0m\u001b[0m\n\u001b[0m\u001b[1;32m     10\u001b[0m     \u001b[0mprint\u001b[0m\u001b[0;34m(\u001b[0m\u001b[0mcang\u001b[0m\u001b[0;34m.\u001b[0m\u001b[0mget_name\u001b[0m\u001b[0;34m(\u001b[0m\u001b[0;34m)\u001b[0m\u001b[0;34m)\u001b[0m\u001b[0;34m\u001b[0m\u001b[0;34m\u001b[0m\u001b[0m\n\u001b[1;32m     11\u001b[0m     \u001b[0mprint\u001b[0m\u001b[0;34m(\u001b[0m\u001b[0mcang\u001b[0m\u001b[0;34m.\u001b[0m\u001b[0mheight\u001b[0m\u001b[0;34m(\u001b[0m\u001b[0;36m160\u001b[0m\u001b[0;34m)\u001b[0m\u001b[0;34m)\u001b[0m\u001b[0;34m\u001b[0m\u001b[0;34m\u001b[0m\u001b[0m\n",
      "\u001b[0;31mTypeError\u001b[0m: __init__() takes 1 positional argument but 2 were given"
     ]
    }
   ],
   "source": [
    "class Girl(Person):\n",
    "    def __init__(self):\n",
    "        self.name = \"Aoi sola\"\n",
    "        \n",
    "    def get_name(self):\n",
    "        return self.name\n",
    "\n",
    "if __name__ == '__main__':\n",
    "    cang = Girl(\"canglaoshi\")\n",
    "    print(cang.get_name())\n",
    "    print(cang.height(160))\n",
    "    print(cang.breast(90))"
   ]
  },
  {
   "cell_type": "code",
   "execution_count": 11,
   "metadata": {},
   "outputs": [
    {
     "name": "stdout",
     "output_type": "stream",
     "text": [
      "Aoi sola\n",
      "{'height': 160}\n",
      "{'breast': 90}\n"
     ]
    }
   ],
   "source": [
    "if __name__ == '__main__':\n",
    "    cang = Girl()\n",
    "    print(cang.get_name())\n",
    "    print(cang.height(160))\n",
    "    print(cang.breast(90))"
   ]
  },
  {
   "cell_type": "markdown",
   "metadata": {},
   "source": [
    "# 调用覆盖的方法"
   ]
  },
  {
   "cell_type": "code",
   "execution_count": 12,
   "metadata": {},
   "outputs": [],
   "source": [
    "class Girl(Person):\n",
    "    def __init__(self, name):\n",
    "        Person.__init__(self, name)\n",
    "        self.real_name = \"Aoi sola\"\n",
    "        \n",
    "    def get_name(self):\n",
    "        return self.name"
   ]
  },
  {
   "cell_type": "code",
   "execution_count": 13,
   "metadata": {},
   "outputs": [
    {
     "name": "stdout",
     "output_type": "stream",
     "text": [
      "Aoi sola\n",
      "canglaoshi\n",
      "{'height': 160}\n",
      "{'breast': 90}\n"
     ]
    }
   ],
   "source": [
    "if __name__ == '__main__':\n",
    "    cang = Girl(\"canglaoshi\")\n",
    "    print(cang.real_name)\n",
    "    print(cang.get_name())\n",
    "    print(cang.height(160))\n",
    "    print(cang.breast(90))"
   ]
  },
  {
   "cell_type": "code",
   "execution_count": 14,
   "metadata": {},
   "outputs": [],
   "source": [
    "class Girl(Person):\n",
    "    def __init__(self, name):\n",
    "        super(Girl, self).__init__(name)\n",
    "        self.real_name = \"Aoi sola\"\n",
    "        \n",
    "    def get_name():\n",
    "        return self.name"
   ]
  },
  {
   "cell_type": "markdown",
   "metadata": {},
   "source": [
    "# 多重继承"
   ]
  },
  {
   "cell_type": "code",
   "execution_count": 16,
   "metadata": {},
   "outputs": [
    {
     "name": "stdout",
     "output_type": "stream",
     "text": [
      "two eyes\n",
      "The breast is:  90\n",
      "The girl is white\n",
      "28\n"
     ]
    }
   ],
   "source": [
    "#！/usr/bin/env python\n",
    "# coding=utf-8\n",
    "\n",
    "class Person:\n",
    "    def eye(self):\n",
    "        print(\"two eyes\")\n",
    "        \n",
    "    def breast(self, n):\n",
    "        print(\"The breast is: \", n)\n",
    "        \n",
    "class Girl:\n",
    "    age = 28\n",
    "    def color(self):\n",
    "        print(\"The girl is white\")\n",
    "        \n",
    "class HotGirl(Person, Girl):\n",
    "    pass\n",
    "\n",
    "if __name__ == '__main__':\n",
    "    kong = HotGirl()\n",
    "    kong.eye()\n",
    "    kong.breast(90)\n",
    "    kong.color()\n",
    "    print(kong.age)"
   ]
  },
  {
   "cell_type": "code",
   "execution_count": 17,
   "metadata": {},
   "outputs": [
    {
     "name": "stdout",
     "output_type": "stream",
     "text": [
      "(<class '__main__.C'>, <class '__main__.J1'>, <class '__main__.J2'>, <class '__main__.K1'>, <class '__main__.K2'>, <class 'object'>)\n",
      "K1-foo\n",
      "J2-bar\n"
     ]
    }
   ],
   "source": [
    "#! /usr/bin/env python\n",
    "# coding=utf-8\n",
    "\n",
    "class K1:\n",
    "    def foo(self):\n",
    "        print(\"K1-foo\")\n",
    "        \n",
    "class K2:\n",
    "    def foo(self):\n",
    "        print(\"K2-foo\")\n",
    "    def bar(self):\n",
    "        print(\"K2-bar\")\n",
    "        \n",
    "class J1(K1, K2):\n",
    "    pass\n",
    "\n",
    "class J2(K1, K2):\n",
    "    def bar(self):\n",
    "        print(\"J2-bar\")\n",
    "        \n",
    "class C(J1, J2):\n",
    "    pass\n",
    "\n",
    "if __name__ == '__main__':\n",
    "    print(C.__mro__)\n",
    "    m = C()\n",
    "    m.foo()\n",
    "    m.bar()"
   ]
  },
  {
   "cell_type": "code",
   "execution_count": null,
   "metadata": {},
   "outputs": [],
   "source": []
  }
 ],
 "metadata": {
  "kernelspec": {
   "display_name": "Python 3",
   "language": "python",
   "name": "python3"
  },
  "language_info": {
   "codemirror_mode": {
    "name": "ipython",
    "version": 3
   },
   "file_extension": ".py",
   "mimetype": "text/x-python",
   "name": "python",
   "nbconvert_exporter": "python",
   "pygments_lexer": "ipython3",
   "version": "3.8.5"
  }
 },
 "nbformat": 4,
 "nbformat_minor": 4
}
