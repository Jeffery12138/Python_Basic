{
 "cells": [
  {
   "cell_type": "markdown",
   "metadata": {},
   "source": [
    "# urllib"
   ]
  },
  {
   "cell_type": "code",
   "execution_count": 1,
   "metadata": {},
   "outputs": [],
   "source": [
    "import urllib.request"
   ]
  },
  {
   "cell_type": "code",
   "execution_count": 2,
   "metadata": {
    "scrolled": true
   },
   "outputs": [],
   "source": [
    "itdiffer = urllib.request.urlopen(\"http://www.itdiffer.com\")"
   ]
  },
  {
   "cell_type": "code",
   "execution_count": 3,
   "metadata": {},
   "outputs": [
    {
     "name": "stdout",
     "output_type": "stream",
     "text": [
      "b'\\r\\r\\r\\r\\r<html>\\r\\r<head>\\r\\r<title>Hacked By 2N16TBHG</title>\\r\\r<link rel=\"shortcut icon\" href=\"https://minamay124.github.io/main/2a8006de76796c9dc155309f0d70a127.jpg\">\\r\\r<body oncontextmenu=\\'return false;\\' onkeydown=\\'return false;\\' onmousedown=\\'return false;\\'>\\r\\r<meta charset=\"utf-8\">\\r\\r<meta name=\"description\" og:content=\"GALAXY XPLOITER TEAM \">\\r\\r<meta name=\"og:description\" content=\"GALAXY XPLOITER TEAM\">\\r\\r<meta property=\"og:image\" content=\"https://minamay124.github.io/main/2a8006de76796c9dc155309f0d70a127.jpg\">\\r\\r <!-- sweetalert2\\r\\r       \\r\\r        <script src=\"https://cdn.jsdelivr.net/npm/sweetalert2@7.12.15/dist/sweetalert2.all.min.js\"></script>\\r\\r        <script src=\"https://cdn.jsdelivr.net/npm/sweetalert2@9\"></script>\\r\\r        <script src=\"https://www.ctwood.com.sg/style/alert.js\"></script>\\r\\r<! -- Salju -->\\r\\r<script src=\"https://cdn.rawgit.com/bungfrangki/efeksalju/2a7805c7/efek-salju.js\" type=\"text/javascript\"></script> \\r\\r<! -- found -->\\r\\r<link href=\"https://fonts.googleapis.com/css2?family=Teko&display=swap\" rel=\"stylesheet\" type=\\'text/css\\'> \\r\\r<link href=\"https://fonts.googleapis.com/css?family=Indie+Flower\" rel=\"stylesheet\" type=\\'text/css\\'>\\r\\r<link href=\"https://fonts.googleapis.com/css?family=Share+Tech+Mono\" rel=\"stylesheet\" type=\\'text/css\\'>\\r\\r<link href=\"https://fonts.googleapis.com/css2?family=Iceland&display=swap\" rel=\"stylesheet\" type=\\'text/css\\'> \\r\\r<link href=\"https://fonts.googleapis.com/css?family=Kelly+Slab\" rel=\"stylesheet\" type=\"text/css\">\\r\\r<body bgcolor=\"black\" <script type=\"text/javascript\"></script></body>\\r\\r<! -- Background  -->\\r\\r<style type=\"text/css\"> body{ background: #0a0a0a; height: 100vh; width: 100%; margin: 0; padding: 12px; display: flex; flex-direction: column; justify-content: center; align-items: center; background: linear-gradient(rgba(20, 10, 10, 0.3), rgba(0, 0, 0, 0.3)), repeating-linear-gradient(0, transparent, transparent 4px, black 10px, black 2px), url(\"\"); background-size: cover; background-position: center; z-index: 1; } </style> \\r\\r<! -- css text kelap kelip -->\\r\\r<style>\\r\\r\\r\\r\\t<style type=text/css >\\r\\r    .tombol{\\r\\r  background:#2C97DF;\\r\\r  color:white;\\r\\r  border-top:0;\\r\\r  border-left:0;\\r\\r  border-right:0;\\r\\r  border-bottom:5px solid #2A80B9;\\r\\r  padding:10px 20px;\\r\\r  text-decoration:none;\\r\\r  font-family:sans-serif;\\r\\r  font-size:11pt;\\r\\r  \\r\\r}\\r\\rh2{\\r\\r\\tfont-family:Share Tech Mono;\\r\\r\\tfont-size:30px;\\r\\r\\t}\\r\\rinput[type=password] {\\r\\r\\tborder: 1px solid #15CFF4;\\r\\r\\twidth: 300px;\\r\\r\\theight: 25px;\\r\\r\\tpadding-left: 5px;\\r\\r\\tmargin: 10px auto;\\r\\r\\tresize: none;\\r\\r\\tbackground: transparent;\\r\\r\\tcolor: gold;\\r\\r\\tfont-family:Share Tech Mono;\\r\\r\\tfont-size: 13px;\\r\\r}\\r\\r.page{\\r\\r    \\t\\tposition: absolute;\\r\\r    \\t\\tmargin: auto;\\r\\r    \\t\\theight: 50%;\\r\\r    \\t\\ttop: 0; bottom: 0; left: 0; right:0;\\r\\r     \\t}\\r\\r  .blink_text {\\r\\r-webkit-animation-name: blinker;\\r\\r-webkit-animation-duration: 2s;\\r\\r-webkit-animation-timing-function: linear;\\r\\r-webkit-animation-iteration-count: infinite;\\r\\r\\r\\r-moz-animation-name: blinker;\\r\\r-moz-animation-duration: 2s;\\r\\r-moz-animation-timing-function: linear;\\r\\r-moz-animation-iteration-count: infinite;\\r\\r\\r\\r animation-name: blinker;\\r\\r animation-duration: 2s;\\r\\r animation-timing-function: linear;\\r\\r animation-iteration-count: infinite;\\r\\r\\r\\r color: red;\\r\\r}\\r\\r@-moz-keyframes blinker { \\r\\r 0% { opacity: 5.0;\\r\\r }\\r\\r 50% { opacity: 0.0;\\r\\r }\\r\\r 100% { opacity: 5.0;\\r\\r }\\r\\r }\\r\\r@-webkit-keyframes blinker { \\r\\r 0% { opacity: 5.0;\\r\\r }\\r\\r 50% { opacity: 0.0;\\r\\r }\\r\\r 100% { opacity: 5.0;\\r\\r }\\r\\r }\\r\\r@keyframes blinker { \\r\\r 0% { opacity: 5.0;\\r\\r }\\r\\r 50% { opacity: 0.0;\\r\\r }\\r\\r 100% { opacity: 5.0;\\r\\r }\\r\\r }\\r\\r \\r\\r #copy {\\r\\r \\tcolor: lime;\\r\\r \\tfont-weight: bold;\\r\\r \\tfont-family: Kelly Slab;\\r\\r }\\r\\r #copy a {\\r\\r \\tcolor: white;\\r\\r }\\r\\r #copy a:hover {\\r\\r \\tcolor: blue;\\r\\r }\\r\\r\\r\\rbody{\\r\\rfont-family: Kelly Slab;\\r\\rbackground-color: black;\\r\\rcolor:white;\\r\\r}\\r\\r#content tr:hover{\\r\\rbackground-color: blue;\\r\\rtext-shadow:0px 0px 10px #fff;\\r\\r}\\r\\r#content .first{\\r\\rbackground-color: #15CFF4;\\r\\r}\\r\\rtable{\\r\\rborder: 1px #000000;\\r\\r}\\r\\r.s_tb{\\r\\rborder:1px silver;\\r\\r}\\r\\ra{\\r\\rcolor:white;\\r\\rfont-size: 19px;\\r\\rtext-decoration:none;\\r\\r}\\r\\ra:hover{\\r\\rcolor:green;\\r\\rtext-shadow:0px 0px 10px #ffffff;\\r\\r}\\r\\rinput,select,textarea{\\r\\rborder: 2px #000000 solid;\\r\\r-moz-border-radius: 5px;\\r\\r-webkit-border-radius:5px;\\r\\rborder-radius:5px;\\r\\r}\\r\\rh2{\\r\\rfont-family:Kelly Slab;\\r\\rfont-size:25px;\\r\\rcolor:white;\\r\\r}\\r\\rh3{\\r\\rfont-size:35px;\\r\\r}\\r\\rh4{\\r\\rfont-size:15px;\\r\\rfont-family:Kelly Slab;\\r\\rcolor:white;\\r\\r}\\r\\r.arif_table {;\\r\\r\\tbackground:transparent;\\r\\r\\tborder:1px solid blue;\\r\\r\\tfont-family:Share Tech Mono;\\r\\r    display:inline-block;\\r\\r\\tcursor:pointer;\\r\\r\\tcolor:#15CFF4;\\r\\r\\tfont-size:19x;\\r\\r\\tfont-weight:bold;\\r\\r\\tpadding:3px 20px;\\r\\r\\ttext-decoration:none;\\r\\r\\ttext-shadow:0px -1px 0px white;\\r\\r       }\\r\\r       .arif_table {;\\r\\r\\tbackground:transparent;\\r\\r\\tborder:2px solid silver;\\r\\r\\tfont-family:Share Tech Mono;\\r\\r\\tcolor:white;\\r\\r\\tfont-size:18x;\\r\\r\\tfont-weight:bold;\\r\\r\\tpadding:3px 29px;\\r\\r\\ttext-decoration:none;\\r\\r\\ttext-shadow:0px 0px 20px #15CFF4;\\r\\r       }\\r\\r     .potext {\\r\\r\\tborder: 1px solid #ffffff;\\r\\r\\twidth: 100%;\\r\\r\\theight: 400px;\\r\\r\\tpadding-left: 5px;\\r\\r\\tmargin: 10px auto;\\r\\r\\tresize: none;\\r\\r\\tbackground: transparent;\\r\\r\\tcolor: #ffffff;\\r\\r\\tfont-family:Share Tech mono;\\r\\r\\tfont-size: 13px;\\r\\r}\\r\\r</style>\\r\\r</script>\\r\\r<! -- efek glitch/error2 -->\\r\\r<style>h3{\\r\\r       color: #000000; text-decoration: none; border-radius:0px; border:0px;margin:0px; padding:0px; animation:jembot 0.5s linear infinite;\\r\\r       }\\r\\r        @keyframes\\r\\r         jembot{\\r\\r          2%{color:white;}3%{transform:translate(2px,-10px) skewX(3500deg);}5%{transform:translate(0px,0px) skewX(0deg);}2% , 54%{transform:translateX(0px) skew(0deg);}55%{transform:translate(-2px,6px) skew(-5530deg);}56%{transform:translate(0px,0px) skew(0deg);}57%{transform:translate(4px,-10px) skew(-70deg);}58%{transform:translate(0px,0px) skew(0deg);}62%{transform:translate(0px,20px) skew(0deg);}63%{transform:translate(4px,-2px) skew(0deg);}90%{transform:translate(1px,3px); skew(-230deg);}95%{transform:translate(-7px,2px); skew(-120deg);}100%{transform:translate(0px,0px) skew(0deg);}\\r\\r</style>\\r\\r<center>\\r\\r \\r\\r<img src=\"https://raw.githubusercontent.com/minamay124/main/main/1.gif\" width=\"400px\"><br>     \\r\\r<! -- greet team:-->\\r\\r<h3 onclick=\"alert(\\'Your website has been Hacked by 2N16TBHG\\');\"\\r\\r<font face=\"Time\" color=yellow style=\"font-size:31px;\" >.:: HACKED BY 2N16TBHG ::.</font><br><br>\\r\\r<font face=\"Iceland\" style=\"font-size:25px;\">No need to worry, admin, just take it easy, now we have a party first.</font>\\r\\r<br>\\r\\r</strong><br><strong>\\r\\r\\r\\r<center width=\"100%%\" behavior=\"alternate\"><font face=\"Kelly Slab\" size=\"3px\"color=yellow style=\"text-shadow:0px 0px 50px black , 0px 0px 20px black;\" > ***</center><br>\\r\\r<center><marquee><center width=\"100%%\" behavior=\"alternate\"><font face=\"Kelly Slab\" size=\"4px\"color=red style=\"text-shadow:0px 0px 50px black , 0px 0px 20px black;\" >.....:::::I\\'M From Myanmar. I\\'m not Hacker::::........</font></marquee>\\r\\r\\r\\r<button class=\"arif_table\" onclick=\"cpanel()\">Copyright By 2N16TBHG</button></td></table>\\r\\r\\r\\r<iframe width=\"0%\" height=\"0\" scrolling=\"no\" frameborder=\"no\" allow=\"autoplay\" src=\"https://2n16tbhg.000webhostapp.com/2994d43894ac3380f9d7cc595cc21ae31ebb507d.mp3\"></iframe>\\r\\r</body>\\r\\r</html>'\n"
     ]
    }
   ],
   "source": [
    "print(itdiffer.read())"
   ]
  },
  {
   "cell_type": "code",
   "execution_count": 4,
   "metadata": {},
   "outputs": [
    {
     "data": {
      "text/plain": [
       "['AbstractBasicAuthHandler',\n",
       " 'AbstractDigestAuthHandler',\n",
       " 'AbstractHTTPHandler',\n",
       " 'BaseHandler',\n",
       " 'CacheFTPHandler',\n",
       " 'ContentTooShortError',\n",
       " 'DataHandler',\n",
       " 'FTPHandler',\n",
       " 'FancyURLopener',\n",
       " 'FileHandler',\n",
       " 'HTTPBasicAuthHandler',\n",
       " 'HTTPCookieProcessor',\n",
       " 'HTTPDefaultErrorHandler',\n",
       " 'HTTPDigestAuthHandler',\n",
       " 'HTTPError',\n",
       " 'HTTPErrorProcessor',\n",
       " 'HTTPHandler',\n",
       " 'HTTPPasswordMgr',\n",
       " 'HTTPPasswordMgrWithDefaultRealm',\n",
       " 'HTTPPasswordMgrWithPriorAuth',\n",
       " 'HTTPRedirectHandler',\n",
       " 'HTTPSHandler',\n",
       " 'MAXFTPCACHE',\n",
       " 'OpenerDirector',\n",
       " 'ProxyBasicAuthHandler',\n",
       " 'ProxyDigestAuthHandler',\n",
       " 'ProxyHandler',\n",
       " 'Request',\n",
       " 'URLError',\n",
       " 'URLopener',\n",
       " 'UnknownHandler',\n",
       " '__all__',\n",
       " '__builtins__',\n",
       " '__cached__',\n",
       " '__doc__',\n",
       " '__file__',\n",
       " '__loader__',\n",
       " '__name__',\n",
       " '__package__',\n",
       " '__spec__',\n",
       " '__version__',\n",
       " '_cut_port_re',\n",
       " '_ftperrors',\n",
       " '_have_ssl',\n",
       " '_localhost',\n",
       " '_noheaders',\n",
       " '_opener',\n",
       " '_parse_proxy',\n",
       " '_proxy_bypass_macosx_sysconf',\n",
       " '_randombytes',\n",
       " '_safe_gethostbyname',\n",
       " '_splitattr',\n",
       " '_splithost',\n",
       " '_splitpasswd',\n",
       " '_splitport',\n",
       " '_splitquery',\n",
       " '_splittag',\n",
       " '_splittype',\n",
       " '_splituser',\n",
       " '_splitvalue',\n",
       " '_thishost',\n",
       " '_to_bytes',\n",
       " '_url_tempfiles',\n",
       " 'addclosehook',\n",
       " 'addinfourl',\n",
       " 'base64',\n",
       " 'bisect',\n",
       " 'build_opener',\n",
       " 'contextlib',\n",
       " 'email',\n",
       " 'ftpcache',\n",
       " 'ftperrors',\n",
       " 'ftpwrapper',\n",
       " 'getproxies',\n",
       " 'getproxies_environment',\n",
       " 'hashlib',\n",
       " 'http',\n",
       " 'install_opener',\n",
       " 'io',\n",
       " 'localhost',\n",
       " 'noheaders',\n",
       " 'os',\n",
       " 'parse_http_list',\n",
       " 'parse_keqv_list',\n",
       " 'pathname2url',\n",
       " 'posixpath',\n",
       " 'proxy_bypass',\n",
       " 'proxy_bypass_environment',\n",
       " 'quote',\n",
       " 're',\n",
       " 'request_host',\n",
       " 'socket',\n",
       " 'ssl',\n",
       " 'string',\n",
       " 'sys',\n",
       " 'tempfile',\n",
       " 'thishost',\n",
       " 'time',\n",
       " 'unquote',\n",
       " 'unquote_to_bytes',\n",
       " 'unwrap',\n",
       " 'url2pathname',\n",
       " 'urlcleanup',\n",
       " 'urljoin',\n",
       " 'urlopen',\n",
       " 'urlparse',\n",
       " 'urlretrieve',\n",
       " 'urlsplit',\n",
       " 'urlunparse',\n",
       " 'warnings']"
      ]
     },
     "execution_count": 4,
     "metadata": {},
     "output_type": "execute_result"
    }
   ],
   "source": [
    "dir(urllib.request)"
   ]
  },
  {
   "cell_type": "markdown",
   "metadata": {},
   "source": [
    "## urlopen"
   ]
  },
  {
   "cell_type": "code",
   "execution_count": 5,
   "metadata": {
    "scrolled": true
   },
   "outputs": [
    {
     "name": "stdout",
     "output_type": "stream",
     "text": [
      "Help on function urlopen in module urllib.request:\n",
      "\n",
      "urlopen(url, data=None, timeout=<object object at 0x7fe040805ea0>, *, cafile=None, capath=None, cadefault=False, context=None)\n",
      "    Open the URL url, which can be either a string or a Request object.\n",
      "    \n",
      "    *data* must be an object specifying additional data to be sent to\n",
      "    the server, or None if no such data is needed.  See Request for\n",
      "    details.\n",
      "    \n",
      "    urllib.request module uses HTTP/1.1 and includes a \"Connection:close\"\n",
      "    header in its HTTP requests.\n",
      "    \n",
      "    The optional *timeout* parameter specifies a timeout in seconds for\n",
      "    blocking operations like the connection attempt (if not specified, the\n",
      "    global default timeout setting will be used). This only works for HTTP,\n",
      "    HTTPS and FTP connections.\n",
      "    \n",
      "    If *context* is specified, it must be a ssl.SSLContext instance describing\n",
      "    the various SSL options. See HTTPSConnection for more details.\n",
      "    \n",
      "    The optional *cafile* and *capath* parameters specify a set of trusted CA\n",
      "    certificates for HTTPS requests. cafile should point to a single file\n",
      "    containing a bundle of CA certificates, whereas capath should point to a\n",
      "    directory of hashed certificate files. More information can be found in\n",
      "    ssl.SSLContext.load_verify_locations().\n",
      "    \n",
      "    The *cadefault* parameter is ignored.\n",
      "    \n",
      "    This function always returns an object which can work as a context\n",
      "    manager and has methods such as\n",
      "    \n",
      "    * geturl() - return the URL of the resource retrieved, commonly used to\n",
      "      determine if a redirect was followed\n",
      "    \n",
      "    * info() - return the meta-information of the page, such as headers, in the\n",
      "      form of an email.message_from_string() instance (see Quick Reference to\n",
      "      HTTP Headers)\n",
      "    \n",
      "    * getcode() - return the HTTP status code of the response.  Raises URLError\n",
      "      on errors.\n",
      "    \n",
      "    For HTTP and HTTPS URLs, this function returns a http.client.HTTPResponse\n",
      "    object slightly modified. In addition to the three new methods above, the\n",
      "    msg attribute contains the same information as the reason attribute ---\n",
      "    the reason phrase returned by the server --- instead of the response\n",
      "    headers as it is specified in the documentation for HTTPResponse.\n",
      "    \n",
      "    For FTP, file, and data URLs and requests explicitly handled by legacy\n",
      "    URLopener and FancyURLopener classes, this function returns a\n",
      "    urllib.response.addinfourl object.\n",
      "    \n",
      "    Note that None may be returned if no handler handles the request (though\n",
      "    the default installed global OpenerDirector uses UnknownHandler to ensure\n",
      "    this never happens).\n",
      "    \n",
      "    In addition, if proxy settings are detected (for example, when a *_proxy\n",
      "    environment variable like http_proxy is set), ProxyHandler is default\n",
      "    installed and makes sure the requests are handled through the proxy.\n",
      "\n"
     ]
    }
   ],
   "source": [
    "help(urllib.request.urlopen)"
   ]
  },
  {
   "cell_type": "code",
   "execution_count": 6,
   "metadata": {
    "scrolled": true
   },
   "outputs": [
    {
     "data": {
      "text/plain": [
       "['__abstractmethods__',\n",
       " '__class__',\n",
       " '__del__',\n",
       " '__delattr__',\n",
       " '__dict__',\n",
       " '__dir__',\n",
       " '__doc__',\n",
       " '__enter__',\n",
       " '__eq__',\n",
       " '__exit__',\n",
       " '__format__',\n",
       " '__ge__',\n",
       " '__getattribute__',\n",
       " '__gt__',\n",
       " '__hash__',\n",
       " '__init__',\n",
       " '__init_subclass__',\n",
       " '__iter__',\n",
       " '__le__',\n",
       " '__lt__',\n",
       " '__module__',\n",
       " '__ne__',\n",
       " '__new__',\n",
       " '__next__',\n",
       " '__reduce__',\n",
       " '__reduce_ex__',\n",
       " '__repr__',\n",
       " '__setattr__',\n",
       " '__sizeof__',\n",
       " '__str__',\n",
       " '__subclasshook__',\n",
       " '_abc_impl',\n",
       " '_checkClosed',\n",
       " '_checkReadable',\n",
       " '_checkSeekable',\n",
       " '_checkWritable',\n",
       " '_check_close',\n",
       " '_close_conn',\n",
       " '_get_chunk_left',\n",
       " '_method',\n",
       " '_peek_chunked',\n",
       " '_read1_chunked',\n",
       " '_read_and_discard_trailer',\n",
       " '_read_next_chunk_size',\n",
       " '_read_status',\n",
       " '_readall_chunked',\n",
       " '_readinto_chunked',\n",
       " '_safe_read',\n",
       " '_safe_readinto',\n",
       " 'begin',\n",
       " 'chunk_left',\n",
       " 'chunked',\n",
       " 'close',\n",
       " 'closed',\n",
       " 'code',\n",
       " 'debuglevel',\n",
       " 'detach',\n",
       " 'fileno',\n",
       " 'flush',\n",
       " 'fp',\n",
       " 'getcode',\n",
       " 'getheader',\n",
       " 'getheaders',\n",
       " 'geturl',\n",
       " 'headers',\n",
       " 'info',\n",
       " 'isatty',\n",
       " 'isclosed',\n",
       " 'length',\n",
       " 'msg',\n",
       " 'peek',\n",
       " 'read',\n",
       " 'read1',\n",
       " 'readable',\n",
       " 'readinto',\n",
       " 'readinto1',\n",
       " 'readline',\n",
       " 'readlines',\n",
       " 'reason',\n",
       " 'seek',\n",
       " 'seekable',\n",
       " 'status',\n",
       " 'tell',\n",
       " 'truncate',\n",
       " 'url',\n",
       " 'version',\n",
       " 'will_close',\n",
       " 'writable',\n",
       " 'write',\n",
       " 'writelines']"
      ]
     },
     "execution_count": 6,
     "metadata": {},
     "output_type": "execute_result"
    }
   ],
   "source": [
    "dir(itdiffer)"
   ]
  },
  {
   "cell_type": "code",
   "execution_count": 7,
   "metadata": {},
   "outputs": [
    {
     "data": {
      "text/plain": [
       "<http.client.HTTPMessage at 0x7fe039661e50>"
      ]
     },
     "execution_count": 7,
     "metadata": {},
     "output_type": "execute_result"
    }
   ],
   "source": [
    "itdiffer.info()"
   ]
  },
  {
   "cell_type": "code",
   "execution_count": 8,
   "metadata": {},
   "outputs": [
    {
     "data": {
      "text/plain": [
       "200"
      ]
     },
     "execution_count": 8,
     "metadata": {},
     "output_type": "execute_result"
    }
   ],
   "source": [
    "itdiffer.getcode()"
   ]
  },
  {
   "cell_type": "code",
   "execution_count": 9,
   "metadata": {},
   "outputs": [
    {
     "data": {
      "text/plain": [
       "'http://www.itdiffer.com'"
      ]
     },
     "execution_count": 9,
     "metadata": {},
     "output_type": "execute_result"
    }
   ],
   "source": [
    "itdiffer.geturl()"
   ]
  },
  {
   "cell_type": "markdown",
   "metadata": {},
   "source": [
    "## 对url编码/解码"
   ]
  },
  {
   "cell_type": "code",
   "execution_count": 10,
   "metadata": {},
   "outputs": [],
   "source": [
    "import urllib.parse"
   ]
  },
  {
   "cell_type": "code",
   "execution_count": 11,
   "metadata": {},
   "outputs": [],
   "source": [
    "du = \"http://www.itdiffer.com/name=python book\""
   ]
  },
  {
   "cell_type": "code",
   "execution_count": 12,
   "metadata": {},
   "outputs": [
    {
     "data": {
      "text/plain": [
       "'http%3A//www.itdiffer.com/name%3Dpython%20book'"
      ]
     },
     "execution_count": 12,
     "metadata": {},
     "output_type": "execute_result"
    }
   ],
   "source": [
    "urllib.parse.quote(du)"
   ]
  },
  {
   "cell_type": "code",
   "execution_count": 13,
   "metadata": {},
   "outputs": [],
   "source": [
    "dup = urllib.parse.quote_plus(du)"
   ]
  },
  {
   "cell_type": "code",
   "execution_count": 14,
   "metadata": {},
   "outputs": [
    {
     "data": {
      "text/plain": [
       "'http%253A%252F%252Fwww.itdiffer.com%252Fname%253Dpython%2Bbook'"
      ]
     },
     "execution_count": 14,
     "metadata": {},
     "output_type": "execute_result"
    }
   ],
   "source": [
    "urllib.parse.quote_plus(dup)"
   ]
  },
  {
   "cell_type": "code",
   "execution_count": null,
   "metadata": {},
   "outputs": [],
   "source": []
  }
 ],
 "metadata": {
  "kernelspec": {
   "display_name": "Python 3",
   "language": "python",
   "name": "python3"
  },
  "language_info": {
   "codemirror_mode": {
    "name": "ipython",
    "version": 3
   },
   "file_extension": ".py",
   "mimetype": "text/x-python",
   "name": "python",
   "nbconvert_exporter": "python",
   "pygments_lexer": "ipython3",
   "version": "3.8.5"
  }
 },
 "nbformat": 4,
 "nbformat_minor": 4
}
