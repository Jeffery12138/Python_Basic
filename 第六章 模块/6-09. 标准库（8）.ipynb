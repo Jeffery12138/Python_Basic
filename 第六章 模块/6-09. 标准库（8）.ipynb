{
 "cells": [
  {
   "cell_type": "markdown",
   "metadata": {},
   "source": [
    "# JSON"
   ]
  },
  {
   "cell_type": "markdown",
   "metadata": {},
   "source": [
    "## 基本操作"
   ]
  },
  {
   "cell_type": "code",
   "execution_count": 1,
   "metadata": {},
   "outputs": [],
   "source": [
    "import json"
   ]
  },
  {
   "cell_type": "code",
   "execution_count": 2,
   "metadata": {},
   "outputs": [
    {
     "data": {
      "text/plain": [
       "['dump',\n",
       " 'dumps',\n",
       " 'load',\n",
       " 'loads',\n",
       " 'JSONDecoder',\n",
       " 'JSONDecodeError',\n",
       " 'JSONEncoder']"
      ]
     },
     "execution_count": 2,
     "metadata": {},
     "output_type": "execute_result"
    }
   ],
   "source": [
    "json.__all__"
   ]
  },
  {
   "cell_type": "markdown",
   "metadata": {},
   "source": [
    "### encoding:dumps()"
   ]
  },
  {
   "cell_type": "code",
   "execution_count": 3,
   "metadata": {},
   "outputs": [],
   "source": [
    "data = [{\"name\": \"qiwsir\", \"lang\": (\"python\", \"english\"), \"age\": 40}]"
   ]
  },
  {
   "cell_type": "code",
   "execution_count": 4,
   "metadata": {},
   "outputs": [
    {
     "data": {
      "text/plain": [
       "[{'name': 'qiwsir', 'lang': ('python', 'english'), 'age': 40}]"
      ]
     },
     "execution_count": 4,
     "metadata": {},
     "output_type": "execute_result"
    }
   ],
   "source": [
    "data"
   ]
  },
  {
   "cell_type": "code",
   "execution_count": 5,
   "metadata": {},
   "outputs": [],
   "source": [
    "data_json = json.dumps(data)"
   ]
  },
  {
   "cell_type": "code",
   "execution_count": 6,
   "metadata": {},
   "outputs": [
    {
     "data": {
      "text/plain": [
       "'[{\"name\": \"qiwsir\", \"lang\": [\"python\", \"english\"], \"age\": 40}]'"
      ]
     },
     "execution_count": 6,
     "metadata": {},
     "output_type": "execute_result"
    }
   ],
   "source": [
    "data_json"
   ]
  },
  {
   "cell_type": "code",
   "execution_count": 7,
   "metadata": {},
   "outputs": [
    {
     "data": {
      "text/plain": [
       "str"
      ]
     },
     "execution_count": 7,
     "metadata": {},
     "output_type": "execute_result"
    }
   ],
   "source": [
    "type(data_json)"
   ]
  },
  {
   "cell_type": "code",
   "execution_count": 8,
   "metadata": {},
   "outputs": [
    {
     "data": {
      "text/plain": [
       "list"
      ]
     },
     "execution_count": 8,
     "metadata": {},
     "output_type": "execute_result"
    }
   ],
   "source": [
    "type(data)"
   ]
  },
  {
   "cell_type": "markdown",
   "metadata": {},
   "source": [
    "### decoding: loads()"
   ]
  },
  {
   "cell_type": "code",
   "execution_count": 10,
   "metadata": {},
   "outputs": [],
   "source": [
    "new_data = json.loads(data_json)"
   ]
  },
  {
   "cell_type": "code",
   "execution_count": 11,
   "metadata": {},
   "outputs": [
    {
     "data": {
      "text/plain": [
       "[{'name': 'qiwsir', 'lang': ['python', 'english'], 'age': 40}]"
      ]
     },
     "execution_count": 11,
     "metadata": {},
     "output_type": "execute_result"
    }
   ],
   "source": [
    "new_data"
   ]
  },
  {
   "cell_type": "code",
   "execution_count": 12,
   "metadata": {},
   "outputs": [],
   "source": [
    "data_j = json.dumps(data, sort_keys=True, indent=2)"
   ]
  },
  {
   "cell_type": "code",
   "execution_count": 13,
   "metadata": {},
   "outputs": [
    {
     "name": "stdout",
     "output_type": "stream",
     "text": [
      "[\n",
      "  {\n",
      "    \"age\": 40,\n",
      "    \"lang\": [\n",
      "      \"python\",\n",
      "      \"english\"\n",
      "    ],\n",
      "    \"name\": \"qiwsir\"\n",
      "  }\n",
      "]\n"
     ]
    }
   ],
   "source": [
    "print(data_j)"
   ]
  },
  {
   "cell_type": "markdown",
   "metadata": {},
   "source": [
    "### 大json字符串"
   ]
  },
  {
   "cell_type": "code",
   "execution_count": 14,
   "metadata": {},
   "outputs": [],
   "source": [
    "import tempfile"
   ]
  },
  {
   "cell_type": "code",
   "execution_count": 15,
   "metadata": {},
   "outputs": [
    {
     "data": {
      "text/plain": [
       "[{'name': 'qiwsir', 'lang': ('python', 'english'), 'age': 40}]"
      ]
     },
     "execution_count": 15,
     "metadata": {},
     "output_type": "execute_result"
    }
   ],
   "source": [
    "data"
   ]
  },
  {
   "cell_type": "code",
   "execution_count": 16,
   "metadata": {},
   "outputs": [],
   "source": [
    "f = tempfile.NamedTemporaryFile(mode=\"w+\")"
   ]
  },
  {
   "cell_type": "code",
   "execution_count": 17,
   "metadata": {},
   "outputs": [],
   "source": [
    "json.dump(data, f)"
   ]
  },
  {
   "cell_type": "code",
   "execution_count": 18,
   "metadata": {},
   "outputs": [],
   "source": [
    "f.flush()"
   ]
  },
  {
   "cell_type": "code",
   "execution_count": 19,
   "metadata": {},
   "outputs": [
    {
     "name": "stdout",
     "output_type": "stream",
     "text": [
      "[{\"name\": \"qiwsir\", \"lang\": [\"python\", \"english\"], \"age\": 40}]\n"
     ]
    }
   ],
   "source": [
    "print(open(f.name, \"r\").read())"
   ]
  },
  {
   "cell_type": "markdown",
   "metadata": {},
   "source": [
    "### 自定义数据类型"
   ]
  },
  {
   "cell_type": "code",
   "execution_count": 34,
   "metadata": {},
   "outputs": [
    {
     "name": "stdout",
     "output_type": "stream",
     "text": [
      "People Object name : Peter, age : 40\n",
      "{'__class__': 'Person', '__module__': '__main__', 'name': 'Peter', 'age': 40}\n",
      "<class '__main__.Person'> People Object name : Peter, age : 40\n",
      "{\"__class__\": \"Person\", \"__module__\": \"__main__\", \"name\": \"Peter\", \"age\": 40}\n",
      "People Object name : Peter, age : 40\n"
     ]
    }
   ],
   "source": [
    "#！/usr/bin/env python3\n",
    "# coding=utf-8\n",
    "\n",
    "import json\n",
    "\n",
    "class Person:\n",
    "    def __init__(self, name, age):\n",
    "        self.name = name\n",
    "        self.age = age\n",
    "    \n",
    "    def __repr__(self):\n",
    "        return \"People Object name : %s, age : %d\" % (self.name, self.age)\n",
    "    \n",
    "\n",
    "def object2dict(obj):\n",
    "    \"\"\"convert Person to dict\"\"\"\n",
    "    d = {}\n",
    "    d['__class__'] = obj.__class__.__name__\n",
    "    d['__module__'] = obj.__module__\n",
    "    d.update(obj.__dict__)\n",
    "    return d\n",
    "\n",
    "def dict2object(d):\n",
    "    \"\"\"convert dict to Person\"\"\"\n",
    "    if '__class__' in d:\n",
    "        class_name = d.pop(\"__class__\")\n",
    "        module_name = d.pop(\"__module__\")\n",
    "        module = __import__(module_name)\n",
    "        class_ = getattr(module, class_name)\n",
    "        args = dict((key, value) for key, value in d.items())\n",
    "        # get args\n",
    "        inst = class_(**args)\n",
    "        # create new instance\n",
    "    else:\n",
    "        inst = d\n",
    "    return inst\n",
    "\n",
    "\n",
    "if __name__ == '__main__':\n",
    "    p = Person(\"Peter\", 40)\n",
    "    print(p)\n",
    "    d = object2dict(p)\n",
    "    print(d)\n",
    "    o = dict2object(d)\n",
    "    print(type(o), o)\n",
    "    \n",
    "    dump = json.dumps(p, default=object2dict)\n",
    "    print(dump)\n",
    "    load = json.loads(dump, object_hook=dict2object)\n",
    "    print(load)"
   ]
  },
  {
   "cell_type": "code",
   "execution_count": null,
   "metadata": {},
   "outputs": [],
   "source": []
  },
  {
   "cell_type": "code",
   "execution_count": null,
   "metadata": {},
   "outputs": [],
   "source": []
  }
 ],
 "metadata": {
  "kernelspec": {
   "display_name": "Python 3",
   "language": "python",
   "name": "python3"
  },
  "language_info": {
   "codemirror_mode": {
    "name": "ipython",
    "version": 3
   },
   "file_extension": ".py",
   "mimetype": "text/x-python",
   "name": "python",
   "nbconvert_exporter": "python",
   "pygments_lexer": "ipython3",
   "version": "3.8.5"
  }
 },
 "nbformat": 4,
 "nbformat_minor": 4
}
