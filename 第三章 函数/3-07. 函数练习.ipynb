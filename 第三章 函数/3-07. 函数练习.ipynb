{
 "cells": [
  {
   "cell_type": "markdown",
   "metadata": {},
   "source": [
    "# 解一元二次方程"
   ]
  },
  {
   "cell_type": "code",
   "execution_count": 12,
   "metadata": {},
   "outputs": [
    {
     "name": "stdout",
     "output_type": "stream",
     "text": [
      "a quadratic equation: x^2 + 2x + 1 = 0\n",
      "the result is: -1.0\n"
     ]
    }
   ],
   "source": [
    "#！/usr/bin/env python\n",
    "# coding=utf-8\n",
    "\n",
    "\"\"\"\n",
    "Solving a quadratic equation\n",
    "\"\"\"\n",
    "import math\n",
    "\n",
    "def quadratic_equation(a, b, c):\n",
    "    \n",
    "    delta = b ** 2 - 4 * a * c\n",
    "\n",
    "    if delta < 0:\n",
    "        return False\n",
    "    elif delta == 0:\n",
    "        return -(b/(2*a))\n",
    "    else:\n",
    "        sqrt_delta = math.sqrt(delta)\n",
    "        x1 = (-b + sqrt_delta) / (2*a)\n",
    "        x2 = (-b - sqrt_delat) / (2*a)\n",
    "        return x1, x2\n",
    "    \n",
    "if __name__ == '__main__':\n",
    "    print(\"a quadratic equation: x^2 + 2x + 1 = 0\")\n",
    "    coefficients = (1, 2, 1)\n",
    "    roots = quadratic_equation(*coefficients)\n",
    "    if roots:\n",
    "        print(\"the result is: {}\".format(roots))\n",
    "    else:\n",
    "        print(\"this equation has no solution.\")"
   ]
  },
  {
   "cell_type": "markdown",
   "metadata": {},
   "source": [
    "# 统计考试成绩"
   ]
  },
  {
   "cell_type": "code",
   "execution_count": 21,
   "metadata": {},
   "outputs": [
    {
     "name": "stdout",
     "output_type": "stream",
     "text": [
      "the average score is: 80.22\n",
      "list of the scores: [('facebook', 99), ('apple', 99), ('amazon', 99), ('google', 98), ('alibaba', 80), ('android', 76), ('IBM', 70), ('baidu', 52), ('yahoo', 49)]\n",
      "Xueba is: [('facebook', 99), ('apple', 99), ('amazon', 99)]\n",
      "Xuezha is: [('yahoo', 49)]\n"
     ]
    }
   ],
   "source": [
    "#！/usr/bin/env python\n",
    "# coding=utf-8\n",
    "\n",
    "\"\"\"\n",
    "统计考试成绩.\n",
    "\"\"\"\n",
    "\n",
    "def average_score(scores):\n",
    "    \"\"\"\n",
    "    统计平均分.\n",
    "    \"\"\"\n",
    "    score_values = scores.values()\n",
    "    sum_scores = sum(score_values)\n",
    "    average = round(sum_scores/len(score_values), 2)\n",
    "    return average\n",
    "\n",
    "def sorted_score(scores):\n",
    "    \"\"\"\n",
    "    对成绩从高到低排序.\n",
    "    \"\"\"\n",
    "    score_lst = [(scores[k], k) for k in scores]\n",
    "    sort_lst = sorted(score_lst, reverse=True)\n",
    "    return [(i[1], i[0]) for i in sort_lst]\n",
    "\n",
    "def max_score(scores):\n",
    "    \"\"\"\n",
    "    成绩最高的姓名和分数.\n",
    "    \"\"\"\n",
    "    lst = sorted_score(scores)\n",
    "    max_score = lst[0][1]\n",
    "    return [(i[0], i[1]) for i in lst if i[1]==max_score]\n",
    "\n",
    "def min_score(scores):\n",
    "    \"\"\"\n",
    "    成绩最低的姓名和分数.\n",
    "    \"\"\"\n",
    "    lst = sorted_score(scores)\n",
    "    min_score = lst[-1][1]\n",
    "    #min_socre = lst[len(lst)-1][1]\n",
    "    return [(i[0], i[1]) for i in lst if i[1]==min_score]\n",
    "\n",
    "if __name__ == '__main__':\n",
    "    examine_scores = {\n",
    "        \"google\": 98,\n",
    "        \"facebook\": 99,\n",
    "        \"baidu\": 52,\n",
    "        \"alibaba\": 80,\n",
    "        \"yahoo\": 49,\n",
    "        \"IBM\": 70,\n",
    "        \"android\": 76,\n",
    "        \"apple\": 99,\n",
    "        \"amazon\": 99\n",
    "    }\n",
    "    \n",
    "    ave = average_score(examine_scores)\n",
    "    print(\"the average score is: {}\".format(ave))\n",
    "    \n",
    "    sor = sorted_score(examine_scores)\n",
    "    print(\"list of the scores: {}\".format(sor))\n",
    "    \n",
    "    xueba = max_score(examine_scores)\n",
    "    print(\"Xueba is: {}\".format(xueba))\n",
    "    \n",
    "    xuezha = min_score(examine_scores)\n",
    "    print(\"Xuezha is: {}\".format(xuezha))"
   ]
  },
  {
   "cell_type": "markdown",
   "metadata": {},
   "source": [
    "# 找素数"
   ]
  },
  {
   "cell_type": "code",
   "execution_count": 22,
   "metadata": {},
   "outputs": [
    {
     "name": "stdout",
     "output_type": "stream",
     "text": [
      "[2, 3, 5, 7, 11, 13, 17, 19, 23, 29, 31, 37, 41, 43, 47, 53, 59, 61, 67, 71, 73, 79, 83, 89, 97]\n"
     ]
    }
   ],
   "source": [
    "#！/usr/bin/env python\n",
    "# coding=utf-8\n",
    "\n",
    "\"\"\"\n",
    "寻找素数\n",
    "\"\"\"\n",
    "\n",
    "import math\n",
    "\n",
    "def is_prime(n):\n",
    "    \"\"\"\n",
    "    判断n是否为素数\n",
    "    \"\"\"\n",
    "    if n <= 1:\n",
    "        return False\n",
    "    for i in range(2, int(math.sqrt(n)) + 1):\n",
    "        if n % i == 0:\n",
    "            return False\n",
    "    return True\n",
    "\n",
    "if __name__ == '__main__':\n",
    "    primes = [i for i in range(2, 101) if is_prime(i)]\n",
    "    print(primes)"
   ]
  },
  {
   "cell_type": "code",
   "execution_count": null,
   "metadata": {},
   "outputs": [],
   "source": []
  }
 ],
 "metadata": {
  "kernelspec": {
   "display_name": "Python 3",
   "language": "python",
   "name": "python3"
  },
  "language_info": {
   "codemirror_mode": {
    "name": "ipython",
    "version": 3
   },
   "file_extension": ".py",
   "mimetype": "text/x-python",
   "name": "python",
   "nbconvert_exporter": "python",
   "pygments_lexer": "ipython3",
   "version": "3.8.5"
  }
 },
 "nbformat": 4,
 "nbformat_minor": 4
}
