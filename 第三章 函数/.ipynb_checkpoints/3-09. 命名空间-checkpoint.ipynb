{
 "cells": [
  {
   "cell_type": "markdown",
   "metadata": {},
   "source": [
    "# 全局变量和局部变量"
   ]
  },
  {
   "cell_type": "code",
   "execution_count": 1,
   "metadata": {},
   "outputs": [
    {
     "name": "stdout",
     "output_type": "stream",
     "text": [
      "this x is in the funcx:--> 9\n",
      "------------------------------\n",
      "this x is out of funcx:--> 2\n"
     ]
    }
   ],
   "source": [
    "x = 2\n",
    "\n",
    "def funcx():\n",
    "    x = 9\n",
    "    print(\"this x is in the funcx:-->\", x)\n",
    "    \n",
    "funcx()\n",
    "print(\"------------------------------\")\n",
    "print(\"this x is out of funcx:-->\", x)"
   ]
  },
  {
   "cell_type": "code",
   "execution_count": 2,
   "metadata": {
    "scrolled": true
   },
   "outputs": [
    {
     "name": "stdout",
     "output_type": "stream",
     "text": [
      "this x is in the funcx:--> 9\n",
      "-------------------------------\n",
      "this x is out of funcx:--> 9\n"
     ]
    }
   ],
   "source": [
    "x = 2\n",
    "\n",
    "def funcx():\n",
    "    global x\n",
    "    x = 9\n",
    "    print(\"this x is in the funcx:-->\", x)\n",
    "    \n",
    "funcx()\n",
    "print(\"-------------------------------\")\n",
    "print(\"this x is out of funcx:-->\", x)"
   ]
  },
  {
   "cell_type": "markdown",
   "metadata": {},
   "source": [
    "# 作用域"
   ]
  },
  {
   "cell_type": "code",
   "execution_count": 3,
   "metadata": {},
   "outputs": [
    {
     "name": "stdout",
     "output_type": "stream",
     "text": [
      "inner_foo, a= 20\n",
      "outer_foo, a= 10\n",
      "a= 30\n"
     ]
    }
   ],
   "source": [
    "#！/usr/bin/env python\n",
    "# coding=utf-8\n",
    "\n",
    "def outer_foo():\n",
    "    a = 10\n",
    "    def inner_foo():\n",
    "        a = 20\n",
    "        print(\"inner_foo, a=\", a)\n",
    "    \n",
    "    inner_foo()\n",
    "    print(\"outer_foo, a=\", a)\n",
    "\n",
    "a = 30\n",
    "outer_foo()\n",
    "print(\"a=\", a)"
   ]
  },
  {
   "cell_type": "markdown",
   "metadata": {},
   "source": [
    "# 命名空间"
   ]
  },
  {
   "cell_type": "code",
   "execution_count": 4,
   "metadata": {
    "scrolled": false
   },
   "outputs": [
    {
     "name": "stdout",
     "output_type": "stream",
     "text": [
      "The Zen of Python, by Tim Peters\n",
      "\n",
      "Beautiful is better than ugly.\n",
      "Explicit is better than implicit.\n",
      "Simple is better than complex.\n",
      "Complex is better than complicated.\n",
      "Flat is better than nested.\n",
      "Sparse is better than dense.\n",
      "Readability counts.\n",
      "Special cases aren't special enough to break the rules.\n",
      "Although practicality beats purity.\n",
      "Errors should never pass silently.\n",
      "Unless explicitly silenced.\n",
      "In the face of ambiguity, refuse the temptation to guess.\n",
      "There should be one-- and preferably only one --obvious way to do it.\n",
      "Although that way may not be obvious at first unless you're Dutch.\n",
      "Now is better than never.\n",
      "Although never is often better than *right* now.\n",
      "If the implementation is hard to explain, it's a bad idea.\n",
      "If the implementation is easy to explain, it may be a good idea.\n",
      "Namespaces are one honking great idea -- let's do more of those!\n"
     ]
    }
   ],
   "source": [
    "import this"
   ]
  },
  {
   "cell_type": "code",
   "execution_count": 5,
   "metadata": {},
   "outputs": [
    {
     "name": "stdout",
     "output_type": "stream",
     "text": [
      "{'num': 221, 'str': 'qiwsir.github.io', 'name': 'qiwsir'}\n"
     ]
    }
   ],
   "source": [
    "def foo(num, str):\n",
    "    name = \"qiwsir\"\n",
    "    print(locals())\n",
    "    \n",
    "foo(221, \"qiwsir.github.io\")"
   ]
  },
  {
   "cell_type": "code",
   "execution_count": null,
   "metadata": {},
   "outputs": [],
   "source": []
  }
 ],
 "metadata": {
  "kernelspec": {
   "display_name": "Python 3",
   "language": "python",
   "name": "python3"
  },
  "language_info": {
   "codemirror_mode": {
    "name": "ipython",
    "version": 3
   },
   "file_extension": ".py",
   "mimetype": "text/x-python",
   "name": "python",
   "nbconvert_exporter": "python",
   "pygments_lexer": "ipython3",
   "version": "3.8.5"
  }
 },
 "nbformat": 4,
 "nbformat_minor": 4
}
