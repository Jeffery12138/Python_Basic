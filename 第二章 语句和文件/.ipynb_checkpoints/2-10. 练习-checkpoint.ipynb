{
 "cells": [
  {
   "cell_type": "markdown",
   "metadata": {},
   "source": [
    "# 练习1"
   ]
  },
  {
   "cell_type": "code",
   "execution_count": 20,
   "metadata": {},
   "outputs": [
    {
     "name": "stdout",
     "output_type": "stream",
     "text": [
      "[1, 2, 3, 4, 5, 6, 7, 8, 9, 0]\n",
      "[2, 3, 4, 5, 6, 7, 8, 9, 0, 1]\n"
     ]
    }
   ],
   "source": [
    "#! /usr/bin/env python\n",
    "# coding=utf-8\n",
    "\n",
    "raw = [1, 2, 3, 4, 5, 6, 7, 8, 9, 0]\n",
    "print(raw)\n",
    "\n",
    "b = raw.pop(0)\n",
    "raw.append(b)\n",
    "print(raw)"
   ]
  },
  {
   "cell_type": "markdown",
   "metadata": {},
   "source": [
    "# 练习2"
   ]
  },
  {
   "cell_type": "code",
   "execution_count": 2,
   "metadata": {},
   "outputs": [],
   "source": [
    "import random"
   ]
  },
  {
   "cell_type": "code",
   "execution_count": 3,
   "metadata": {
    "scrolled": true
   },
   "outputs": [
    {
     "data": {
      "text/plain": [
       "['BPF',\n",
       " 'LOG4',\n",
       " 'NV_MAGICCONST',\n",
       " 'RECIP_BPF',\n",
       " 'Random',\n",
       " 'SG_MAGICCONST',\n",
       " 'SystemRandom',\n",
       " 'TWOPI',\n",
       " '_Sequence',\n",
       " '_Set',\n",
       " '__all__',\n",
       " '__builtins__',\n",
       " '__cached__',\n",
       " '__doc__',\n",
       " '__file__',\n",
       " '__loader__',\n",
       " '__name__',\n",
       " '__package__',\n",
       " '__spec__',\n",
       " '_accumulate',\n",
       " '_acos',\n",
       " '_bisect',\n",
       " '_ceil',\n",
       " '_cos',\n",
       " '_e',\n",
       " '_exp',\n",
       " '_inst',\n",
       " '_log',\n",
       " '_os',\n",
       " '_pi',\n",
       " '_random',\n",
       " '_repeat',\n",
       " '_sha512',\n",
       " '_sin',\n",
       " '_sqrt',\n",
       " '_test',\n",
       " '_test_generator',\n",
       " '_urandom',\n",
       " '_warn',\n",
       " 'betavariate',\n",
       " 'choice',\n",
       " 'choices',\n",
       " 'expovariate',\n",
       " 'gammavariate',\n",
       " 'gauss',\n",
       " 'getrandbits',\n",
       " 'getstate',\n",
       " 'lognormvariate',\n",
       " 'normalvariate',\n",
       " 'paretovariate',\n",
       " 'randint',\n",
       " 'random',\n",
       " 'randrange',\n",
       " 'sample',\n",
       " 'seed',\n",
       " 'setstate',\n",
       " 'shuffle',\n",
       " 'triangular',\n",
       " 'uniform',\n",
       " 'vonmisesvariate',\n",
       " 'weibullvariate']"
      ]
     },
     "execution_count": 3,
     "metadata": {},
     "output_type": "execute_result"
    }
   ],
   "source": [
    "dir(random)"
   ]
  },
  {
   "cell_type": "code",
   "execution_count": 5,
   "metadata": {},
   "outputs": [
    {
     "name": "stdout",
     "output_type": "stream",
     "text": [
      "[33, 7, 28, 78, 60, 54, 23, 99, 44, 96, 38, 47, 50, 41, 81, 39, 41, 7, 81, 85, 78, 30, 3, 42, 81, 25, 86, 94, 14, 19, 45, 96, 24, 91, 41, 100, 42, 93, 70, 42]\n",
      "The average score is:53.7\n",
      "There are 23 students less than average.\n",
      "[100, 99, 96, 96, 94, 93, 91, 86, 85, 81, 81, 81, 78, 78, 70, 60, 54, 50, 47, 45, 44, 42, 42, 42, 41, 41, 41, 39, 38, 33, 30, 28, 25, 24, 23, 19, 14, 7, 7, 3]\n"
     ]
    }
   ],
   "source": [
    "#! /usr/bin/env python\n",
    "# coding=utf-8\n",
    "\n",
    "import random\n",
    "# 创建一个随机数列表\n",
    "score = [random.randint(0, 100) for i in range(40)]\n",
    "print(score)\n",
    "\n",
    "num = len(score)\n",
    "sum_score = sum(score)\n",
    "ave_num = sum_score / num\n",
    "less_ave = len([i for i in score if i < ave_num])\n",
    "\n",
    "print(\"The average score is:{:.1f}\".format(ave_num))\n",
    "print(\"There are {} students less than average.\".format(less_ave))\n",
    "\n",
    "sorted_score = sorted(score, reverse=True)\n",
    "print(sorted_score)"
   ]
  },
  {
   "cell_type": "markdown",
   "metadata": {},
   "source": [
    "# 练习3"
   ]
  },
  {
   "cell_type": "code",
   "execution_count": 7,
   "metadata": {},
   "outputs": [
    {
     "name": "stdout",
     "output_type": "stream",
     "text": [
      "I love  code\n",
      "['I', 'love', '', 'code']\n",
      "['I', 'love', 'code']\n",
      "I love code\n"
     ]
    }
   ],
   "source": [
    "#! /usr/bin/env/ python\n",
    "# coding=utf-8\n",
    "\n",
    "string = \"I love  code\"\n",
    "print(string)\n",
    "\n",
    "str_lst = string.split(\" \")\n",
    "print(str_lst)\n",
    "\n",
    "words = [s.strip() for s in str_lst if s != '']\n",
    "print(words)\n",
    "\n",
    "new_string = \" \".join(words)\n",
    "print(new_string)"
   ]
  },
  {
   "cell_type": "markdown",
   "metadata": {},
   "source": [
    "# 练习4"
   ]
  },
  {
   "cell_type": "code",
   "execution_count": 12,
   "metadata": {},
   "outputs": [
    {
     "name": "stdout",
     "output_type": "stream",
     "text": [
      "354224848179261915075\n"
     ]
    }
   ],
   "source": [
    "#! /usr/bin/env python\n",
    "# coding=utf-8\n",
    "\n",
    "a, b = 0, 1\n",
    "for i in range(100):\n",
    "    a, b = b, a + b\n",
    "\n",
    "print(a)"
   ]
  },
  {
   "cell_type": "markdown",
   "metadata": {},
   "source": [
    "# 练习5"
   ]
  },
  {
   "cell_type": "code",
   "execution_count": 14,
   "metadata": {},
   "outputs": [
    {
     "name": "stdout",
     "output_type": "stream",
     "text": [
      "Enter an interger >= 0: 4\n",
      "4 factorial is 24\n"
     ]
    }
   ],
   "source": [
    "#！/usr/bin/env python\n",
    "# coding=utf-8\n",
    "\n",
    "n = int(input(\"Enter an interger >= 0: \"))\n",
    "\n",
    "fact = 1\n",
    "\n",
    "for i in range(2, n + 1):\n",
    "    fact = fact * i\n",
    "    \n",
    "print(str(n) + \" factorial is \" + str(fact))"
   ]
  },
  {
   "cell_type": "code",
   "execution_count": 18,
   "metadata": {},
   "outputs": [
    {
     "name": "stdout",
     "output_type": "stream",
     "text": [
      "Enter an interger >= 0: 24\n",
      "24 factorial is 620448401733239439360000\n"
     ]
    }
   ],
   "source": [
    "#! /usr/bin/env python\n",
    "# coding=utf-8\n",
    "\n",
    "n = int(input(\"Enter an interger >= 0: \"))\n",
    "\n",
    "fact = 1\n",
    "i = 2\n",
    "\n",
    "while i <= n:\n",
    "    fact = fact * i\n",
    "    i = i + 1\n",
    "    \n",
    "print(str(n) + \" factorial is \" + str(fact))"
   ]
  },
  {
   "cell_type": "code",
   "execution_count": null,
   "metadata": {},
   "outputs": [],
   "source": []
  }
 ],
 "metadata": {
  "kernelspec": {
   "display_name": "Python 3",
   "language": "python",
   "name": "python3"
  },
  "language_info": {
   "codemirror_mode": {
    "name": "ipython",
    "version": 3
   },
   "file_extension": ".py",
   "mimetype": "text/x-python",
   "name": "python",
   "nbconvert_exporter": "python",
   "pygments_lexer": "ipython3",
   "version": "3.8.5"
  }
 },
 "nbformat": 4,
 "nbformat_minor": 4
}
