{
 "cells": [
  {
   "cell_type": "markdown",
   "metadata": {},
   "source": [
    "# 处理多个异常"
   ]
  },
  {
   "cell_type": "code",
   "execution_count": 1,
   "metadata": {},
   "outputs": [
    {
     "name": "stdout",
     "output_type": "stream",
     "text": [
      "this is a division program.\n",
      "input 'c' continue, otherwise logout:c\n",
      "first number:3\n",
      "second number:hello\n",
      "please input number.\n",
      "*************************\n",
      "this is a division program.\n",
      "input 'c' continue, otherwise logout:c\n",
      "first number:4\n",
      "second number:0\n",
      "The second number can't be zero!\n",
      "this is a division program.\n",
      "input 'c' continue, otherwise logout:c\n",
      "first number:\"a\"\n",
      "second number:4\n",
      "please input number.\n",
      "*************************\n",
      "this is a division program.\n",
      "input 'c' continue, otherwise logout:d\n"
     ]
    }
   ],
   "source": [
    "#! /usr/bin/env python\n",
    "# coding=utf-8\n",
    "\n",
    "while 1:\n",
    "    print(\"this is a division program.\")\n",
    "    c = input(\"input 'c' continue, otherwise logout:\")\n",
    "    if c == \"c\":\n",
    "        a = input(\"first number:\")\n",
    "        b = input(\"second number:\")\n",
    "        try:\n",
    "            print(float(a) / float(b))\n",
    "            print(\"*************************\")\n",
    "        except ZeroDivisionError:\n",
    "            print(\"The second number can't be zero!\")\n",
    "        except ValueError:\n",
    "            print(\"please input number.\")\n",
    "            print(\"*************************\")\n",
    "    else:\n",
    "        break"
   ]
  },
  {
   "cell_type": "code",
   "execution_count": 2,
   "metadata": {},
   "outputs": [
    {
     "name": "stdout",
     "output_type": "stream",
     "text": [
      "this is a division program.\n",
      "input 'c' continue, otherwise logout:c\n",
      "first number:ds\n",
      "second number:4\n",
      "please input rightly.\n",
      "*************************\n",
      "this is a division program.\n",
      "input 'c' continue, otherwise logout:c\n",
      "first number:45\n",
      "second number:0\n",
      "please input rightly.\n",
      "*************************\n",
      "this is a division program.\n",
      "input 'c' continue, otherwise logout:d\n"
     ]
    }
   ],
   "source": [
    "#! /usr/bin/env python\n",
    "# coding=utf-8\n",
    "\n",
    "while 1:\n",
    "    print(\"this is a division program.\")\n",
    "    c = input(\"input 'c' continue, otherwise logout:\")\n",
    "    if c == \"c\":\n",
    "        a = input(\"first number:\")\n",
    "        b = input(\"second number:\")\n",
    "        try:\n",
    "            print(float(a) / float(b))\n",
    "            print(\"*************************\")\n",
    "        except (ZeroDivisionError, ValueError):\n",
    "            print(\"please input rightly.\")\n",
    "            print(\"*************************\")\n",
    "    else:\n",
    "        break"
   ]
  },
  {
   "cell_type": "code",
   "execution_count": 4,
   "metadata": {},
   "outputs": [
    {
     "name": "stdout",
     "output_type": "stream",
     "text": [
      "this is a division program.\n",
      "input 'c' continue, otherwise logout:c\n",
      "first number:45\n",
      "second number:0\n",
      "float division by zero\n",
      "***********************\n",
      "this is a division program.\n",
      "input 'c' continue, otherwise logout:c\n",
      "first number:a\n",
      "second number:0\n",
      "could not convert string to float: 'a'\n",
      "***********************\n",
      "this is a division program.\n",
      "input 'c' continue, otherwise logout:d\n"
     ]
    }
   ],
   "source": [
    "#! /usr/bin/env python\n",
    "# coding=utf-8\n",
    "\n",
    "while 1:\n",
    "    print(\"this is a division program.\")\n",
    "    c = input(\"input 'c' continue, otherwise logout:\")\n",
    "    if c == 'c':\n",
    "        a = input(\"first number:\")\n",
    "        b = input(\"second number:\")\n",
    "        try:\n",
    "            print(float(a) / float(b))\n",
    "            print(\"***********************\")\n",
    "        except (ZeroDivisionError, ValueError) as e:\n",
    "            print(e)\n",
    "            print(\"***********************\")\n",
    "    else:\n",
    "        break"
   ]
  },
  {
   "cell_type": "markdown",
   "metadata": {},
   "source": [
    "## else"
   ]
  },
  {
   "cell_type": "code",
   "execution_count": 5,
   "metadata": {},
   "outputs": [
    {
     "name": "stdout",
     "output_type": "stream",
     "text": [
      "I am try\n",
      "I am else\n"
     ]
    }
   ],
   "source": [
    "try:\n",
    "    print(\"I am try\")\n",
    "except:\n",
    "    print(\"I am except\")\n",
    "else:\n",
    "    print(\"I am else\")"
   ]
  },
  {
   "cell_type": "code",
   "execution_count": 6,
   "metadata": {},
   "outputs": [
    {
     "name": "stdout",
     "output_type": "stream",
     "text": [
      "I am try\n",
      "I am else\n",
      "I am finally\n"
     ]
    }
   ],
   "source": [
    "try:\n",
    "    print(\"I am try\")\n",
    "except:\n",
    "    print(\"I am except\")\n",
    "else:\n",
    "    print(\"I am else\")\n",
    "finally:\n",
    "    print(\"I am finally\")"
   ]
  },
  {
   "cell_type": "code",
   "execution_count": 7,
   "metadata": {},
   "outputs": [
    {
     "name": "stdout",
     "output_type": "stream",
     "text": [
      "I am except\n",
      "I am finally\n"
     ]
    }
   ],
   "source": [
    "try:\n",
    "    print(1 / 0)\n",
    "except:\n",
    "    print(\"I am except\")\n",
    "else:\n",
    "    print(\"I am else\")\n",
    "finally:\n",
    "    print(\"I am finally\")"
   ]
  },
  {
   "cell_type": "code",
   "execution_count": 12,
   "metadata": {},
   "outputs": [
    {
     "name": "stdout",
     "output_type": "stream",
     "text": [
      "first number:34\n",
      "second number:0\n",
      "float division by zero\n",
      "try again\n",
      "first number:45\n",
      "second number:s\n",
      "could not convert string to float: 's'\n",
      "try again\n",
      "first number:45\n",
      "second number:9\n",
      "5.0\n",
      "input 'c' to continue, otherwise logout:c\n",
      "first number:ds\n",
      "second number:89\n",
      "could not convert string to float: 'ds'\n",
      "try again\n",
      "first number:89\n",
      "second number:98\n",
      "0.9081632653061225\n",
      "input 'c' to continue, otherwise logout:d\n"
     ]
    }
   ],
   "source": [
    "#! /usr/bin/env python\n",
    "# coding=utf-8\n",
    "\n",
    "while True:\n",
    "    a = input(\"first number:\")\n",
    "    b = input(\"second number:\")\n",
    "    try:\n",
    "        print(float(a) / float(b))\n",
    "    except (ZeroDivisionError, ValueError) as e:\n",
    "        print(e)\n",
    "        print(\"try again\")\n",
    "    else:\n",
    "        c = input(\"input 'c' to continue, otherwise logout:\")\n",
    "        if c != 'c':\n",
    "            break"
   ]
  },
  {
   "cell_type": "markdown",
   "metadata": {},
   "source": [
    "## finally"
   ]
  },
  {
   "cell_type": "code",
   "execution_count": 16,
   "metadata": {},
   "outputs": [],
   "source": [
    "x = 10"
   ]
  },
  {
   "cell_type": "code",
   "execution_count": 17,
   "metadata": {},
   "outputs": [
    {
     "name": "stdout",
     "output_type": "stream",
     "text": [
      "division by zero\n",
      "del x\n"
     ]
    }
   ],
   "source": [
    "try:\n",
    "    x = 1 / 0\n",
    "except Exception as e:\n",
    "    print(e)\n",
    "finally:\n",
    "    print(\"del x\")\n",
    "    del x"
   ]
  },
  {
   "cell_type": "code",
   "execution_count": 18,
   "metadata": {},
   "outputs": [
    {
     "ename": "NameError",
     "evalue": "name 'x' is not defined",
     "output_type": "error",
     "traceback": [
      "\u001b[0;31m---------------------------------------------------------------------------\u001b[0m",
      "\u001b[0;31mNameError\u001b[0m                                 Traceback (most recent call last)",
      "\u001b[0;32m<ipython-input-18-6fcf9dfbd479>\u001b[0m in \u001b[0;36m<module>\u001b[0;34m\u001b[0m\n\u001b[0;32m----> 1\u001b[0;31m \u001b[0mx\u001b[0m\u001b[0;34m\u001b[0m\u001b[0;34m\u001b[0m\u001b[0m\n\u001b[0m",
      "\u001b[0;31mNameError\u001b[0m: name 'x' is not defined"
     ]
    }
   ],
   "source": [
    "x"
   ]
  },
  {
   "cell_type": "code",
   "execution_count": null,
   "metadata": {},
   "outputs": [],
   "source": []
  }
 ],
 "metadata": {
  "kernelspec": {
   "display_name": "Python 3",
   "language": "python",
   "name": "python3"
  },
  "language_info": {
   "codemirror_mode": {
    "name": "ipython",
    "version": 3
   },
   "file_extension": ".py",
   "mimetype": "text/x-python",
   "name": "python",
   "nbconvert_exporter": "python",
   "pygments_lexer": "ipython3",
   "version": "3.8.5"
  }
 },
 "nbformat": 4,
 "nbformat_minor": 4
}
